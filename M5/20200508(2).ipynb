{
 "cells": [
  {
   "cell_type": "code",
   "execution_count": 1,
   "metadata": {},
   "outputs": [],
   "source": [
    "import warnings\n",
    "warnings.filterwarnings('ignore')\n",
    "import pandas as pd\n",
    "import numpy as np\n",
    "import matplotlib.pyplot as plt\n",
    "import gc\n",
    "import os\n",
    "from tqdm.notebook import tqdm"
   ]
  },
  {
   "cell_type": "code",
   "execution_count": 2,
   "metadata": {},
   "outputs": [],
   "source": [
    "#!pip install matplotlib"
   ]
  },
  {
   "cell_type": "code",
   "execution_count": 3,
   "metadata": {},
   "outputs": [],
   "source": [
    "path = \"./\"\n",
    "\n",
    "calendar = pd.read_csv(os.path.join(path, \"calendar.csv\"))\n",
    "selling_prices = pd.read_csv(os.path.join(path, \"sell_prices.csv\"))\n",
    "sample_submission = pd.read_csv(os.path.join(path, \"sample_submission.csv\"))\n",
    "sales = pd.read_csv(os.path.join(path, \"sales_train_validation.csv\"))"
   ]
  },
  {
   "cell_type": "code",
   "execution_count": 4,
   "metadata": {},
   "outputs": [
    {
     "name": "stdout",
     "output_type": "stream",
     "text": [
      "20200508(1).ipynb   sales.csv\t\t\t    sell_prices.csv.zip\n",
      "20200508(2).ipynb   sales_train_validation.csv\t    submission.csv\n",
      "Untitled1.ipynb     sales_train_validation.csv.zip  train.bin\n",
      "calendar.csv\t    sample_submission.csv\t    url.txt\n",
      "docker_command.txt  sample_submission.csv.zip\t    valid_data_label.npz\n",
      "model.txt\t    sell_prices.csv\n"
     ]
    }
   ],
   "source": [
    "!ls"
   ]
  },
  {
   "cell_type": "code",
   "execution_count": 5,
   "metadata": {},
   "outputs": [],
   "source": [
    "#!apt-get install unzip"
   ]
  },
  {
   "cell_type": "code",
   "execution_count": 6,
   "metadata": {},
   "outputs": [],
   "source": [
    "#!unzip sales_train_validation.csv.zip"
   ]
  },
  {
   "cell_type": "code",
   "execution_count": 7,
   "metadata": {},
   "outputs": [],
   "source": [
    "#!unzip sample_submission.csv.zip"
   ]
  },
  {
   "cell_type": "code",
   "execution_count": 8,
   "metadata": {},
   "outputs": [],
   "source": [
    "#!unzip sell_prices.csv.zip"
   ]
  },
  {
   "cell_type": "code",
   "execution_count": 9,
   "metadata": {},
   "outputs": [
    {
     "data": {
      "text/html": [
       "<div>\n",
       "<style scoped>\n",
       "    .dataframe tbody tr th:only-of-type {\n",
       "        vertical-align: middle;\n",
       "    }\n",
       "\n",
       "    .dataframe tbody tr th {\n",
       "        vertical-align: top;\n",
       "    }\n",
       "\n",
       "    .dataframe thead th {\n",
       "        text-align: right;\n",
       "    }\n",
       "</style>\n",
       "<table border=\"1\" class=\"dataframe\">\n",
       "  <thead>\n",
       "    <tr style=\"text-align: right;\">\n",
       "      <th></th>\n",
       "      <th>wm_yr_wk</th>\n",
       "      <th>wday</th>\n",
       "      <th>month</th>\n",
       "      <th>year</th>\n",
       "      <th>d</th>\n",
       "      <th>event_name_1</th>\n",
       "      <th>event_type_1</th>\n",
       "      <th>snap_CA</th>\n",
       "      <th>snap_TX</th>\n",
       "      <th>snap_WI</th>\n",
       "    </tr>\n",
       "  </thead>\n",
       "  <tbody>\n",
       "    <tr>\n",
       "      <th>0</th>\n",
       "      <td>11101</td>\n",
       "      <td>1</td>\n",
       "      <td>1</td>\n",
       "      <td>2011</td>\n",
       "      <td>1</td>\n",
       "      <td>1</td>\n",
       "      <td>1</td>\n",
       "      <td>0</td>\n",
       "      <td>0</td>\n",
       "      <td>0</td>\n",
       "    </tr>\n",
       "    <tr>\n",
       "      <th>1</th>\n",
       "      <td>11101</td>\n",
       "      <td>2</td>\n",
       "      <td>1</td>\n",
       "      <td>2011</td>\n",
       "      <td>2</td>\n",
       "      <td>1</td>\n",
       "      <td>1</td>\n",
       "      <td>0</td>\n",
       "      <td>0</td>\n",
       "      <td>0</td>\n",
       "    </tr>\n",
       "    <tr>\n",
       "      <th>2</th>\n",
       "      <td>11101</td>\n",
       "      <td>3</td>\n",
       "      <td>1</td>\n",
       "      <td>2011</td>\n",
       "      <td>3</td>\n",
       "      <td>1</td>\n",
       "      <td>1</td>\n",
       "      <td>0</td>\n",
       "      <td>0</td>\n",
       "      <td>0</td>\n",
       "    </tr>\n",
       "    <tr>\n",
       "      <th>3</th>\n",
       "      <td>11101</td>\n",
       "      <td>4</td>\n",
       "      <td>2</td>\n",
       "      <td>2011</td>\n",
       "      <td>4</td>\n",
       "      <td>1</td>\n",
       "      <td>1</td>\n",
       "      <td>1</td>\n",
       "      <td>1</td>\n",
       "      <td>0</td>\n",
       "    </tr>\n",
       "    <tr>\n",
       "      <th>4</th>\n",
       "      <td>11101</td>\n",
       "      <td>5</td>\n",
       "      <td>2</td>\n",
       "      <td>2011</td>\n",
       "      <td>5</td>\n",
       "      <td>1</td>\n",
       "      <td>1</td>\n",
       "      <td>1</td>\n",
       "      <td>0</td>\n",
       "      <td>1</td>\n",
       "    </tr>\n",
       "  </tbody>\n",
       "</table>\n",
       "</div>"
      ],
      "text/plain": [
       "   wm_yr_wk  wday  month  year  d  event_name_1  event_type_1  snap_CA  \\\n",
       "0     11101     1      1  2011  1             1             1        0   \n",
       "1     11101     2      1  2011  2             1             1        0   \n",
       "2     11101     3      1  2011  3             1             1        0   \n",
       "3     11101     4      2  2011  4             1             1        1   \n",
       "4     11101     5      2  2011  5             1             1        1   \n",
       "\n",
       "   snap_TX  snap_WI  \n",
       "0        0        0  \n",
       "1        0        0  \n",
       "2        0        0  \n",
       "3        1        0  \n",
       "4        0        1  "
      ]
     },
     "execution_count": 9,
     "metadata": {},
     "output_type": "execute_result"
    }
   ],
   "source": [
    "from sklearn.preprocessing import OrdinalEncoder\n",
    "\n",
    "def prep_calendar(df):\n",
    "    df = df.drop([\"date\", \"weekday\", \"event_name_2\", \"event_type_2\"], axis=1)\n",
    "    df = df.assign(d = df.d.str[2:].astype(int))\n",
    "    to_ordinal = [\"event_name_1\", \"event_type_1\"] \n",
    "    df[to_ordinal] = df[to_ordinal].fillna(\"1\")\n",
    "    df[to_ordinal] = OrdinalEncoder(dtype=\"int\").fit_transform(df[to_ordinal]) + 1\n",
    "    to_int8 = [\"wday\", \"month\", \"snap_CA\", \"snap_TX\", \"snap_WI\"] + to_ordinal\n",
    "    df[to_int8] = df[to_int8].astype(\"int8\")\n",
    "    return df\n",
    "\n",
    "calendar = prep_calendar(calendar)\n",
    "calendar.head()"
   ]
  },
  {
   "cell_type": "code",
   "execution_count": 10,
   "metadata": {},
   "outputs": [
    {
     "data": {
      "text/html": [
       "<div>\n",
       "<style scoped>\n",
       "    .dataframe tbody tr th:only-of-type {\n",
       "        vertical-align: middle;\n",
       "    }\n",
       "\n",
       "    .dataframe tbody tr th {\n",
       "        vertical-align: top;\n",
       "    }\n",
       "\n",
       "    .dataframe thead th {\n",
       "        text-align: right;\n",
       "    }\n",
       "</style>\n",
       "<table border=\"1\" class=\"dataframe\">\n",
       "  <thead>\n",
       "    <tr style=\"text-align: right;\">\n",
       "      <th></th>\n",
       "      <th>store_id</th>\n",
       "      <th>item_id</th>\n",
       "      <th>wm_yr_wk</th>\n",
       "      <th>sell_price</th>\n",
       "      <th>sell_price_rel_diff</th>\n",
       "      <th>sell_price_cumrel</th>\n",
       "      <th>sell_price_roll_sd7</th>\n",
       "    </tr>\n",
       "  </thead>\n",
       "  <tbody>\n",
       "    <tr>\n",
       "      <th>0</th>\n",
       "      <td>CA_1</td>\n",
       "      <td>HOBBIES_1_001</td>\n",
       "      <td>11325</td>\n",
       "      <td>9.58</td>\n",
       "      <td>NaN</td>\n",
       "      <td>0.0</td>\n",
       "      <td>NaN</td>\n",
       "    </tr>\n",
       "    <tr>\n",
       "      <th>1</th>\n",
       "      <td>CA_1</td>\n",
       "      <td>HOBBIES_1_001</td>\n",
       "      <td>11326</td>\n",
       "      <td>9.58</td>\n",
       "      <td>0.000000</td>\n",
       "      <td>0.0</td>\n",
       "      <td>NaN</td>\n",
       "    </tr>\n",
       "    <tr>\n",
       "      <th>2</th>\n",
       "      <td>CA_1</td>\n",
       "      <td>HOBBIES_1_001</td>\n",
       "      <td>11327</td>\n",
       "      <td>8.26</td>\n",
       "      <td>-0.137787</td>\n",
       "      <td>0.0</td>\n",
       "      <td>NaN</td>\n",
       "    </tr>\n",
       "    <tr>\n",
       "      <th>3</th>\n",
       "      <td>CA_1</td>\n",
       "      <td>HOBBIES_1_001</td>\n",
       "      <td>11328</td>\n",
       "      <td>8.26</td>\n",
       "      <td>0.000000</td>\n",
       "      <td>0.0</td>\n",
       "      <td>NaN</td>\n",
       "    </tr>\n",
       "    <tr>\n",
       "      <th>4</th>\n",
       "      <td>CA_1</td>\n",
       "      <td>HOBBIES_1_001</td>\n",
       "      <td>11329</td>\n",
       "      <td>8.26</td>\n",
       "      <td>0.000000</td>\n",
       "      <td>0.0</td>\n",
       "      <td>NaN</td>\n",
       "    </tr>\n",
       "    <tr>\n",
       "      <th>5</th>\n",
       "      <td>CA_1</td>\n",
       "      <td>HOBBIES_1_001</td>\n",
       "      <td>11330</td>\n",
       "      <td>8.26</td>\n",
       "      <td>0.000000</td>\n",
       "      <td>0.0</td>\n",
       "      <td>NaN</td>\n",
       "    </tr>\n",
       "    <tr>\n",
       "      <th>6</th>\n",
       "      <td>CA_1</td>\n",
       "      <td>HOBBIES_1_001</td>\n",
       "      <td>11331</td>\n",
       "      <td>8.26</td>\n",
       "      <td>0.000000</td>\n",
       "      <td>0.0</td>\n",
       "      <td>6.440940e-01</td>\n",
       "    </tr>\n",
       "    <tr>\n",
       "      <th>7</th>\n",
       "      <td>CA_1</td>\n",
       "      <td>HOBBIES_1_001</td>\n",
       "      <td>11332</td>\n",
       "      <td>8.26</td>\n",
       "      <td>0.000000</td>\n",
       "      <td>0.0</td>\n",
       "      <td>4.989131e-01</td>\n",
       "    </tr>\n",
       "    <tr>\n",
       "      <th>8</th>\n",
       "      <td>CA_1</td>\n",
       "      <td>HOBBIES_1_001</td>\n",
       "      <td>11333</td>\n",
       "      <td>8.26</td>\n",
       "      <td>0.000000</td>\n",
       "      <td>0.0</td>\n",
       "      <td>1.360284e-08</td>\n",
       "    </tr>\n",
       "    <tr>\n",
       "      <th>9</th>\n",
       "      <td>CA_1</td>\n",
       "      <td>HOBBIES_1_001</td>\n",
       "      <td>11334</td>\n",
       "      <td>8.26</td>\n",
       "      <td>0.000000</td>\n",
       "      <td>0.0</td>\n",
       "      <td>1.360284e-08</td>\n",
       "    </tr>\n",
       "    <tr>\n",
       "      <th>10</th>\n",
       "      <td>CA_1</td>\n",
       "      <td>HOBBIES_1_001</td>\n",
       "      <td>11335</td>\n",
       "      <td>8.26</td>\n",
       "      <td>0.000000</td>\n",
       "      <td>0.0</td>\n",
       "      <td>1.360284e-08</td>\n",
       "    </tr>\n",
       "    <tr>\n",
       "      <th>11</th>\n",
       "      <td>CA_1</td>\n",
       "      <td>HOBBIES_1_001</td>\n",
       "      <td>11336</td>\n",
       "      <td>8.26</td>\n",
       "      <td>0.000000</td>\n",
       "      <td>0.0</td>\n",
       "      <td>1.360284e-08</td>\n",
       "    </tr>\n",
       "    <tr>\n",
       "      <th>12</th>\n",
       "      <td>CA_1</td>\n",
       "      <td>HOBBIES_1_001</td>\n",
       "      <td>11337</td>\n",
       "      <td>8.26</td>\n",
       "      <td>0.000000</td>\n",
       "      <td>0.0</td>\n",
       "      <td>1.360284e-08</td>\n",
       "    </tr>\n",
       "    <tr>\n",
       "      <th>13</th>\n",
       "      <td>CA_1</td>\n",
       "      <td>HOBBIES_1_001</td>\n",
       "      <td>11338</td>\n",
       "      <td>8.26</td>\n",
       "      <td>0.000000</td>\n",
       "      <td>0.0</td>\n",
       "      <td>1.360284e-08</td>\n",
       "    </tr>\n",
       "  </tbody>\n",
       "</table>\n",
       "</div>"
      ],
      "text/plain": [
       "   store_id        item_id  wm_yr_wk  sell_price  sell_price_rel_diff  \\\n",
       "0      CA_1  HOBBIES_1_001     11325        9.58                  NaN   \n",
       "1      CA_1  HOBBIES_1_001     11326        9.58             0.000000   \n",
       "2      CA_1  HOBBIES_1_001     11327        8.26            -0.137787   \n",
       "3      CA_1  HOBBIES_1_001     11328        8.26             0.000000   \n",
       "4      CA_1  HOBBIES_1_001     11329        8.26             0.000000   \n",
       "5      CA_1  HOBBIES_1_001     11330        8.26             0.000000   \n",
       "6      CA_1  HOBBIES_1_001     11331        8.26             0.000000   \n",
       "7      CA_1  HOBBIES_1_001     11332        8.26             0.000000   \n",
       "8      CA_1  HOBBIES_1_001     11333        8.26             0.000000   \n",
       "9      CA_1  HOBBIES_1_001     11334        8.26             0.000000   \n",
       "10     CA_1  HOBBIES_1_001     11335        8.26             0.000000   \n",
       "11     CA_1  HOBBIES_1_001     11336        8.26             0.000000   \n",
       "12     CA_1  HOBBIES_1_001     11337        8.26             0.000000   \n",
       "13     CA_1  HOBBIES_1_001     11338        8.26             0.000000   \n",
       "\n",
       "    sell_price_cumrel  sell_price_roll_sd7  \n",
       "0                 0.0                  NaN  \n",
       "1                 0.0                  NaN  \n",
       "2                 0.0                  NaN  \n",
       "3                 0.0                  NaN  \n",
       "4                 0.0                  NaN  \n",
       "5                 0.0                  NaN  \n",
       "6                 0.0         6.440940e-01  \n",
       "7                 0.0         4.989131e-01  \n",
       "8                 0.0         1.360284e-08  \n",
       "9                 0.0         1.360284e-08  \n",
       "10                0.0         1.360284e-08  \n",
       "11                0.0         1.360284e-08  \n",
       "12                0.0         1.360284e-08  \n",
       "13                0.0         1.360284e-08  "
      ]
     },
     "execution_count": 10,
     "metadata": {},
     "output_type": "execute_result"
    }
   ],
   "source": [
    "def prep_selling_prices(df):\n",
    "    gr = df.groupby([\"store_id\", \"item_id\"])[\"sell_price\"]\n",
    "    df[\"sell_price_rel_diff\"] = gr.pct_change()\n",
    "    df[\"sell_price_cumrel\"] = (gr.shift(0) - gr.cummin()) / (1 + gr.cummax() - gr.cummin())\n",
    "    df[\"sell_price_roll_sd7\"] = gr.transform(lambda x: x.rolling(7).std())\n",
    "    to_float32 = [\"sell_price\", \"sell_price_rel_diff\", \"sell_price_cumrel\", \"sell_price_roll_sd7\"]\n",
    "    df[to_float32] = df[to_float32].astype(\"float32\")\n",
    "         \n",
    "    return df\n",
    "\n",
    "selling_prices = prep_selling_prices(selling_prices)\n",
    "selling_prices.head(14)"
   ]
  },
  {
   "cell_type": "code",
   "execution_count": 11,
   "metadata": {},
   "outputs": [],
   "source": [
    "def reshape_sales(df, drop_d = None):\n",
    "    if drop_d is not None:\n",
    "        df = df.drop([\"d_\" + str(i+1) for i in range(drop_d-1)], axis=1)\n",
    "    df = df.assign(id=df.id.str.replace(\"_validation\", \"\"))\n",
    "    df = df.reindex(columns=df.columns.tolist() + [\"d_\" + str(1913 + i + 1) for i in range(2 * 28)])\n",
    "    df = df.melt(id_vars=[\"id\", \"item_id\", \"dept_id\", \"cat_id\", \"store_id\", \"state_id\"],\n",
    "                 var_name='d', value_name='demand')\n",
    "    df = df.assign(d=df.d.str[2:].astype(\"int64\"))\n",
    "\n",
    "    return df\n",
    "\n",
    "sales = reshape_sales(sales, 1000)"
   ]
  },
  {
   "cell_type": "code",
   "execution_count": 12,
   "metadata": {},
   "outputs": [],
   "source": [
    "ids = sales.columns[sales.columns.str.contains(\"id\")]"
   ]
  },
  {
   "cell_type": "code",
   "execution_count": 13,
   "metadata": {},
   "outputs": [
    {
     "name": "stdout",
     "output_type": "stream",
     "text": [
      "Index(['id'], dtype='object')\n"
     ]
    }
   ],
   "source": [
    "ids = ids[:1]\n",
    "print(ids)"
   ]
  },
  {
   "cell_type": "code",
   "execution_count": 14,
   "metadata": {},
   "outputs": [
    {
     "data": {
      "text/plain": [
       "'\\ndef prep_sales(df):\\n    df[\\'lag_t28\\'] = df.groupby([\\'id\\'])[\\'demand\\'].transform(lambda x: x.shift(28))\\n    df[\\'rolling_mean_t7\\'] = df.groupby([\\'id\\'])[\\'demand\\'].transform(lambda x: x.shift(28).rolling(7).mean())\\n    df[\\'rolling_mean_t30\\'] = df.groupby([\\'id\\'])[\\'demand\\'].transform(lambda x: x.shift(28).rolling(30).mean())\\n    df[\\'rolling_mean_t60\\'] = df.groupby([\\'id\\'])[\\'demand\\'].transform(lambda x: x.shift(28).rolling(60).mean())\\n    df[\\'rolling_mean_t90\\'] = df.groupby([\\'id\\'])[\\'demand\\'].transform(lambda x: x.shift(28).rolling(90).mean())\\n    df[\\'rolling_mean_t180\\'] = df.groupby([\\'id\\'])[\\'demand\\'].transform(lambda x: x.shift(28).rolling(180).mean())\\n    df[\\'rolling_std_t7\\'] = df.groupby([\\'id\\'])[\\'demand\\'].transform(lambda x: x.shift(28).rolling(7).std())\\n    df[\\'rolling_std_t30\\'] = df.groupby([\\'id\\'])[\\'demand\\'].transform(lambda x: x.shift(28).rolling(30).std())\\n  \\n    to_float32 = [\\'lag_t28\\', \\'rolling_mean_t7\\', \\'rolling_mean_t30\\', \\'rolling_mean_t60\\', \\n                  \\'rolling_mean_t90\\', \\'rolling_mean_t180\\', \\'rolling_std_t7\\', \\'rolling_std_t30\\']\\n    df[to_float32] = df[to_float32].astype(\"float32\")\\n    \\n    # Remove rows with NAs except for submission rows. rolling_mean_t180 was selected as it produces most missings\\n    df = df[(df.d >= 1914) | (pd.notna(df.rolling_mean_t180))]\\n \\n    return df\\n\\nsales = prep_sales(sales)\\n'"
      ]
     },
     "execution_count": 14,
     "metadata": {},
     "output_type": "execute_result"
    }
   ],
   "source": [
    "'''\n",
    "def prep_sales(df):\n",
    "    df['lag_t28'] = df.groupby(['id'])['demand'].transform(lambda x: x.shift(28))\n",
    "    df['rolling_mean_t7'] = df.groupby(['id'])['demand'].transform(lambda x: x.shift(28).rolling(7).mean())\n",
    "    df['rolling_mean_t30'] = df.groupby(['id'])['demand'].transform(lambda x: x.shift(28).rolling(30).mean())\n",
    "    df['rolling_mean_t60'] = df.groupby(['id'])['demand'].transform(lambda x: x.shift(28).rolling(60).mean())\n",
    "    df['rolling_mean_t90'] = df.groupby(['id'])['demand'].transform(lambda x: x.shift(28).rolling(90).mean())\n",
    "    df['rolling_mean_t180'] = df.groupby(['id'])['demand'].transform(lambda x: x.shift(28).rolling(180).mean())\n",
    "    df['rolling_std_t7'] = df.groupby(['id'])['demand'].transform(lambda x: x.shift(28).rolling(7).std())\n",
    "    df['rolling_std_t30'] = df.groupby(['id'])['demand'].transform(lambda x: x.shift(28).rolling(30).std())\n",
    "  \n",
    "    to_float32 = ['lag_t28', 'rolling_mean_t7', 'rolling_mean_t30', 'rolling_mean_t60', \n",
    "                  'rolling_mean_t90', 'rolling_mean_t180', 'rolling_std_t7', 'rolling_std_t30']\n",
    "    df[to_float32] = df[to_float32].astype(\"float32\")\n",
    "    \n",
    "    # Remove rows with NAs except for submission rows. rolling_mean_t180 was selected as it produces most missings\n",
    "    df = df[(df.d >= 1914) | (pd.notna(df.rolling_mean_t180))]\n",
    " \n",
    "    return df\n",
    "\n",
    "sales = prep_sales(sales)\n",
    "'''"
   ]
  },
  {
   "cell_type": "code",
   "execution_count": 15,
   "metadata": {},
   "outputs": [
    {
     "data": {
      "text/plain": [
       "'\\ndef prep_sales_ex(df, subid=None):\\n    new_col_01 = \\'lag_t28_\\' + subid\\n    new_col_02 = \\'rolling_mean_t7_\\' + subid\\n    new_col_03 = \\'rolling_mean_t30_\\' + subid\\n    new_col_04 = \\'rolling_mean_t60_\\' + subid\\n    new_col_05 = \\'rolling_mean_t90_\\' + subid\\n    new_col_06 = \\'rolling_mean_t180_\\' + subid\\n    new_col_07 = \\'rolling_std_t7_\\' + subid\\n    new_col_08 = \\'rolling_std_t30_\\' + subid\\n    #new_col_09 = \\'rolling_std_t60_\\' + subid\\n    new_col_09 = \\'rolling_mean_t14_\\' + subid\\n    df[new_col_01] = df.groupby([subid])[\\'demand\\'].transform(lambda x: x.shift(28))\\n    df[new_col_02] = df.groupby([subid])[\\'demand\\'].transform(lambda x: x.shift(28).rolling(7).mean())\\n    df[new_col_03] = df.groupby([subid])[\\'demand\\'].transform(lambda x: x.shift(28).rolling(30).mean())\\n    df[new_col_04] = df.groupby([subid])[\\'demand\\'].transform(lambda x: x.shift(28).rolling(60).mean())\\n    df[new_col_05] = df.groupby([subid])[\\'demand\\'].transform(lambda x: x.shift(28).rolling(90).mean())\\n    df[new_col_06] = df.groupby([subid])[\\'demand\\'].transform(lambda x: x.shift(28).rolling(180).mean())\\n    df[new_col_07] = df.groupby([subid])[\\'demand\\'].transform(lambda x: x.shift(28).rolling(7).std())\\n    df[new_col_08] = df.groupby([subid])[\\'demand\\'].transform(lambda x: x.shift(28).rolling(30).std())\\n    #df[new_col_09] = df.groupby([subid])[\\'demand\\'].transform(lambda x: x.shift(28).rolling(60).std())\\n    df[new_col_09] = df.groupby([subid])[\\'demand\\'].transform(lambda x: x.shift(28).rolling(7*2).std())\\n  \\n    to_float32 = [new_col_01, new_col_02, new_col_03, new_col_04, new_col_05, new_col_06, new_col_07, new_col_08, new_col_09]\\n    df[to_float32] = df[to_float32].astype(\"float32\")\\n    \\n    # Remove rows with NAs except for submission rows. rolling_mean_t180 was selected as it produces most missings\\n    df = df[(df.d >= 1914) | (pd.notna(df[new_col_06]))]\\n \\n    return df\\n\\nfor subid in ids:\\n    sales = prep_sales_ex(sales, subid=subid)\\n'"
      ]
     },
     "execution_count": 15,
     "metadata": {},
     "output_type": "execute_result"
    }
   ],
   "source": [
    "'''\n",
    "def prep_sales_ex(df, subid=None):\n",
    "    new_col_01 = 'lag_t28_' + subid\n",
    "    new_col_02 = 'rolling_mean_t7_' + subid\n",
    "    new_col_03 = 'rolling_mean_t30_' + subid\n",
    "    new_col_04 = 'rolling_mean_t60_' + subid\n",
    "    new_col_05 = 'rolling_mean_t90_' + subid\n",
    "    new_col_06 = 'rolling_mean_t180_' + subid\n",
    "    new_col_07 = 'rolling_std_t7_' + subid\n",
    "    new_col_08 = 'rolling_std_t30_' + subid\n",
    "    #new_col_09 = 'rolling_std_t60_' + subid\n",
    "    new_col_09 = 'rolling_mean_t14_' + subid\n",
    "    df[new_col_01] = df.groupby([subid])['demand'].transform(lambda x: x.shift(28))\n",
    "    df[new_col_02] = df.groupby([subid])['demand'].transform(lambda x: x.shift(28).rolling(7).mean())\n",
    "    df[new_col_03] = df.groupby([subid])['demand'].transform(lambda x: x.shift(28).rolling(30).mean())\n",
    "    df[new_col_04] = df.groupby([subid])['demand'].transform(lambda x: x.shift(28).rolling(60).mean())\n",
    "    df[new_col_05] = df.groupby([subid])['demand'].transform(lambda x: x.shift(28).rolling(90).mean())\n",
    "    df[new_col_06] = df.groupby([subid])['demand'].transform(lambda x: x.shift(28).rolling(180).mean())\n",
    "    df[new_col_07] = df.groupby([subid])['demand'].transform(lambda x: x.shift(28).rolling(7).std())\n",
    "    df[new_col_08] = df.groupby([subid])['demand'].transform(lambda x: x.shift(28).rolling(30).std())\n",
    "    #df[new_col_09] = df.groupby([subid])['demand'].transform(lambda x: x.shift(28).rolling(60).std())\n",
    "    df[new_col_09] = df.groupby([subid])['demand'].transform(lambda x: x.shift(28).rolling(7*2).std())\n",
    "  \n",
    "    to_float32 = [new_col_01, new_col_02, new_col_03, new_col_04, new_col_05, new_col_06, new_col_07, new_col_08, new_col_09]\n",
    "    df[to_float32] = df[to_float32].astype(\"float32\")\n",
    "    \n",
    "    # Remove rows with NAs except for submission rows. rolling_mean_t180 was selected as it produces most missings\n",
    "    df = df[(df.d >= 1914) | (pd.notna(df[new_col_06]))]\n",
    " \n",
    "    return df\n",
    "\n",
    "for subid in ids:\n",
    "    sales = prep_sales_ex(sales, subid=subid)\n",
    "'''"
   ]
  },
  {
   "cell_type": "code",
   "execution_count": 16,
   "metadata": {},
   "outputs": [],
   "source": [
    "def prep_sales_ex(df, subid=None):\n",
    "    #new_col_01 = 'lag_t7_' + subid\n",
    "    #new_col_02 = 'lag_t14_' + subid\n",
    "    #new_col_03 = 'lag_t21_' + subid\n",
    "    new_col_04 = 'lag_t28_' + subid\n",
    "    #new_col_05 = 'lag_t63_' + subid\n",
    "    #new_col_06 = 'lag_t84_' + subid\n",
    "    #new_col_07 = 'lag_t182_' + subid\n",
    "    \n",
    "    new_col_08 = 'rolling_mean_t7_' + subid\n",
    "    new_col_09 = 'rolling_mean_t14_' + subid\n",
    "    new_col_10 = 'rolling_mean_t21_' + subid\n",
    "    new_col_11 = 'rolling_mean_t28_' + subid\n",
    "    new_col_28 = 'rolling_mean_t35_' + subid\n",
    "    new_col_29 = 'rolling_mean_t42_' + subid\n",
    "    new_col_30 = 'rolling_mean_t49_' + subid\n",
    "    new_col_31 = 'rolling_mean_t56_' + subid\n",
    "    new_col_12 = 'rolling_mean_t63_' + subid\n",
    "    new_col_13 = 'rolling_mean_t84_' + subid\n",
    "    new_col_14 = 'rolling_mean_t182_' + subid\n",
    "    new_col_27 = 'rolling_mean_t364_' + subid\n",
    "    \n",
    "    new_col_15 = 'rolling_std_t7_' + subid\n",
    "    new_col_16 = 'rolling_std_t14_' + subid\n",
    "    new_col_17 = 'rolling_std_t21_' + subid\n",
    "    new_col_18 = 'rolling_std_t28_' + subid\n",
    "    new_col_19 = 'rolling_std_t35_' + subid\n",
    "    new_col_20 = 'rolling_std_t42_' + subid\n",
    "    new_col_21 = 'rolling_std_t49_' + subid\n",
    "    new_col_22 = 'rolling_std_t56_' + subid\n",
    "    new_col_23 = 'rolling_std_t63_' + subid\n",
    "    new_col_24 = 'rolling_std_t84_' + subid\n",
    "    new_col_25 = 'rolling_std_t182_' + subid\n",
    "    new_col_26 = 'rolling_std_t364_' + subid\n",
    "    \n",
    "    \n",
    "    #df[new_col_01] = df.groupby([subid])['demand'].transform(lambda x: x.shift(7))\n",
    "    #df[new_col_02] = df.groupby([subid])['demand'].transform(lambda x: x.shift(7*2))\n",
    "    #df[new_col_03] = df.groupby([subid])['demand'].transform(lambda x: x.shift(7*3))\n",
    "    df[new_col_04] = df.groupby([subid])['demand'].transform(lambda x: x.shift(7*4))\n",
    "    #df[new_col_05] = df.groupby([subid])['demand'].transform(lambda x: x.shift(7*9))\n",
    "    #df[new_col_06] = df.groupby([subid])['demand'].transform(lambda x: x.shift(7*12))\n",
    "    #df[new_col_07] = df.groupby([subid])['demand'].transform(lambda x: x.shift(7*26))\n",
    "    \n",
    "    df[new_col_08] = df.groupby([subid])['demand'].transform(lambda x: x.shift(28).rolling(7).mean())\n",
    "    df[new_col_09] = df.groupby([subid])['demand'].transform(lambda x: x.shift(28).rolling(7*2).mean())\n",
    "    df[new_col_10] = df.groupby([subid])['demand'].transform(lambda x: x.shift(28).rolling(7*3).mean())\n",
    "    df[new_col_11] = df.groupby([subid])['demand'].transform(lambda x: x.shift(28).rolling(7*4).mean())\n",
    "    df[new_col_28] = df.groupby([subid])['demand'].transform(lambda x: x.shift(28).rolling(7*5).mean())\n",
    "    df[new_col_29] = df.groupby([subid])['demand'].transform(lambda x: x.shift(28).rolling(7*6).mean())\n",
    "    df[new_col_30] = df.groupby([subid])['demand'].transform(lambda x: x.shift(28).rolling(7*7).mean())\n",
    "    df[new_col_31] = df.groupby([subid])['demand'].transform(lambda x: x.shift(28).rolling(7*8).mean())\n",
    "    df[new_col_12] = df.groupby([subid])['demand'].transform(lambda x: x.shift(28).rolling(7*9).mean())\n",
    "    df[new_col_13] = df.groupby([subid])['demand'].transform(lambda x: x.shift(28).rolling(7*12).mean())\n",
    "    df[new_col_14] = df.groupby([subid])['demand'].transform(lambda x: x.shift(28).rolling(7*26).mean())\n",
    "    df[new_col_27] = df.groupby([subid])['demand'].transform(lambda x: x.shift(28).rolling(7*26*2).mean())\n",
    "\n",
    "    df[new_col_15] = df.groupby([subid])['demand'].transform(lambda x: x.shift(28).rolling(7).std())\n",
    "    df[new_col_16] = df.groupby([subid])['demand'].transform(lambda x: x.shift(28).rolling(7*2).std())\n",
    "    df[new_col_17] = df.groupby([subid])['demand'].transform(lambda x: x.shift(28).rolling(7*3).std())\n",
    "    df[new_col_18] = df.groupby([subid])['demand'].transform(lambda x: x.shift(28).rolling(7*4).std())\n",
    "    df[new_col_19] = df.groupby([subid])['demand'].transform(lambda x: x.shift(28).rolling(7*5).std())\n",
    "    df[new_col_20] = df.groupby([subid])['demand'].transform(lambda x: x.shift(28).rolling(7*6).std())\n",
    "    df[new_col_21] = df.groupby([subid])['demand'].transform(lambda x: x.shift(28).rolling(7*7).std())\n",
    "    df[new_col_22] = df.groupby([subid])['demand'].transform(lambda x: x.shift(28).rolling(7*8).std())\n",
    "    df[new_col_23] = df.groupby([subid])['demand'].transform(lambda x: x.shift(28).rolling(7*9).std())\n",
    "    df[new_col_24] = df.groupby([subid])['demand'].transform(lambda x: x.shift(28).rolling(7*12).std())\n",
    "    df[new_col_25] = df.groupby([subid])['demand'].transform(lambda x: x.shift(28).rolling(7*26).std())\n",
    "    df[new_col_26] = df.groupby([subid])['demand'].transform(lambda x: x.shift(28).rolling(7*26*2).std())\n",
    "  \n",
    "    to_float32 = [#new_col_01, new_col_02, new_col_03, new_col_04, new_col_05, new_col_06, new_col_07,\n",
    "                  new_col_04,\n",
    "                  new_col_08, new_col_09, new_col_10, new_col_11, new_col_28, new_col_29, new_col_30, new_col_31,\n",
    "                  new_col_12, new_col_13, new_col_14, new_col_27,\n",
    "                  new_col_15, new_col_16, new_col_17, new_col_18, new_col_19, new_col_20, new_col_21, new_col_22, new_col_23, new_col_24, new_col_25, new_col_26]\n",
    "    df[to_float32] = df[to_float32].astype(\"float32\")\n",
    "    \n",
    "    # Remove rows with NAs except for submission rows. rolling_mean_t182 was selected as it produces most missings\n",
    "    df = df[(df.d >= 1914) | (pd.notna(df[new_col_26]))]\n",
    " \n",
    "    return df\n",
    "\n",
    "for subid in ids:\n",
    "    sales = prep_sales_ex(sales, subid=subid)"
   ]
  },
  {
   "cell_type": "code",
   "execution_count": 17,
   "metadata": {},
   "outputs": [],
   "source": [
    "def prep_sales_ex_loop(df, subid=None):\n",
    "    new_col_01 = 'lag_t28_' + subid\n",
    "    new_col_02 = 'rolling_mean_t7_' + subid\n",
    "    new_col_03 = 'rolling_mean_t30_' + subid\n",
    "    new_col_04 = 'rolling_mean_t60_' + subid\n",
    "    new_col_05 = 'rolling_mean_t90_' + subid\n",
    "    new_col_06 = 'rolling_mean_t180_' + subid\n",
    "    new_col_07 = 'rolling_std_t7_' + subid\n",
    "    new_col_08 = 'rolling_std_t30_' + subid\n",
    "    df[new_col_01] = df.groupby([subid])['demand'].transform(lambda x: x.shift(28))\n",
    "    df[new_col_02] = df.groupby([subid])['demand'].transform(lambda x: x.shift(28).rolling(7).mean())\n",
    "    df[new_col_03] = df.groupby([subid])['demand'].transform(lambda x: x.shift(28).rolling(30).mean())\n",
    "    df[new_col_04] = df.groupby([subid])['demand'].transform(lambda x: x.shift(28).rolling(60).mean())\n",
    "    df[new_col_05] = df.groupby([subid])['demand'].transform(lambda x: x.shift(28).rolling(90).mean())\n",
    "    df[new_col_06] = df.groupby([subid])['demand'].transform(lambda x: x.shift(28).rolling(180).mean())\n",
    "    df[new_col_07] = df.groupby([subid])['demand'].transform(lambda x: x.shift(28).rolling(7).std())\n",
    "    df[new_col_08] = df.groupby([subid])['demand'].transform(lambda x: x.shift(28).rolling(30).std())\n",
    "  \n",
    "    to_float32 = [new_col_01, new_col_02, new_col_03, new_col_04, new_col_05, new_col_06, new_col_07, new_col_08]\n",
    "    df[to_float32] = df[to_float32].astype(\"float32\")\n",
    "    \n",
    "    # Remove rows with NAs except for submission rows. rolling_mean_t180 was selected as it produces most missings\n",
    "    df = df[(df.d >= 1914) | (pd.notna(df[new_col_06]))]\n",
    " \n",
    "    return df\n",
    "\n",
    "#for subid in ids:\n",
    "#    sales = prep_sales_ex_loop(sales, subid=subid)"
   ]
  },
  {
   "cell_type": "code",
   "execution_count": 18,
   "metadata": {},
   "outputs": [
    {
     "data": {
      "text/html": [
       "<div>\n",
       "<style scoped>\n",
       "    .dataframe tbody tr th:only-of-type {\n",
       "        vertical-align: middle;\n",
       "    }\n",
       "\n",
       "    .dataframe tbody tr th {\n",
       "        vertical-align: top;\n",
       "    }\n",
       "\n",
       "    .dataframe thead th {\n",
       "        text-align: right;\n",
       "    }\n",
       "</style>\n",
       "<table border=\"1\" class=\"dataframe\">\n",
       "  <thead>\n",
       "    <tr style=\"text-align: right;\">\n",
       "      <th></th>\n",
       "      <th>id</th>\n",
       "      <th>item_id</th>\n",
       "      <th>dept_id</th>\n",
       "      <th>cat_id</th>\n",
       "      <th>store_id</th>\n",
       "      <th>state_id</th>\n",
       "      <th>d</th>\n",
       "      <th>demand</th>\n",
       "      <th>lag_t28_id</th>\n",
       "      <th>rolling_mean_t7_id</th>\n",
       "      <th>...</th>\n",
       "      <th>rolling_std_t21_id</th>\n",
       "      <th>rolling_std_t28_id</th>\n",
       "      <th>rolling_std_t35_id</th>\n",
       "      <th>rolling_std_t42_id</th>\n",
       "      <th>rolling_std_t49_id</th>\n",
       "      <th>rolling_std_t56_id</th>\n",
       "      <th>rolling_std_t63_id</th>\n",
       "      <th>rolling_std_t84_id</th>\n",
       "      <th>rolling_std_t182_id</th>\n",
       "      <th>rolling_std_t364_id</th>\n",
       "    </tr>\n",
       "  </thead>\n",
       "  <tbody>\n",
       "    <tr>\n",
       "      <th>29575295</th>\n",
       "      <td>FOODS_3_823_WI_3</td>\n",
       "      <td>FOODS_3_823</td>\n",
       "      <td>FOODS_3</td>\n",
       "      <td>FOODS</td>\n",
       "      <td>WI_3</td>\n",
       "      <td>WI</td>\n",
       "      <td>1969</td>\n",
       "      <td>NaN</td>\n",
       "      <td>NaN</td>\n",
       "      <td>NaN</td>\n",
       "      <td>...</td>\n",
       "      <td>NaN</td>\n",
       "      <td>NaN</td>\n",
       "      <td>NaN</td>\n",
       "      <td>NaN</td>\n",
       "      <td>NaN</td>\n",
       "      <td>NaN</td>\n",
       "      <td>NaN</td>\n",
       "      <td>NaN</td>\n",
       "      <td>NaN</td>\n",
       "      <td>NaN</td>\n",
       "    </tr>\n",
       "    <tr>\n",
       "      <th>29575296</th>\n",
       "      <td>FOODS_3_824_WI_3</td>\n",
       "      <td>FOODS_3_824</td>\n",
       "      <td>FOODS_3</td>\n",
       "      <td>FOODS</td>\n",
       "      <td>WI_3</td>\n",
       "      <td>WI</td>\n",
       "      <td>1969</td>\n",
       "      <td>NaN</td>\n",
       "      <td>NaN</td>\n",
       "      <td>NaN</td>\n",
       "      <td>...</td>\n",
       "      <td>NaN</td>\n",
       "      <td>NaN</td>\n",
       "      <td>NaN</td>\n",
       "      <td>NaN</td>\n",
       "      <td>NaN</td>\n",
       "      <td>NaN</td>\n",
       "      <td>NaN</td>\n",
       "      <td>NaN</td>\n",
       "      <td>NaN</td>\n",
       "      <td>NaN</td>\n",
       "    </tr>\n",
       "    <tr>\n",
       "      <th>29575297</th>\n",
       "      <td>FOODS_3_825_WI_3</td>\n",
       "      <td>FOODS_3_825</td>\n",
       "      <td>FOODS_3</td>\n",
       "      <td>FOODS</td>\n",
       "      <td>WI_3</td>\n",
       "      <td>WI</td>\n",
       "      <td>1969</td>\n",
       "      <td>NaN</td>\n",
       "      <td>NaN</td>\n",
       "      <td>NaN</td>\n",
       "      <td>...</td>\n",
       "      <td>NaN</td>\n",
       "      <td>NaN</td>\n",
       "      <td>NaN</td>\n",
       "      <td>NaN</td>\n",
       "      <td>NaN</td>\n",
       "      <td>NaN</td>\n",
       "      <td>NaN</td>\n",
       "      <td>NaN</td>\n",
       "      <td>NaN</td>\n",
       "      <td>NaN</td>\n",
       "    </tr>\n",
       "    <tr>\n",
       "      <th>29575298</th>\n",
       "      <td>FOODS_3_826_WI_3</td>\n",
       "      <td>FOODS_3_826</td>\n",
       "      <td>FOODS_3</td>\n",
       "      <td>FOODS</td>\n",
       "      <td>WI_3</td>\n",
       "      <td>WI</td>\n",
       "      <td>1969</td>\n",
       "      <td>NaN</td>\n",
       "      <td>NaN</td>\n",
       "      <td>NaN</td>\n",
       "      <td>...</td>\n",
       "      <td>NaN</td>\n",
       "      <td>NaN</td>\n",
       "      <td>NaN</td>\n",
       "      <td>NaN</td>\n",
       "      <td>NaN</td>\n",
       "      <td>NaN</td>\n",
       "      <td>NaN</td>\n",
       "      <td>NaN</td>\n",
       "      <td>NaN</td>\n",
       "      <td>NaN</td>\n",
       "    </tr>\n",
       "    <tr>\n",
       "      <th>29575299</th>\n",
       "      <td>FOODS_3_827_WI_3</td>\n",
       "      <td>FOODS_3_827</td>\n",
       "      <td>FOODS_3</td>\n",
       "      <td>FOODS</td>\n",
       "      <td>WI_3</td>\n",
       "      <td>WI</td>\n",
       "      <td>1969</td>\n",
       "      <td>NaN</td>\n",
       "      <td>NaN</td>\n",
       "      <td>NaN</td>\n",
       "      <td>...</td>\n",
       "      <td>NaN</td>\n",
       "      <td>NaN</td>\n",
       "      <td>NaN</td>\n",
       "      <td>NaN</td>\n",
       "      <td>NaN</td>\n",
       "      <td>NaN</td>\n",
       "      <td>NaN</td>\n",
       "      <td>NaN</td>\n",
       "      <td>NaN</td>\n",
       "      <td>NaN</td>\n",
       "    </tr>\n",
       "  </tbody>\n",
       "</table>\n",
       "<p>5 rows × 33 columns</p>\n",
       "</div>"
      ],
      "text/plain": [
       "                        id      item_id  dept_id cat_id store_id state_id  \\\n",
       "29575295  FOODS_3_823_WI_3  FOODS_3_823  FOODS_3  FOODS     WI_3       WI   \n",
       "29575296  FOODS_3_824_WI_3  FOODS_3_824  FOODS_3  FOODS     WI_3       WI   \n",
       "29575297  FOODS_3_825_WI_3  FOODS_3_825  FOODS_3  FOODS     WI_3       WI   \n",
       "29575298  FOODS_3_826_WI_3  FOODS_3_826  FOODS_3  FOODS     WI_3       WI   \n",
       "29575299  FOODS_3_827_WI_3  FOODS_3_827  FOODS_3  FOODS     WI_3       WI   \n",
       "\n",
       "             d  demand  lag_t28_id  rolling_mean_t7_id  ...  \\\n",
       "29575295  1969     NaN         NaN                 NaN  ...   \n",
       "29575296  1969     NaN         NaN                 NaN  ...   \n",
       "29575297  1969     NaN         NaN                 NaN  ...   \n",
       "29575298  1969     NaN         NaN                 NaN  ...   \n",
       "29575299  1969     NaN         NaN                 NaN  ...   \n",
       "\n",
       "          rolling_std_t21_id  rolling_std_t28_id  rolling_std_t35_id  \\\n",
       "29575295                 NaN                 NaN                 NaN   \n",
       "29575296                 NaN                 NaN                 NaN   \n",
       "29575297                 NaN                 NaN                 NaN   \n",
       "29575298                 NaN                 NaN                 NaN   \n",
       "29575299                 NaN                 NaN                 NaN   \n",
       "\n",
       "          rolling_std_t42_id  rolling_std_t49_id  rolling_std_t56_id  \\\n",
       "29575295                 NaN                 NaN                 NaN   \n",
       "29575296                 NaN                 NaN                 NaN   \n",
       "29575297                 NaN                 NaN                 NaN   \n",
       "29575298                 NaN                 NaN                 NaN   \n",
       "29575299                 NaN                 NaN                 NaN   \n",
       "\n",
       "          rolling_std_t63_id  rolling_std_t84_id  rolling_std_t182_id  \\\n",
       "29575295                 NaN                 NaN                  NaN   \n",
       "29575296                 NaN                 NaN                  NaN   \n",
       "29575297                 NaN                 NaN                  NaN   \n",
       "29575298                 NaN                 NaN                  NaN   \n",
       "29575299                 NaN                 NaN                  NaN   \n",
       "\n",
       "          rolling_std_t364_id  \n",
       "29575295                  NaN  \n",
       "29575296                  NaN  \n",
       "29575297                  NaN  \n",
       "29575298                  NaN  \n",
       "29575299                  NaN  \n",
       "\n",
       "[5 rows x 33 columns]"
      ]
     },
     "execution_count": 18,
     "metadata": {},
     "output_type": "execute_result"
    }
   ],
   "source": [
    "sales.tail()"
   ]
  },
  {
   "cell_type": "code",
   "execution_count": 19,
   "metadata": {},
   "outputs": [
    {
     "data": {
      "text/plain": [
       "44"
      ]
     },
     "execution_count": 19,
     "metadata": {},
     "output_type": "execute_result"
    }
   ],
   "source": [
    "sales = sales.merge(calendar, how=\"left\", on=\"d\")\n",
    "gc.collect()"
   ]
  },
  {
   "cell_type": "code",
   "execution_count": 20,
   "metadata": {},
   "outputs": [],
   "source": [
    "sales = sales.merge(selling_prices, how=\"left\", on=[\"store_id\", \"item_id\", \"wm_yr_wk\"])\n",
    "sales.drop([\"wm_yr_wk\"], axis=1, inplace=True)\n",
    "gc.collect()\n",
    "del selling_prices"
   ]
  },
  {
   "cell_type": "code",
   "execution_count": 21,
   "metadata": {},
   "outputs": [
    {
     "data": {
      "text/plain": [
       "22"
      ]
     },
     "execution_count": 21,
     "metadata": {},
     "output_type": "execute_result"
    }
   ],
   "source": [
    "#for i, v in tqdm(enumerate([\"item_id\", \"dept_id\", \"store_id\", \"cat_id\", \"state_id\"])):\n",
    "for i, v in enumerate([\"item_id\", \"dept_id\", \"store_id\", \"cat_id\", \"state_id\"]):\n",
    "    sales[v] = OrdinalEncoder(dtype=\"int\").fit_transform(sales[[v]]).astype(\"int16\") + 1\n",
    "gc.collect()"
   ]
  },
  {
   "cell_type": "code",
   "execution_count": 22,
   "metadata": {},
   "outputs": [],
   "source": [
    "#sales.to_csv(\"sales.csv\")"
   ]
  },
  {
   "cell_type": "code",
   "execution_count": 23,
   "metadata": {},
   "outputs": [],
   "source": [
    "# Start from here from next time\n",
    "#sales = pd.read_csv(\"sales.csv\")"
   ]
  },
  {
   "cell_type": "code",
   "execution_count": 24,
   "metadata": {},
   "outputs": [],
   "source": [
    "#base_features = [\"lag_t28\", \"rolling_mean_t7\", \"rolling_mean_t30\", \"rolling_mean_t60\", \n",
    "#                 \"rolling_mean_t90\", \"rolling_mean_t180\", \"rolling_std_t7\", \"rolling_std_t30\", \"rolling_mean_t14\"]\n",
    "base_features = [#'lag_t7_', 'lag_t14_', 'lag_t21_', 'lag_t28_', 'lag_t63_', 'lag_t84_', 'lag_t182_', \n",
    "                 'lag_t28_',\n",
    "                 'rolling_mean_t7_', 'rolling_mean_t14_', 'rolling_mean_t21_', \n",
    "                 'rolling_mean_t28_', 'rolling_mean_t35_', 'rolling_mean_t42_', 'rolling_mean_t49_', 'rolling_mean_t56_',\n",
    "                 'rolling_mean_t63_', 'rolling_mean_t84_', 'rolling_mean_t182_', 'rolling_mean_t364_',\n",
    "                 'rolling_std_t7_', 'rolling_std_t14_', 'rolling_std_t21_', \n",
    "                 'rolling_std_t28_', 'rolling_std_t35_', 'rolling_std_t42_', 'rolling_std_t49_', 'rolling_std_t56_',\n",
    "                 'rolling_std_t63_', 'rolling_std_t84_', 'rolling_std_t182_', 'rolling_std_t364_']\n",
    "\n",
    "\n",
    "extended_features = []\n",
    "for subid in ids:\n",
    "    tmp = [v+subid for v in base_features]\n",
    "    extended_features.extend(tmp)\n",
    "#extended_features = [v+\"_state_id\" for v in base_features]"
   ]
  },
  {
   "cell_type": "code",
   "execution_count": 25,
   "metadata": {},
   "outputs": [
    {
     "data": {
      "text/plain": [
       "['lag_t28_id',\n",
       " 'rolling_mean_t7_id',\n",
       " 'rolling_mean_t14_id',\n",
       " 'rolling_mean_t21_id',\n",
       " 'rolling_mean_t28_id',\n",
       " 'rolling_mean_t35_id',\n",
       " 'rolling_mean_t42_id',\n",
       " 'rolling_mean_t49_id',\n",
       " 'rolling_mean_t56_id',\n",
       " 'rolling_mean_t63_id',\n",
       " 'rolling_mean_t84_id',\n",
       " 'rolling_mean_t182_id',\n",
       " 'rolling_mean_t364_id',\n",
       " 'rolling_std_t7_id',\n",
       " 'rolling_std_t14_id',\n",
       " 'rolling_std_t21_id',\n",
       " 'rolling_std_t28_id',\n",
       " 'rolling_std_t35_id',\n",
       " 'rolling_std_t42_id',\n",
       " 'rolling_std_t49_id',\n",
       " 'rolling_std_t56_id',\n",
       " 'rolling_std_t63_id',\n",
       " 'rolling_std_t84_id',\n",
       " 'rolling_std_t182_id',\n",
       " 'rolling_std_t364_id']"
      ]
     },
     "execution_count": 25,
     "metadata": {},
     "output_type": "execute_result"
    }
   ],
   "source": [
    "extended_features"
   ]
  },
  {
   "cell_type": "code",
   "execution_count": 26,
   "metadata": {},
   "outputs": [],
   "source": [
    "# Covariables used\n",
    "x = [\"wday\", \"month\", \"year\", \n",
    "     \"event_name_1\", \"event_type_1\",\n",
    "     \"snap_CA\", \"snap_TX\", \"snap_WI\",\n",
    "     \"sell_price\", \"sell_price_rel_diff\", \"sell_price_cumrel\", \"sell_price_roll_sd7\",\n",
    "     \"item_id\", \"dept_id\", \"cat_id\", \"store_id\", \"state_id\"]"
   ]
  },
  {
   "cell_type": "code",
   "execution_count": 27,
   "metadata": {},
   "outputs": [],
   "source": [
    "#x.extend(base_features)"
   ]
  },
  {
   "cell_type": "code",
   "execution_count": 28,
   "metadata": {},
   "outputs": [],
   "source": [
    "x.extend(extended_features)"
   ]
  },
  {
   "cell_type": "code",
   "execution_count": 29,
   "metadata": {},
   "outputs": [
    {
     "data": {
      "text/plain": [
       "42"
      ]
     },
     "execution_count": 29,
     "metadata": {},
     "output_type": "execute_result"
    }
   ],
   "source": [
    "len(x)"
   ]
  },
  {
   "cell_type": "code",
   "execution_count": 30,
   "metadata": {},
   "outputs": [
    {
     "data": {
      "text/plain": [
       "['wday',\n",
       " 'month',\n",
       " 'year',\n",
       " 'event_name_1',\n",
       " 'event_type_1',\n",
       " 'snap_CA',\n",
       " 'snap_TX',\n",
       " 'snap_WI',\n",
       " 'sell_price',\n",
       " 'sell_price_rel_diff',\n",
       " 'sell_price_cumrel',\n",
       " 'sell_price_roll_sd7',\n",
       " 'item_id',\n",
       " 'dept_id',\n",
       " 'cat_id',\n",
       " 'store_id',\n",
       " 'state_id',\n",
       " 'lag_t28_id',\n",
       " 'rolling_mean_t7_id',\n",
       " 'rolling_mean_t14_id',\n",
       " 'rolling_mean_t21_id',\n",
       " 'rolling_mean_t28_id',\n",
       " 'rolling_mean_t35_id',\n",
       " 'rolling_mean_t42_id',\n",
       " 'rolling_mean_t49_id',\n",
       " 'rolling_mean_t56_id',\n",
       " 'rolling_mean_t63_id',\n",
       " 'rolling_mean_t84_id',\n",
       " 'rolling_mean_t182_id',\n",
       " 'rolling_mean_t364_id',\n",
       " 'rolling_std_t7_id',\n",
       " 'rolling_std_t14_id',\n",
       " 'rolling_std_t21_id',\n",
       " 'rolling_std_t28_id',\n",
       " 'rolling_std_t35_id',\n",
       " 'rolling_std_t42_id',\n",
       " 'rolling_std_t49_id',\n",
       " 'rolling_std_t56_id',\n",
       " 'rolling_std_t63_id',\n",
       " 'rolling_std_t84_id',\n",
       " 'rolling_std_t182_id',\n",
       " 'rolling_std_t364_id']"
      ]
     },
     "execution_count": 30,
     "metadata": {},
     "output_type": "execute_result"
    }
   ],
   "source": [
    "x"
   ]
  },
  {
   "cell_type": "code",
   "execution_count": 31,
   "metadata": {},
   "outputs": [
    {
     "data": {
      "text/plain": [
       "220"
      ]
     },
     "execution_count": 31,
     "metadata": {},
     "output_type": "execute_result"
    }
   ],
   "source": [
    "test = sales[sales.d >= 1914]\n",
    "test = test.assign(id=test.id + \"_\" + np.where(test.d <= 1941, \"validation\", \"evaluation\"),\n",
    "                   F=\"F\" + (test.d - 1913 - 28 * (test.d > 1941)).astype(\"str\"))\n",
    "\n",
    "# Reduce sales\n",
    "sales = sales[sales.d < 1914]\n",
    "gc.collect()"
   ]
  },
  {
   "cell_type": "code",
   "execution_count": 32,
   "metadata": {},
   "outputs": [],
   "source": [
    "import lightgbm as lgb"
   ]
  },
  {
   "cell_type": "code",
   "execution_count": 33,
   "metadata": {},
   "outputs": [],
   "source": [
    "# One month of validation data\n",
    "flag = sales.d >= 1914 - 28\n",
    "valid = lgb.Dataset(sales[flag][x], label = sales[[\"demand\"]][flag])\n",
    "#np.savez('valid_data_label', data=sales[flag][x], label=sales[[\"demand\"]][flag])\n",
    "gc.collect()\n",
    "\n",
    "# Rest is used for training\n",
    "sales = sales[~flag].drop([\"d\", \"id\"], axis=1)\n",
    "del flag\n",
    "gc.collect()\n",
    "sales = lgb.Dataset(sales[x], label = sales[[\"demand\"]])\n",
    "\n",
    "# Trick to avoid memory spike when LightGBM converts everything to float32:\n",
    "#   See https://www.kaggle.com/c/talkingdata-adtracking-fraud-detection/discussion/53773\n",
    "#sales.save_binary('train.bin')\n",
    "#sales = lgb.Dataset('train.bin')"
   ]
  },
  {
   "cell_type": "code",
   "execution_count": 34,
   "metadata": {},
   "outputs": [
    {
     "name": "stdout",
     "output_type": "stream",
     "text": [
      "Training until validation scores don't improve for 400 rounds\n",
      "[100]\tvalid_0's rmse: 2.21651\n",
      "[200]\tvalid_0's rmse: 2.18964\n",
      "[300]\tvalid_0's rmse: 2.17452\n",
      "[400]\tvalid_0's rmse: 2.16634\n",
      "[500]\tvalid_0's rmse: 2.16041\n",
      "[600]\tvalid_0's rmse: 2.15224\n",
      "[700]\tvalid_0's rmse: 2.14955\n",
      "[800]\tvalid_0's rmse: 2.14951\n",
      "[900]\tvalid_0's rmse: 2.14699\n",
      "[1000]\tvalid_0's rmse: 2.1429\n",
      "[1100]\tvalid_0's rmse: 2.14096\n",
      "[1200]\tvalid_0's rmse: 2.13809\n",
      "[1300]\tvalid_0's rmse: 2.13911\n",
      "[1400]\tvalid_0's rmse: 2.14017\n",
      "[1500]\tvalid_0's rmse: 2.13936\n",
      "[1600]\tvalid_0's rmse: 2.13559\n",
      "[1700]\tvalid_0's rmse: 2.13428\n",
      "[1800]\tvalid_0's rmse: 2.13432\n",
      "[1900]\tvalid_0's rmse: 2.13344\n",
      "[2000]\tvalid_0's rmse: 2.13084\n",
      "[2100]\tvalid_0's rmse: 2.12991\n",
      "Did not meet early stopping. Best iteration is:\n",
      "[2100]\tvalid_0's rmse: 2.12991\n"
     ]
    }
   ],
   "source": [
    "params = {\n",
    "    'metric': 'rmse',\n",
    "    'objective': 'poisson',\n",
    "    'seed': 20,\n",
    "    'learning_rate': 0.08,\n",
    "    'lambda': 0.1,\n",
    "    'num_leaves': 63,\n",
    "    'bagging_fraction': 0.7,\n",
    "    'bagging_freq': 1, \n",
    "    'colsample_bytree': 0.7\n",
    "}\n",
    "\n",
    "fit = lgb.train(params, \n",
    "                sales, \n",
    "                num_boost_round = 2100, \n",
    "                valid_sets = [valid], \n",
    "                early_stopping_rounds = 400,\n",
    "                verbose_eval = 100)"
   ]
  },
  {
   "cell_type": "code",
   "execution_count": 35,
   "metadata": {},
   "outputs": [
    {
     "data": {
      "image/png": "[encoded data removed]",
      "text/plain": [
       "<Figure size 432x720 with 1 Axes>"
      ]
     },
     "metadata": {
      "needs_background": "light"
     },
     "output_type": "display_data"
    }
   ],
   "source": [
    "lgb.plot_importance(fit, importance_type=\"gain\", precision=0, height=0.5, figsize=(6, 10));"
   ]
  },
  {
   "cell_type": "code",
   "execution_count": 36,
   "metadata": {},
   "outputs": [
    {
     "data": {
      "text/plain": [
       "'\\n\\nprint(\\'Saving model...\\')\\n# save model to file\\nfit.save_model(\\'model.txt\\')\\n\\nprint(\\'Loading model to predict...\\')\\n# load model to predict\\nfit = lgb.Booster(model_file=\\'model.txt\\')\\n\\n\\nnpz = np.load(\"./valid_data_label.npz\")\\nvalid_data = npz[\"data\"]\\n#valid_data\\n\\nvalid_label = npz[\"label\"]\\n#valid_label\\n\\npred = fit.predict(valid_data)\\n\\n#plt.figure(14, 6)\\nplt.plot(range(28), valid_label[:28], color=\\'blue\\')\\nplt.plot(range(28), pred[:28], color=\\'red\\');\\n'"
      ]
     },
     "execution_count": 36,
     "metadata": {},
     "output_type": "execute_result"
    }
   ],
   "source": [
    "# Validation & Visualization\n",
    "'''\n",
    "\n",
    "print('Saving model...')\n",
    "# save model to file\n",
    "fit.save_model('model.txt')\n",
    "\n",
    "print('Loading model to predict...')\n",
    "# load model to predict\n",
    "fit = lgb.Booster(model_file='model.txt')\n",
    "\n",
    "\n",
    "npz = np.load(\"./valid_data_label.npz\")\n",
    "valid_data = npz[\"data\"]\n",
    "#valid_data\n",
    "\n",
    "valid_label = npz[\"label\"]\n",
    "#valid_label\n",
    "\n",
    "pred = fit.predict(valid_data)\n",
    "\n",
    "#plt.figure(14, 6)\n",
    "plt.plot(range(28), valid_label[:28], color='blue')\n",
    "plt.plot(range(28), pred[:28], color='red');\n",
    "'''"
   ]
  },
  {
   "cell_type": "code",
   "execution_count": 37,
   "metadata": {},
   "outputs": [],
   "source": [
    "pred = fit.predict(test[x])\n",
    "\n",
    "# The dark magic -> credits: https://www.kaggle.com/kyakovlev/m5-dark-magic\n",
    "pred_calibrated = pred / pred[test[\"id\"].str.endswith(\"validation\")].mean() * 1.447147"
   ]
  },
  {
   "cell_type": "code",
   "execution_count": 38,
   "metadata": {},
   "outputs": [
    {
     "data": {
      "text/html": [
       "<div>\n",
       "<style scoped>\n",
       "    .dataframe tbody tr th:only-of-type {\n",
       "        vertical-align: middle;\n",
       "    }\n",
       "\n",
       "    .dataframe tbody tr th {\n",
       "        vertical-align: top;\n",
       "    }\n",
       "\n",
       "    .dataframe thead th {\n",
       "        text-align: right;\n",
       "    }\n",
       "</style>\n",
       "<table border=\"1\" class=\"dataframe\">\n",
       "  <thead>\n",
       "    <tr style=\"text-align: right;\">\n",
       "      <th>F</th>\n",
       "      <th>id</th>\n",
       "      <th>F1</th>\n",
       "      <th>F2</th>\n",
       "      <th>F3</th>\n",
       "      <th>F4</th>\n",
       "      <th>F5</th>\n",
       "      <th>F6</th>\n",
       "      <th>F7</th>\n",
       "      <th>F8</th>\n",
       "      <th>F9</th>\n",
       "      <th>...</th>\n",
       "      <th>F19</th>\n",
       "      <th>F20</th>\n",
       "      <th>F21</th>\n",
       "      <th>F22</th>\n",
       "      <th>F23</th>\n",
       "      <th>F24</th>\n",
       "      <th>F25</th>\n",
       "      <th>F26</th>\n",
       "      <th>F27</th>\n",
       "      <th>F28</th>\n",
       "    </tr>\n",
       "  </thead>\n",
       "  <tbody>\n",
       "    <tr>\n",
       "      <th>0</th>\n",
       "      <td>FOODS_1_001_CA_1_evaluation</td>\n",
       "      <td>0.061447</td>\n",
       "      <td>0.056024</td>\n",
       "      <td>0.055453</td>\n",
       "      <td>0.056062</td>\n",
       "      <td>0.062975</td>\n",
       "      <td>0.090256</td>\n",
       "      <td>0.087766</td>\n",
       "      <td>0.061327</td>\n",
       "      <td>0.056024</td>\n",
       "      <td>...</td>\n",
       "      <td>0.041983</td>\n",
       "      <td>0.058817</td>\n",
       "      <td>0.057712</td>\n",
       "      <td>0.039488</td>\n",
       "      <td>0.035537</td>\n",
       "      <td>0.035361</td>\n",
       "      <td>0.035720</td>\n",
       "      <td>0.040176</td>\n",
       "      <td>0.058756</td>\n",
       "      <td>0.055131</td>\n",
       "    </tr>\n",
       "    <tr>\n",
       "      <th>1</th>\n",
       "      <td>FOODS_1_001_CA_1_validation</td>\n",
       "      <td>0.774729</td>\n",
       "      <td>0.735806</td>\n",
       "      <td>0.746152</td>\n",
       "      <td>0.703384</td>\n",
       "      <td>0.989748</td>\n",
       "      <td>1.039084</td>\n",
       "      <td>0.972588</td>\n",
       "      <td>0.923342</td>\n",
       "      <td>0.903044</td>\n",
       "      <td>...</td>\n",
       "      <td>0.988543</td>\n",
       "      <td>1.268164</td>\n",
       "      <td>1.125399</td>\n",
       "      <td>0.957094</td>\n",
       "      <td>0.935769</td>\n",
       "      <td>0.916974</td>\n",
       "      <td>0.866749</td>\n",
       "      <td>1.061474</td>\n",
       "      <td>1.251311</td>\n",
       "      <td>1.103016</td>\n",
       "    </tr>\n",
       "    <tr>\n",
       "      <th>2</th>\n",
       "      <td>FOODS_1_001_CA_2_evaluation</td>\n",
       "      <td>0.058104</td>\n",
       "      <td>0.053326</td>\n",
       "      <td>0.052899</td>\n",
       "      <td>0.053452</td>\n",
       "      <td>0.060059</td>\n",
       "      <td>0.085115</td>\n",
       "      <td>0.079490</td>\n",
       "      <td>0.058836</td>\n",
       "      <td>0.053326</td>\n",
       "      <td>...</td>\n",
       "      <td>0.069207</td>\n",
       "      <td>0.103948</td>\n",
       "      <td>0.099509</td>\n",
       "      <td>0.064151</td>\n",
       "      <td>0.057916</td>\n",
       "      <td>0.057692</td>\n",
       "      <td>0.058040</td>\n",
       "      <td>0.067126</td>\n",
       "      <td>0.103754</td>\n",
       "      <td>0.093290</td>\n",
       "    </tr>\n",
       "    <tr>\n",
       "      <th>3</th>\n",
       "      <td>FOODS_1_001_CA_2_validation</td>\n",
       "      <td>0.819393</td>\n",
       "      <td>0.795240</td>\n",
       "      <td>0.770128</td>\n",
       "      <td>0.768653</td>\n",
       "      <td>0.875705</td>\n",
       "      <td>0.946626</td>\n",
       "      <td>0.631071</td>\n",
       "      <td>0.791662</td>\n",
       "      <td>0.844203</td>\n",
       "      <td>...</td>\n",
       "      <td>0.969382</td>\n",
       "      <td>0.955087</td>\n",
       "      <td>1.582589</td>\n",
       "      <td>0.997250</td>\n",
       "      <td>1.035321</td>\n",
       "      <td>1.017689</td>\n",
       "      <td>1.157492</td>\n",
       "      <td>1.135288</td>\n",
       "      <td>1.317039</td>\n",
       "      <td>1.511498</td>\n",
       "    </tr>\n",
       "    <tr>\n",
       "      <th>4</th>\n",
       "      <td>FOODS_1_001_CA_3_evaluation</td>\n",
       "      <td>0.084936</td>\n",
       "      <td>0.077511</td>\n",
       "      <td>0.077974</td>\n",
       "      <td>0.078308</td>\n",
       "      <td>0.084288</td>\n",
       "      <td>0.113057</td>\n",
       "      <td>0.109218</td>\n",
       "      <td>0.085246</td>\n",
       "      <td>0.077511</td>\n",
       "      <td>...</td>\n",
       "      <td>0.056735</td>\n",
       "      <td>0.075324</td>\n",
       "      <td>0.071497</td>\n",
       "      <td>0.053840</td>\n",
       "      <td>0.048610</td>\n",
       "      <td>0.049142</td>\n",
       "      <td>0.049330</td>\n",
       "      <td>0.053455</td>\n",
       "      <td>0.075332</td>\n",
       "      <td>0.069358</td>\n",
       "    </tr>\n",
       "  </tbody>\n",
       "</table>\n",
       "<p>5 rows × 29 columns</p>\n",
       "</div>"
      ],
      "text/plain": [
       "F                           id        F1        F2        F3        F4  \\\n",
       "0  FOODS_1_001_CA_1_evaluation  0.061447  0.056024  0.055453  0.056062   \n",
       "1  FOODS_1_001_CA_1_validation  0.774729  0.735806  0.746152  0.703384   \n",
       "2  FOODS_1_001_CA_2_evaluation  0.058104  0.053326  0.052899  0.053452   \n",
       "3  FOODS_1_001_CA_2_validation  0.819393  0.795240  0.770128  0.768653   \n",
       "4  FOODS_1_001_CA_3_evaluation  0.084936  0.077511  0.077974  0.078308   \n",
       "\n",
       "F        F5        F6        F7        F8        F9  ...       F19       F20  \\\n",
       "0  0.062975  0.090256  0.087766  0.061327  0.056024  ...  0.041983  0.058817   \n",
       "1  0.989748  1.039084  0.972588  0.923342  0.903044  ...  0.988543  1.268164   \n",
       "2  0.060059  0.085115  0.079490  0.058836  0.053326  ...  0.069207  0.103948   \n",
       "3  0.875705  0.946626  0.631071  0.791662  0.844203  ...  0.969382  0.955087   \n",
       "4  0.084288  0.113057  0.109218  0.085246  0.077511  ...  0.056735  0.075324   \n",
       "\n",
       "F       F21       F22       F23       F24       F25       F26       F27  \\\n",
       "0  0.057712  0.039488  0.035537  0.035361  0.035720  0.040176  0.058756   \n",
       "1  1.125399  0.957094  0.935769  0.916974  0.866749  1.061474  1.251311   \n",
       "2  0.099509  0.064151  0.057916  0.057692  0.058040  0.067126  0.103754   \n",
       "3  1.582589  0.997250  1.035321  1.017689  1.157492  1.135288  1.317039   \n",
       "4  0.071497  0.053840  0.048610  0.049142  0.049330  0.053455  0.075332   \n",
       "\n",
       "F       F28  \n",
       "0  0.055131  \n",
       "1  1.103016  \n",
       "2  0.093290  \n",
       "3  1.511498  \n",
       "4  0.069358  \n",
       "\n",
       "[5 rows x 29 columns]"
      ]
     },
     "execution_count": 38,
     "metadata": {},
     "output_type": "execute_result"
    }
   ],
   "source": [
    "test[\"demand\"] = pred_calibrated\n",
    "#test[\"demand\"] = pred\n",
    "submission = test.pivot(index=\"id\", columns=\"F\", values=\"demand\").reset_index()[sample_submission.columns]\n",
    "submission.head()"
   ]
  },
  {
   "cell_type": "code",
   "execution_count": 39,
   "metadata": {},
   "outputs": [],
   "source": [
    "submission.to_csv(\"submission.csv\", index=False)"
   ]
  },
  {
   "cell_type": "code",
   "execution_count": 40,
   "metadata": {},
   "outputs": [],
   "source": [
    "#!kaggle competitions submit -c m5-forecasting-accuracy -f submission.csv -m \"20200505(2)\" # df[new_col_09] = df.groupby([subid])['demand'].transform(lambda x: x.shift(28).rolling(7*2).std()) added"
   ]
  },
  {
   "cell_type": "code",
   "execution_count": 41,
   "metadata": {},
   "outputs": [
    {
     "data": {
      "text/plain": [
       "\" with base_features = ['lag_t7_', 'lag_t14_', 'lag_t21_', 'lag_t28_', 'lag_t63_', 'lag_t84_', 'lag_t182_', \\n                          'rolling_mean_t7_', 'rolling_mean_t14_', 'rolling_mean_t21_', 'rolling_mean_t28_', 'rolling_mean_t63_', 'rolling_mean_t84_', 'rolling_mean_t182_',\\n                          'rolling_std_t7_', 'rolling_std_t14_', 'rolling_std_t21_', 'rolling_std_t28_', 'rolling_std_t63_', 'rolling_std_t84_', 'rolling_std_t182_']\\n\""
      ]
     },
     "execution_count": 41,
     "metadata": {},
     "output_type": "execute_result"
    }
   ],
   "source": [
    "#!kaggle competitions submit -c m5-forecasting-accuracy -f submission.csv -m \"20200505(3)\" \n",
    "''' with base_features = ['lag_t7_', 'lag_t14_', 'lag_t21_', 'lag_t28_', 'lag_t63_', 'lag_t84_', 'lag_t182_', \n",
    "                          'rolling_mean_t7_', 'rolling_mean_t14_', 'rolling_mean_t21_', 'rolling_mean_t28_', 'rolling_mean_t63_', 'rolling_mean_t84_', 'rolling_mean_t182_',\n",
    "                          'rolling_std_t7_', 'rolling_std_t14_', 'rolling_std_t21_', 'rolling_std_t28_', 'rolling_std_t63_', 'rolling_std_t84_', 'rolling_std_t182_']\n",
    "'''"
   ]
  },
  {
   "cell_type": "code",
   "execution_count": 42,
   "metadata": {},
   "outputs": [],
   "source": [
    "#!kaggle competitions submit -c m5-forecasting-accuracy -f submission.csv -m \"20200506(1) remove from lag7 from lag182 but lag28\"  # 0.54475"
   ]
  },
  {
   "cell_type": "code",
   "execution_count": 43,
   "metadata": {},
   "outputs": [],
   "source": [
    "#!kaggle competitions submit -c m5-forecasting-accuracy -f submission.csv -m \"20200506(2) increase num of leaves from 63 to 63*2\" # 0.54823"
   ]
  },
  {
   "cell_type": "code",
   "execution_count": 44,
   "metadata": {},
   "outputs": [],
   "source": [
    "#!kaggle competitions submit -c m5-forecasting-accuracy -f submission.csv -m \"20200506(3) reduce learning rate from 0.08 to 0.04 and increase num boost round from 2100 to 4200\" # 0.54979"
   ]
  },
  {
   "cell_type": "code",
   "execution_count": 45,
   "metadata": {},
   "outputs": [],
   "source": [
    "#!kaggle competitions submit -c m5-forecasting-accuracy -f submission.csv -m \"20200507(1) add std35, std42, std49 and std56\" # 0.54771"
   ]
  },
  {
   "cell_type": "code",
   "execution_count": 46,
   "metadata": {},
   "outputs": [],
   "source": [
    "#!kaggle competitions submit -c m5-forecasting-accuracy -f submission.csv -m \"20200507(2) add std364\" # 0.55362"
   ]
  },
  {
   "cell_type": "code",
   "execution_count": 47,
   "metadata": {},
   "outputs": [],
   "source": [
    "#!kaggle competitions submit -c m5-forecasting-accuracy -f submission.csv -m \"20200507(3) add mean364\" # 0.56688"
   ]
  },
  {
   "cell_type": "code",
   "execution_count": 48,
   "metadata": {},
   "outputs": [],
   "source": [
    "#!kaggle competitions submit -c m5-forecasting-accuracy -f submission.csv -m \"20200508(1) add mean35\" # 0.56041"
   ]
  },
  {
   "cell_type": "code",
   "execution_count": 49,
   "metadata": {},
   "outputs": [],
   "source": [
    "#!kaggle competitions submit -c m5-forecasting-accuracy -f submission.csv -m \"20200508(2) add mean42, mean49 and mean56\" # 0.55153"
   ]
  }
 ],
 "metadata": {
  "kernelspec": {
   "display_name": "Python 3",
   "language": "python",
   "name": "python3"
  },
  "language_info": {
   "codemirror_mode": {
    "name": "ipython",
    "version": 3
   },
   "file_extension": ".py",
   "mimetype": "text/x-python",
   "name": "python",
   "nbconvert_exporter": "python",
   "pygments_lexer": "ipython3",
   "version": "3.7.6"
  }
 },
 "nbformat": 4,
 "nbformat_minor": 4
}
