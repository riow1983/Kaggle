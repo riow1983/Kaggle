{
 "cells": [
  {
   "cell_type": "code",
   "execution_count": 1,
   "metadata": {},
   "outputs": [],
   "source": [
    "import warnings\n",
    "warnings.filterwarnings('ignore')\n",
    "import pandas as pd\n",
    "import numpy as np\n",
    "import matplotlib.pyplot as plt\n",
    "import gc\n",
    "import os\n",
    "from tqdm.notebook import tqdm"
   ]
  },
  {
   "cell_type": "code",
   "execution_count": 2,
   "metadata": {},
   "outputs": [],
   "source": [
    "#!pip install matplotlib"
   ]
  },
  {
   "cell_type": "code",
   "execution_count": 3,
   "metadata": {},
   "outputs": [],
   "source": [
    "path = \"./\"\n",
    "\n",
    "calendar = pd.read_csv(os.path.join(path, \"calendar.csv\"))\n",
    "selling_prices = pd.read_csv(os.path.join(path, \"sell_prices.csv\"))\n",
    "sample_submission = pd.read_csv(os.path.join(path, \"sample_submission.csv\"))\n",
    "sales = pd.read_csv(os.path.join(path, \"sales_train_validation.csv\"))"
   ]
  },
  {
   "cell_type": "code",
   "execution_count": 4,
   "metadata": {},
   "outputs": [
    {
     "name": "stdout",
     "output_type": "stream",
     "text": [
      "20200508(1).ipynb   processed_data\n",
      "20200508(2).ipynb   sales.csv\n",
      "20200517(1).ipynb   sales_train_validation.csv\n",
      "20200518(1).ipynb   sales_train_validation.csv.zip\n",
      "20200518(2).ipynb   sample_submission.csv\n",
      "20200519(1).ipynb   sample_submission.csv.zip\n",
      "20200523(1).ipynb   sell_prices.csv\n",
      "20200524(1).ipynb   sell_prices.csv.zip\n",
      "20200525(1).ipynb   skhts\n",
      "Untitled1.ipynb     submission.csv\n",
      "VAR\t\t    test_from_1858_till_1913.ipynb\n",
      "calendar.csv\t    test_from_1914_till_1969.ipynb\n",
      "darkmagic\t    train.bin\n",
      "docker_command.txt  url.txt\n",
      "model.txt\t    valid_data_label.npz\n"
     ]
    }
   ],
   "source": [
    "!ls"
   ]
  },
  {
   "cell_type": "code",
   "execution_count": 5,
   "metadata": {},
   "outputs": [],
   "source": [
    "#!apt-get install unzip"
   ]
  },
  {
   "cell_type": "code",
   "execution_count": 6,
   "metadata": {},
   "outputs": [],
   "source": [
    "#!unzip sales_train_validation.csv.zip"
   ]
  },
  {
   "cell_type": "code",
   "execution_count": 7,
   "metadata": {},
   "outputs": [],
   "source": [
    "#!unzip sample_submission.csv.zip"
   ]
  },
  {
   "cell_type": "code",
   "execution_count": 8,
   "metadata": {},
   "outputs": [],
   "source": [
    "#!unzip sell_prices.csv.zip"
   ]
  },
  {
   "cell_type": "code",
   "execution_count": 9,
   "metadata": {},
   "outputs": [
    {
     "data": {
      "text/plain": [
       "'\\ndef prep_calendar(df):\\n    df = df.drop([\"date\", \"weekday\"], axis=1)\\n    df = df.assign(d = df.d.str[2:].astype(int))\\n    \\n    to_ordinal = [\"event_name_1\", \"event_type_1\", \"event_name_2\", \"event_type_2\"] \\n    df[to_ordinal] = df[to_ordinal].fillna(\"1\")\\n    all_event_data = np.concatenate((df[to_ordinal[:2]].values, df[to_ordinal[2:]].values), axis=0)\\n    enc = OrdinalEncoder(dtype=\"int\").fit(all_event_data)\\n    df[to_ordinal[:2]] = enc.transform(df[to_ordinal[:2]]) + 1\\n    df[to_ordinal[2:]] = enc.transform(df[to_ordinal[2:]]) + 1\\n    \\n    to_int8 = [\"wday\", \"month\", \"snap_CA\", \"snap_TX\", \"snap_WI\"] + to_ordinal\\n    df[to_int8] = df[to_int8].astype(\"int8\")\\n    return df\\n'"
      ]
     },
     "execution_count": 9,
     "metadata": {},
     "output_type": "execute_result"
    }
   ],
   "source": [
    "from sklearn.preprocessing import OrdinalEncoder\n",
    "\n",
    "\n",
    "def prep_calendar(df):\n",
    "    df = df.drop([\"date\", \"weekday\", \"event_name_2\", \"event_type_2\"], axis=1)\n",
    "    df = df.assign(d = df.d.str[2:].astype(int))\n",
    "    to_ordinal = [\"event_name_1\", \"event_type_1\"] \n",
    "    df[to_ordinal] = df[to_ordinal].fillna(\"1\")\n",
    "    df[to_ordinal] = OrdinalEncoder(dtype=\"int\").fit_transform(df[to_ordinal]) + 1\n",
    "    to_int8 = [\"wday\", \"month\", \"snap_CA\", \"snap_TX\", \"snap_WI\"] + to_ordinal\n",
    "    df[to_int8] = df[to_int8].astype(\"int8\")\n",
    "    return df\n",
    "\n",
    "\n",
    "'''\n",
    "def prep_calendar(df):\n",
    "    df = df.drop([\"date\", \"weekday\"], axis=1)\n",
    "    df = df.assign(d = df.d.str[2:].astype(int))\n",
    "    \n",
    "    to_ordinal = [\"event_name_1\", \"event_type_1\", \"event_name_2\", \"event_type_2\"] \n",
    "    df[to_ordinal] = df[to_ordinal].fillna(\"1\")\n",
    "    all_event_data = np.concatenate((df[to_ordinal[:2]].values, df[to_ordinal[2:]].values), axis=0)\n",
    "    enc = OrdinalEncoder(dtype=\"int\").fit(all_event_data)\n",
    "    df[to_ordinal[:2]] = enc.transform(df[to_ordinal[:2]]) + 1\n",
    "    df[to_ordinal[2:]] = enc.transform(df[to_ordinal[2:]]) + 1\n",
    "    \n",
    "    to_int8 = [\"wday\", \"month\", \"snap_CA\", \"snap_TX\", \"snap_WI\"] + to_ordinal\n",
    "    df[to_int8] = df[to_int8].astype(\"int8\")\n",
    "    return df\n",
    "'''"
   ]
  },
  {
   "cell_type": "code",
   "execution_count": 10,
   "metadata": {},
   "outputs": [],
   "source": [
    "calendar = prep_calendar(calendar)"
   ]
  },
  {
   "cell_type": "code",
   "execution_count": 11,
   "metadata": {},
   "outputs": [],
   "source": [
    "def prep_selling_prices(df):\n",
    "    gr = df.groupby([\"store_id\", \"item_id\"])[\"sell_price\"]\n",
    "    df[\"sell_price_rel_diff\"] = gr.pct_change()\n",
    "    df[\"sell_price_cumrel\"] = (gr.shift(0) - gr.cummin()) / (1 + gr.cummax() - gr.cummin())\n",
    "    df[\"sell_price_roll_sd7\"] = gr.transform(lambda x: x.rolling(7).std())\n",
    "    to_float32 = [\"sell_price\", \"sell_price_rel_diff\", \"sell_price_cumrel\", \"sell_price_roll_sd7\"]\n",
    "    df[to_float32] = df[to_float32].astype(\"float32\")\n",
    "         \n",
    "    return df\n",
    "\n",
    "selling_prices = prep_selling_prices(selling_prices)"
   ]
  },
  {
   "cell_type": "code",
   "execution_count": 12,
   "metadata": {},
   "outputs": [],
   "source": [
    "def reshape_sales(df, drop_d = None):\n",
    "    if drop_d is not None:\n",
    "        df = df.drop([\"d_\" + str(i+1) for i in range(drop_d-1)], axis=1)\n",
    "    df = df.assign(id=df.id.str.replace(\"_validation\", \"\"))\n",
    "    df = df.reindex(columns=df.columns.tolist() + [\"d_\" + str(1913 + i + 1) for i in range(2 * 28)])\n",
    "    df = df.melt(id_vars=[\"id\", \"item_id\", \"dept_id\", \"cat_id\", \"store_id\", \"state_id\"],\n",
    "                 var_name='d', value_name='demand')\n",
    "    df = df.assign(d=df.d.str[2:].astype(\"int64\"))\n",
    "\n",
    "    return df\n",
    "\n",
    "#sales = reshape_sales(sales, 1000)\n",
    "sales = reshape_sales(sales)"
   ]
  },
  {
   "cell_type": "code",
   "execution_count": 13,
   "metadata": {},
   "outputs": [],
   "source": [
    "ids = sales.columns[sales.columns.str.contains(\"id\")]"
   ]
  },
  {
   "cell_type": "code",
   "execution_count": 14,
   "metadata": {},
   "outputs": [],
   "source": [
    "#ids = ids[:1]\n",
    "#ids = ids[:2]\n",
    "#print(ids)"
   ]
  },
  {
   "cell_type": "code",
   "execution_count": 15,
   "metadata": {},
   "outputs": [
    {
     "data": {
      "text/plain": [
       "'\\ndef prep_sales(df):\\n    df[\\'lag_t28\\'] = df.groupby([\\'id\\'])[\\'demand\\'].transform(lambda x: x.shift(28))\\n    df[\\'rolling_mean_t7\\'] = df.groupby([\\'id\\'])[\\'demand\\'].transform(lambda x: x.shift(28).rolling(7).mean())\\n    df[\\'rolling_mean_t30\\'] = df.groupby([\\'id\\'])[\\'demand\\'].transform(lambda x: x.shift(28).rolling(30).mean())\\n    df[\\'rolling_mean_t60\\'] = df.groupby([\\'id\\'])[\\'demand\\'].transform(lambda x: x.shift(28).rolling(60).mean())\\n    df[\\'rolling_mean_t90\\'] = df.groupby([\\'id\\'])[\\'demand\\'].transform(lambda x: x.shift(28).rolling(90).mean())\\n    df[\\'rolling_mean_t180\\'] = df.groupby([\\'id\\'])[\\'demand\\'].transform(lambda x: x.shift(28).rolling(180).mean())\\n    df[\\'rolling_std_t7\\'] = df.groupby([\\'id\\'])[\\'demand\\'].transform(lambda x: x.shift(28).rolling(7).std())\\n    df[\\'rolling_std_t30\\'] = df.groupby([\\'id\\'])[\\'demand\\'].transform(lambda x: x.shift(28).rolling(30).std())\\n  \\n    to_float32 = [\\'lag_t28\\', \\'rolling_mean_t7\\', \\'rolling_mean_t30\\', \\'rolling_mean_t60\\', \\n                  \\'rolling_mean_t90\\', \\'rolling_mean_t180\\', \\'rolling_std_t7\\', \\'rolling_std_t30\\']\\n    df[to_float32] = df[to_float32].astype(\"float32\")\\n    \\n    # Remove rows with NAs except for submission rows. rolling_mean_t180 was selected as it produces most missings\\n    df = df[(df.d >= 1914) | (pd.notna(df.rolling_mean_t180))]\\n \\n    return df\\n\\nsales = prep_sales(sales)\\n'"
      ]
     },
     "execution_count": 15,
     "metadata": {},
     "output_type": "execute_result"
    }
   ],
   "source": [
    "'''\n",
    "def prep_sales(df):\n",
    "    df['lag_t28'] = df.groupby(['id'])['demand'].transform(lambda x: x.shift(28))\n",
    "    df['rolling_mean_t7'] = df.groupby(['id'])['demand'].transform(lambda x: x.shift(28).rolling(7).mean())\n",
    "    df['rolling_mean_t30'] = df.groupby(['id'])['demand'].transform(lambda x: x.shift(28).rolling(30).mean())\n",
    "    df['rolling_mean_t60'] = df.groupby(['id'])['demand'].transform(lambda x: x.shift(28).rolling(60).mean())\n",
    "    df['rolling_mean_t90'] = df.groupby(['id'])['demand'].transform(lambda x: x.shift(28).rolling(90).mean())\n",
    "    df['rolling_mean_t180'] = df.groupby(['id'])['demand'].transform(lambda x: x.shift(28).rolling(180).mean())\n",
    "    df['rolling_std_t7'] = df.groupby(['id'])['demand'].transform(lambda x: x.shift(28).rolling(7).std())\n",
    "    df['rolling_std_t30'] = df.groupby(['id'])['demand'].transform(lambda x: x.shift(28).rolling(30).std())\n",
    "  \n",
    "    to_float32 = ['lag_t28', 'rolling_mean_t7', 'rolling_mean_t30', 'rolling_mean_t60', \n",
    "                  'rolling_mean_t90', 'rolling_mean_t180', 'rolling_std_t7', 'rolling_std_t30']\n",
    "    df[to_float32] = df[to_float32].astype(\"float32\")\n",
    "    \n",
    "    # Remove rows with NAs except for submission rows. rolling_mean_t180 was selected as it produces most missings\n",
    "    df = df[(df.d >= 1914) | (pd.notna(df.rolling_mean_t180))]\n",
    " \n",
    "    return df\n",
    "\n",
    "sales = prep_sales(sales)\n",
    "'''"
   ]
  },
  {
   "cell_type": "code",
   "execution_count": 16,
   "metadata": {},
   "outputs": [
    {
     "data": {
      "text/plain": [
       "'\\ndef prep_sales_ex(df, subid=None):\\n    new_col_01 = \\'lag_t28_\\' + subid\\n    new_col_02 = \\'rolling_mean_t7_\\' + subid\\n    new_col_03 = \\'rolling_mean_t30_\\' + subid\\n    new_col_04 = \\'rolling_mean_t60_\\' + subid\\n    new_col_05 = \\'rolling_mean_t90_\\' + subid\\n    new_col_06 = \\'rolling_mean_t180_\\' + subid\\n    new_col_07 = \\'rolling_std_t7_\\' + subid\\n    new_col_08 = \\'rolling_std_t30_\\' + subid\\n    #new_col_09 = \\'rolling_std_t60_\\' + subid\\n    new_col_09 = \\'rolling_mean_t14_\\' + subid\\n    df[new_col_01] = df.groupby([subid])[\\'demand\\'].transform(lambda x: x.shift(28))\\n    df[new_col_02] = df.groupby([subid])[\\'demand\\'].transform(lambda x: x.shift(28).rolling(7).mean())\\n    df[new_col_03] = df.groupby([subid])[\\'demand\\'].transform(lambda x: x.shift(28).rolling(30).mean())\\n    df[new_col_04] = df.groupby([subid])[\\'demand\\'].transform(lambda x: x.shift(28).rolling(60).mean())\\n    df[new_col_05] = df.groupby([subid])[\\'demand\\'].transform(lambda x: x.shift(28).rolling(90).mean())\\n    df[new_col_06] = df.groupby([subid])[\\'demand\\'].transform(lambda x: x.shift(28).rolling(180).mean())\\n    df[new_col_07] = df.groupby([subid])[\\'demand\\'].transform(lambda x: x.shift(28).rolling(7).std())\\n    df[new_col_08] = df.groupby([subid])[\\'demand\\'].transform(lambda x: x.shift(28).rolling(30).std())\\n    #df[new_col_09] = df.groupby([subid])[\\'demand\\'].transform(lambda x: x.shift(28).rolling(60).std())\\n    df[new_col_09] = df.groupby([subid])[\\'demand\\'].transform(lambda x: x.shift(28).rolling(7*2).std())\\n  \\n    to_float32 = [new_col_01, new_col_02, new_col_03, new_col_04, new_col_05, new_col_06, new_col_07, new_col_08, new_col_09]\\n    df[to_float32] = df[to_float32].astype(\"float32\")\\n    \\n    # Remove rows with NAs except for submission rows. rolling_mean_t180 was selected as it produces most missings\\n    df = df[(df.d >= 1914) | (pd.notna(df[new_col_06]))]\\n \\n    return df\\n\\nfor subid in ids:\\n    sales = prep_sales_ex(sales, subid=subid)\\n'"
      ]
     },
     "execution_count": 16,
     "metadata": {},
     "output_type": "execute_result"
    }
   ],
   "source": [
    "'''\n",
    "def prep_sales_ex(df, subid=None):\n",
    "    new_col_01 = 'lag_t28_' + subid\n",
    "    new_col_02 = 'rolling_mean_t7_' + subid\n",
    "    new_col_03 = 'rolling_mean_t30_' + subid\n",
    "    new_col_04 = 'rolling_mean_t60_' + subid\n",
    "    new_col_05 = 'rolling_mean_t90_' + subid\n",
    "    new_col_06 = 'rolling_mean_t180_' + subid\n",
    "    new_col_07 = 'rolling_std_t7_' + subid\n",
    "    new_col_08 = 'rolling_std_t30_' + subid\n",
    "    #new_col_09 = 'rolling_std_t60_' + subid\n",
    "    new_col_09 = 'rolling_mean_t14_' + subid\n",
    "    df[new_col_01] = df.groupby([subid])['demand'].transform(lambda x: x.shift(28))\n",
    "    df[new_col_02] = df.groupby([subid])['demand'].transform(lambda x: x.shift(28).rolling(7).mean())\n",
    "    df[new_col_03] = df.groupby([subid])['demand'].transform(lambda x: x.shift(28).rolling(30).mean())\n",
    "    df[new_col_04] = df.groupby([subid])['demand'].transform(lambda x: x.shift(28).rolling(60).mean())\n",
    "    df[new_col_05] = df.groupby([subid])['demand'].transform(lambda x: x.shift(28).rolling(90).mean())\n",
    "    df[new_col_06] = df.groupby([subid])['demand'].transform(lambda x: x.shift(28).rolling(180).mean())\n",
    "    df[new_col_07] = df.groupby([subid])['demand'].transform(lambda x: x.shift(28).rolling(7).std())\n",
    "    df[new_col_08] = df.groupby([subid])['demand'].transform(lambda x: x.shift(28).rolling(30).std())\n",
    "    #df[new_col_09] = df.groupby([subid])['demand'].transform(lambda x: x.shift(28).rolling(60).std())\n",
    "    df[new_col_09] = df.groupby([subid])['demand'].transform(lambda x: x.shift(28).rolling(7*2).std())\n",
    "  \n",
    "    to_float32 = [new_col_01, new_col_02, new_col_03, new_col_04, new_col_05, new_col_06, new_col_07, new_col_08, new_col_09]\n",
    "    df[to_float32] = df[to_float32].astype(\"float32\")\n",
    "    \n",
    "    # Remove rows with NAs except for submission rows. rolling_mean_t180 was selected as it produces most missings\n",
    "    df = df[(df.d >= 1914) | (pd.notna(df[new_col_06]))]\n",
    " \n",
    "    return df\n",
    "\n",
    "for subid in ids:\n",
    "    sales = prep_sales_ex(sales, subid=subid)\n",
    "'''"
   ]
  },
  {
   "cell_type": "code",
   "execution_count": 17,
   "metadata": {},
   "outputs": [
    {
     "data": {
      "text/plain": [
       "'\\ndef prep_sales_ex(df, subid=None):\\n    #new_col_01 = \\'lag_t7_\\' + subid\\n    #new_col_02 = \\'lag_t14_\\' + subid\\n    #new_col_03 = \\'lag_t21_\\' + subid\\n    new_col_04 = \\'lag_t28_\\' + subid\\n    #new_col_05 = \\'lag_t63_\\' + subid\\n    #new_col_06 = \\'lag_t84_\\' + subid\\n    #new_col_07 = \\'lag_t182_\\' + subid\\n    \\n    new_col_08 = \\'rolling_mean_t7_\\' + subid\\n    new_col_09 = \\'rolling_mean_t14_\\' + subid\\n    new_col_10 = \\'rolling_mean_t21_\\' + subid\\n    new_col_11 = \\'rolling_mean_t28_\\' + subid\\n    new_col_28 = \\'rolling_mean_t35_\\' + subid\\n    new_col_29 = \\'rolling_mean_t42_\\' + subid\\n    new_col_30 = \\'rolling_mean_t49_\\' + subid\\n    new_col_31 = \\'rolling_mean_t56_\\' + subid\\n    new_col_12 = \\'rolling_mean_t63_\\' + subid\\n    new_col_13 = \\'rolling_mean_t84_\\' + subid\\n    new_col_14 = \\'rolling_mean_t182_\\' + subid\\n    new_col_27 = \\'rolling_mean_t364_\\' + subid\\n    \\n    new_col_15 = \\'rolling_std_t7_\\' + subid\\n    new_col_16 = \\'rolling_std_t14_\\' + subid\\n    new_col_17 = \\'rolling_std_t21_\\' + subid\\n    new_col_18 = \\'rolling_std_t28_\\' + subid\\n    new_col_19 = \\'rolling_std_t35_\\' + subid\\n    new_col_20 = \\'rolling_std_t42_\\' + subid\\n    new_col_21 = \\'rolling_std_t49_\\' + subid\\n    new_col_22 = \\'rolling_std_t56_\\' + subid\\n    new_col_23 = \\'rolling_std_t63_\\' + subid\\n    new_col_24 = \\'rolling_std_t84_\\' + subid\\n    new_col_25 = \\'rolling_std_t182_\\' + subid\\n    new_col_26 = \\'rolling_std_t364_\\' + subid\\n    \\n    \\n    #df[new_col_01] = df.groupby([subid])[\\'demand\\'].transform(lambda x: x.shift(7))\\n    #df[new_col_02] = df.groupby([subid])[\\'demand\\'].transform(lambda x: x.shift(7*2))\\n    #df[new_col_03] = df.groupby([subid])[\\'demand\\'].transform(lambda x: x.shift(7*3))\\n    df[new_col_04] = df.groupby([subid])[\\'demand\\'].transform(lambda x: x.shift(7*4))\\n    #df[new_col_05] = df.groupby([subid])[\\'demand\\'].transform(lambda x: x.shift(7*9))\\n    #df[new_col_06] = df.groupby([subid])[\\'demand\\'].transform(lambda x: x.shift(7*12))\\n    #df[new_col_07] = df.groupby([subid])[\\'demand\\'].transform(lambda x: x.shift(7*26))\\n    \\n    df[new_col_08] = df.groupby([subid])[\\'demand\\'].transform(lambda x: x.shift(28).rolling(7).mean())\\n    df[new_col_09] = df.groupby([subid])[\\'demand\\'].transform(lambda x: x.shift(28).rolling(7*2).mean())\\n    df[new_col_10] = df.groupby([subid])[\\'demand\\'].transform(lambda x: x.shift(28).rolling(7*3).mean())\\n    df[new_col_11] = df.groupby([subid])[\\'demand\\'].transform(lambda x: x.shift(28).rolling(7*4).mean())\\n    df[new_col_28] = df.groupby([subid])[\\'demand\\'].transform(lambda x: x.shift(28).rolling(7*5).mean())\\n    df[new_col_29] = df.groupby([subid])[\\'demand\\'].transform(lambda x: x.shift(28).rolling(7*6).mean())\\n    df[new_col_30] = df.groupby([subid])[\\'demand\\'].transform(lambda x: x.shift(28).rolling(7*7).mean())\\n    df[new_col_31] = df.groupby([subid])[\\'demand\\'].transform(lambda x: x.shift(28).rolling(7*8).mean())\\n    df[new_col_12] = df.groupby([subid])[\\'demand\\'].transform(lambda x: x.shift(28).rolling(7*9).mean())\\n    df[new_col_13] = df.groupby([subid])[\\'demand\\'].transform(lambda x: x.shift(28).rolling(7*12).mean())\\n    df[new_col_14] = df.groupby([subid])[\\'demand\\'].transform(lambda x: x.shift(28).rolling(7*26).mean())\\n    df[new_col_27] = df.groupby([subid])[\\'demand\\'].transform(lambda x: x.shift(28).rolling(7*26*2).mean())\\n\\n    df[new_col_15] = df.groupby([subid])[\\'demand\\'].transform(lambda x: x.shift(28).rolling(7).std())\\n    df[new_col_16] = df.groupby([subid])[\\'demand\\'].transform(lambda x: x.shift(28).rolling(7*2).std())\\n    df[new_col_17] = df.groupby([subid])[\\'demand\\'].transform(lambda x: x.shift(28).rolling(7*3).std())\\n    df[new_col_18] = df.groupby([subid])[\\'demand\\'].transform(lambda x: x.shift(28).rolling(7*4).std())\\n    df[new_col_19] = df.groupby([subid])[\\'demand\\'].transform(lambda x: x.shift(28).rolling(7*5).std())\\n    df[new_col_20] = df.groupby([subid])[\\'demand\\'].transform(lambda x: x.shift(28).rolling(7*6).std())\\n    df[new_col_21] = df.groupby([subid])[\\'demand\\'].transform(lambda x: x.shift(28).rolling(7*7).std())\\n    df[new_col_22] = df.groupby([subid])[\\'demand\\'].transform(lambda x: x.shift(28).rolling(7*8).std())\\n    df[new_col_23] = df.groupby([subid])[\\'demand\\'].transform(lambda x: x.shift(28).rolling(7*9).std())\\n    df[new_col_24] = df.groupby([subid])[\\'demand\\'].transform(lambda x: x.shift(28).rolling(7*12).std())\\n    df[new_col_25] = df.groupby([subid])[\\'demand\\'].transform(lambda x: x.shift(28).rolling(7*26).std())\\n    df[new_col_26] = df.groupby([subid])[\\'demand\\'].transform(lambda x: x.shift(28).rolling(7*26*2).std())\\n  \\n    to_float32 = [#new_col_01, new_col_02, new_col_03, new_col_04, new_col_05, new_col_06, new_col_07,\\n                  new_col_04,\\n                  new_col_08, new_col_09, new_col_10, new_col_11, new_col_28, new_col_29, new_col_30, new_col_31,\\n                  new_col_12, new_col_13, new_col_14, new_col_27,\\n                  new_col_15, new_col_16, new_col_17, new_col_18, new_col_19, new_col_20, new_col_21, new_col_22, new_col_23, new_col_24, new_col_25, new_col_26]\\n    df[to_float32] = df[to_float32].astype(\"float32\")\\n    \\n    # Remove rows with NAs except for submission rows. rolling_mean_t182 was selected as it produces most missings\\n    df = df[(df.d >= 1914) | (pd.notna(df[new_col_26]))]\\n \\n    return df\\n\\nfor subid in ids:\\n    sales = prep_sales_ex(sales, subid=subid)\\n'"
      ]
     },
     "execution_count": 17,
     "metadata": {},
     "output_type": "execute_result"
    }
   ],
   "source": [
    "'''\n",
    "def prep_sales_ex(df, subid=None):\n",
    "    #new_col_01 = 'lag_t7_' + subid\n",
    "    #new_col_02 = 'lag_t14_' + subid\n",
    "    #new_col_03 = 'lag_t21_' + subid\n",
    "    new_col_04 = 'lag_t28_' + subid\n",
    "    #new_col_05 = 'lag_t63_' + subid\n",
    "    #new_col_06 = 'lag_t84_' + subid\n",
    "    #new_col_07 = 'lag_t182_' + subid\n",
    "    \n",
    "    new_col_08 = 'rolling_mean_t7_' + subid\n",
    "    new_col_09 = 'rolling_mean_t14_' + subid\n",
    "    new_col_10 = 'rolling_mean_t21_' + subid\n",
    "    new_col_11 = 'rolling_mean_t28_' + subid\n",
    "    new_col_28 = 'rolling_mean_t35_' + subid\n",
    "    new_col_29 = 'rolling_mean_t42_' + subid\n",
    "    new_col_30 = 'rolling_mean_t49_' + subid\n",
    "    new_col_31 = 'rolling_mean_t56_' + subid\n",
    "    new_col_12 = 'rolling_mean_t63_' + subid\n",
    "    new_col_13 = 'rolling_mean_t84_' + subid\n",
    "    new_col_14 = 'rolling_mean_t182_' + subid\n",
    "    new_col_27 = 'rolling_mean_t364_' + subid\n",
    "    \n",
    "    new_col_15 = 'rolling_std_t7_' + subid\n",
    "    new_col_16 = 'rolling_std_t14_' + subid\n",
    "    new_col_17 = 'rolling_std_t21_' + subid\n",
    "    new_col_18 = 'rolling_std_t28_' + subid\n",
    "    new_col_19 = 'rolling_std_t35_' + subid\n",
    "    new_col_20 = 'rolling_std_t42_' + subid\n",
    "    new_col_21 = 'rolling_std_t49_' + subid\n",
    "    new_col_22 = 'rolling_std_t56_' + subid\n",
    "    new_col_23 = 'rolling_std_t63_' + subid\n",
    "    new_col_24 = 'rolling_std_t84_' + subid\n",
    "    new_col_25 = 'rolling_std_t182_' + subid\n",
    "    new_col_26 = 'rolling_std_t364_' + subid\n",
    "    \n",
    "    \n",
    "    #df[new_col_01] = df.groupby([subid])['demand'].transform(lambda x: x.shift(7))\n",
    "    #df[new_col_02] = df.groupby([subid])['demand'].transform(lambda x: x.shift(7*2))\n",
    "    #df[new_col_03] = df.groupby([subid])['demand'].transform(lambda x: x.shift(7*3))\n",
    "    df[new_col_04] = df.groupby([subid])['demand'].transform(lambda x: x.shift(7*4))\n",
    "    #df[new_col_05] = df.groupby([subid])['demand'].transform(lambda x: x.shift(7*9))\n",
    "    #df[new_col_06] = df.groupby([subid])['demand'].transform(lambda x: x.shift(7*12))\n",
    "    #df[new_col_07] = df.groupby([subid])['demand'].transform(lambda x: x.shift(7*26))\n",
    "    \n",
    "    df[new_col_08] = df.groupby([subid])['demand'].transform(lambda x: x.shift(28).rolling(7).mean())\n",
    "    df[new_col_09] = df.groupby([subid])['demand'].transform(lambda x: x.shift(28).rolling(7*2).mean())\n",
    "    df[new_col_10] = df.groupby([subid])['demand'].transform(lambda x: x.shift(28).rolling(7*3).mean())\n",
    "    df[new_col_11] = df.groupby([subid])['demand'].transform(lambda x: x.shift(28).rolling(7*4).mean())\n",
    "    df[new_col_28] = df.groupby([subid])['demand'].transform(lambda x: x.shift(28).rolling(7*5).mean())\n",
    "    df[new_col_29] = df.groupby([subid])['demand'].transform(lambda x: x.shift(28).rolling(7*6).mean())\n",
    "    df[new_col_30] = df.groupby([subid])['demand'].transform(lambda x: x.shift(28).rolling(7*7).mean())\n",
    "    df[new_col_31] = df.groupby([subid])['demand'].transform(lambda x: x.shift(28).rolling(7*8).mean())\n",
    "    df[new_col_12] = df.groupby([subid])['demand'].transform(lambda x: x.shift(28).rolling(7*9).mean())\n",
    "    df[new_col_13] = df.groupby([subid])['demand'].transform(lambda x: x.shift(28).rolling(7*12).mean())\n",
    "    df[new_col_14] = df.groupby([subid])['demand'].transform(lambda x: x.shift(28).rolling(7*26).mean())\n",
    "    df[new_col_27] = df.groupby([subid])['demand'].transform(lambda x: x.shift(28).rolling(7*26*2).mean())\n",
    "\n",
    "    df[new_col_15] = df.groupby([subid])['demand'].transform(lambda x: x.shift(28).rolling(7).std())\n",
    "    df[new_col_16] = df.groupby([subid])['demand'].transform(lambda x: x.shift(28).rolling(7*2).std())\n",
    "    df[new_col_17] = df.groupby([subid])['demand'].transform(lambda x: x.shift(28).rolling(7*3).std())\n",
    "    df[new_col_18] = df.groupby([subid])['demand'].transform(lambda x: x.shift(28).rolling(7*4).std())\n",
    "    df[new_col_19] = df.groupby([subid])['demand'].transform(lambda x: x.shift(28).rolling(7*5).std())\n",
    "    df[new_col_20] = df.groupby([subid])['demand'].transform(lambda x: x.shift(28).rolling(7*6).std())\n",
    "    df[new_col_21] = df.groupby([subid])['demand'].transform(lambda x: x.shift(28).rolling(7*7).std())\n",
    "    df[new_col_22] = df.groupby([subid])['demand'].transform(lambda x: x.shift(28).rolling(7*8).std())\n",
    "    df[new_col_23] = df.groupby([subid])['demand'].transform(lambda x: x.shift(28).rolling(7*9).std())\n",
    "    df[new_col_24] = df.groupby([subid])['demand'].transform(lambda x: x.shift(28).rolling(7*12).std())\n",
    "    df[new_col_25] = df.groupby([subid])['demand'].transform(lambda x: x.shift(28).rolling(7*26).std())\n",
    "    df[new_col_26] = df.groupby([subid])['demand'].transform(lambda x: x.shift(28).rolling(7*26*2).std())\n",
    "  \n",
    "    to_float32 = [#new_col_01, new_col_02, new_col_03, new_col_04, new_col_05, new_col_06, new_col_07,\n",
    "                  new_col_04,\n",
    "                  new_col_08, new_col_09, new_col_10, new_col_11, new_col_28, new_col_29, new_col_30, new_col_31,\n",
    "                  new_col_12, new_col_13, new_col_14, new_col_27,\n",
    "                  new_col_15, new_col_16, new_col_17, new_col_18, new_col_19, new_col_20, new_col_21, new_col_22, new_col_23, new_col_24, new_col_25, new_col_26]\n",
    "    df[to_float32] = df[to_float32].astype(\"float32\")\n",
    "    \n",
    "    # Remove rows with NAs except for submission rows. rolling_mean_t182 was selected as it produces most missings\n",
    "    df = df[(df.d >= 1914) | (pd.notna(df[new_col_26]))]\n",
    " \n",
    "    return df\n",
    "\n",
    "for subid in ids:\n",
    "    sales = prep_sales_ex(sales, subid=subid)\n",
    "'''"
   ]
  },
  {
   "cell_type": "code",
   "execution_count": 18,
   "metadata": {},
   "outputs": [],
   "source": [
    "cols = ['lag_t28_',\n",
    "        'rolling_mean_t7_', 'rolling_mean_t14_', 'rolling_mean_t21_', 'rolling_mean_t28_', 'rolling_mean_t63_', 'rolling_mean_t84_', 'rolling_mean_t182_',\n",
    "        'rolling_std_t7_', 'rolling_std_t14_', 'rolling_std_t21_', 'rolling_std_t28_', 'rolling_std_t63_', 'rolling_std_t84_', 'rolling_std_t182_']"
   ]
  },
  {
   "cell_type": "code",
   "execution_count": 19,
   "metadata": {},
   "outputs": [],
   "source": [
    "def prep_sales_ex(df, cols=None, subid=None):\n",
    "    new_cols = [col+subid for col in cols]\n",
    "    nums=[]\n",
    "    for col in new_cols:\n",
    "        if \"mean\" in col:\n",
    "            num = int(col.split(\"_\")[2][1:])\n",
    "            #print(\"mean: \", num)\n",
    "            df[col] = df.groupby([subid])['demand'].transform(lambda x: x.shift(28).rolling(num).mean())\n",
    "            nums.append(num)\n",
    "        elif \"std\" in col:\n",
    "            num = int(col.split(\"_\")[2][1:])\n",
    "            #print(\"std: \", num)\n",
    "            df[col] = df.groupby([subid])['demand'].transform(lambda x: x.shift(28).rolling(num).std())\n",
    "            nums.append(num)\n",
    "        else:\n",
    "            num = int(col.split(\"_\")[1][1:])\n",
    "            #print(\"lag: \", num)\n",
    "            df[col] = df.groupby([subid])['demand'].transform(lambda x: x.shift(num))\n",
    "            nums.append(num)\n",
    "  \n",
    "    df[new_cols] = df[new_cols].astype(\"float32\")\n",
    "    \n",
    "    # Remove rows with NAs except for submission rows. rolling_xx_t{max} was selected as it produces most missings\n",
    "    df = df[(df.d >= 1914) | (pd.notna(df[new_cols[np.argmax(nums)]]))]\n",
    " \n",
    "    return df\n",
    "\n",
    "\n",
    "for subid in ids:\n",
    "    sales = prep_sales_ex(sales, cols=cols, subid=subid)\n",
    "#del ids"
   ]
  },
  {
   "cell_type": "code",
   "execution_count": 20,
   "metadata": {},
   "outputs": [
    {
     "data": {
      "text/plain": [
       "'\\ndef prep_sales_ex(df, subid=None):\\n    new_col_01 = \\'lag_t28_\\' + subid\\n    \\n    new_col_02 = \\'rolling_mean_t7_\\' + subid\\n    new_col_03 = \\'rolling_mean_t14_\\' + subid\\n    new_col_04 = \\'rolling_mean_t21_\\' + subid\\n    new_col_05 = \\'rolling_mean_t28_\\' + subid\\n    new_col_06 = \\'rolling_mean_t63_\\' + subid\\n    new_col_07 = \\'rolling_mean_t84_\\' + subid\\n    new_col_08 = \\'rolling_mean_t182_\\' + subid\\n    \\n    new_col_09 = \\'rolling_std_t7_\\' + subid\\n    new_col_10 = \\'rolling_std_t14_\\' + subid\\n    new_col_11 = \\'rolling_std_t21_\\' + subid\\n    new_col_12 = \\'rolling_std_t28_\\' + subid\\n    new_col_13 = \\'rolling_std_t63_\\' + subid\\n    new_col_14 = \\'rolling_std_t84_\\' + subid\\n    new_col_15 = \\'rolling_std_t182_\\' + subid\\n    \\n    \\n    df[new_col_01] = df.groupby([subid])[\\'demand\\'].transform(lambda x: x.shift(28))\\n    \\n    df[new_col_02] = df.groupby([subid])[\\'demand\\'].transform(lambda x: x.shift(28).rolling(7).mean())\\n    df[new_col_03] = df.groupby([subid])[\\'demand\\'].transform(lambda x: x.shift(28).rolling(14).mean())\\n    df[new_col_04] = df.groupby([subid])[\\'demand\\'].transform(lambda x: x.shift(28).rolling(21).mean())\\n    df[new_col_05] = df.groupby([subid])[\\'demand\\'].transform(lambda x: x.shift(28).rolling(28).mean())\\n    df[new_col_06] = df.groupby([subid])[\\'demand\\'].transform(lambda x: x.shift(28).rolling(63).mean())\\n    df[new_col_07] = df.groupby([subid])[\\'demand\\'].transform(lambda x: x.shift(28).rolling(84).mean())\\n    df[new_col_08] = df.groupby([subid])[\\'demand\\'].transform(lambda x: x.shift(28).rolling(182).mean())\\n    \\n    df[new_col_09] = df.groupby([subid])[\\'demand\\'].transform(lambda x: x.shift(28).rolling(7).std())\\n    df[new_col_10] = df.groupby([subid])[\\'demand\\'].transform(lambda x: x.shift(28).rolling(14).std())\\n    df[new_col_11] = df.groupby([subid])[\\'demand\\'].transform(lambda x: x.shift(28).rolling(21).std())\\n    df[new_col_12] = df.groupby([subid])[\\'demand\\'].transform(lambda x: x.shift(28).rolling(28).std())\\n    df[new_col_13] = df.groupby([subid])[\\'demand\\'].transform(lambda x: x.shift(28).rolling(63).std())\\n    df[new_col_14] = df.groupby([subid])[\\'demand\\'].transform(lambda x: x.shift(28).rolling(84).std())\\n    df[new_col_15] = df.groupby([subid])[\\'demand\\'].transform(lambda x: x.shift(28).rolling(182).std())\\n  \\n    to_float32 = [new_col_01, new_col_02, new_col_03, new_col_04, new_col_05, new_col_06, new_col_07, new_col_08,\\n                  new_col_09, new_col_10, new_col_11, ]\\n    df[to_float32] = df[to_float32].astype(\"float32\")\\n    \\n    # Remove rows with NAs except for submission rows. rolling_mean_t180 was selected as it produces most missings\\n    df = df[(df.d >= 1914) | (pd.notna(df[new_col_06]))]\\n \\n    return df\\n\\nfor subid in ids:\\n    sales = prep_sales_ex(sales, subid=subid)\\n'"
      ]
     },
     "execution_count": 20,
     "metadata": {},
     "output_type": "execute_result"
    }
   ],
   "source": [
    "\"\"\"\n",
    "def prep_sales_ex(df, subid=None):\n",
    "    new_col_01 = 'lag_t28_' + subid\n",
    "    \n",
    "    new_col_02 = 'rolling_mean_t7_' + subid\n",
    "    new_col_03 = 'rolling_mean_t14_' + subid\n",
    "    new_col_04 = 'rolling_mean_t21_' + subid\n",
    "    new_col_05 = 'rolling_mean_t28_' + subid\n",
    "    new_col_06 = 'rolling_mean_t63_' + subid\n",
    "    new_col_07 = 'rolling_mean_t84_' + subid\n",
    "    new_col_08 = 'rolling_mean_t182_' + subid\n",
    "    \n",
    "    new_col_09 = 'rolling_std_t7_' + subid\n",
    "    new_col_10 = 'rolling_std_t14_' + subid\n",
    "    new_col_11 = 'rolling_std_t21_' + subid\n",
    "    new_col_12 = 'rolling_std_t28_' + subid\n",
    "    new_col_13 = 'rolling_std_t63_' + subid\n",
    "    new_col_14 = 'rolling_std_t84_' + subid\n",
    "    new_col_15 = 'rolling_std_t182_' + subid\n",
    "    \n",
    "    \n",
    "    df[new_col_01] = df.groupby([subid])['demand'].transform(lambda x: x.shift(28))\n",
    "    \n",
    "    df[new_col_02] = df.groupby([subid])['demand'].transform(lambda x: x.shift(28).rolling(7).mean())\n",
    "    df[new_col_03] = df.groupby([subid])['demand'].transform(lambda x: x.shift(28).rolling(14).mean())\n",
    "    df[new_col_04] = df.groupby([subid])['demand'].transform(lambda x: x.shift(28).rolling(21).mean())\n",
    "    df[new_col_05] = df.groupby([subid])['demand'].transform(lambda x: x.shift(28).rolling(28).mean())\n",
    "    df[new_col_06] = df.groupby([subid])['demand'].transform(lambda x: x.shift(28).rolling(63).mean())\n",
    "    df[new_col_07] = df.groupby([subid])['demand'].transform(lambda x: x.shift(28).rolling(84).mean())\n",
    "    df[new_col_08] = df.groupby([subid])['demand'].transform(lambda x: x.shift(28).rolling(182).mean())\n",
    "    \n",
    "    df[new_col_09] = df.groupby([subid])['demand'].transform(lambda x: x.shift(28).rolling(7).std())\n",
    "    df[new_col_10] = df.groupby([subid])['demand'].transform(lambda x: x.shift(28).rolling(14).std())\n",
    "    df[new_col_11] = df.groupby([subid])['demand'].transform(lambda x: x.shift(28).rolling(21).std())\n",
    "    df[new_col_12] = df.groupby([subid])['demand'].transform(lambda x: x.shift(28).rolling(28).std())\n",
    "    df[new_col_13] = df.groupby([subid])['demand'].transform(lambda x: x.shift(28).rolling(63).std())\n",
    "    df[new_col_14] = df.groupby([subid])['demand'].transform(lambda x: x.shift(28).rolling(84).std())\n",
    "    df[new_col_15] = df.groupby([subid])['demand'].transform(lambda x: x.shift(28).rolling(182).std())\n",
    "  \n",
    "    to_float32 = [new_col_01, new_col_02, new_col_03, new_col_04, new_col_05, new_col_06, new_col_07, new_col_08,\n",
    "                  new_col_09, new_col_10, new_col_11, ]\n",
    "    df[to_float32] = df[to_float32].astype(\"float32\")\n",
    "    \n",
    "    # Remove rows with NAs except for submission rows. rolling_mean_t180 was selected as it produces most missings\n",
    "    df = df[(df.d >= 1914) | (pd.notna(df[new_col_06]))]\n",
    " \n",
    "    return df\n",
    "\n",
    "for subid in ids:\n",
    "    sales = prep_sales_ex(sales, subid=subid)\n",
    "\"\"\""
   ]
  },
  {
   "cell_type": "code",
   "execution_count": 21,
   "metadata": {},
   "outputs": [],
   "source": [
    "# d >= 1914 has no demand (1914 <= d < 1941: validation, d >= 1941: test)\n",
    "#sales[sales[\"demand\"].isnull()][\"d\"].unique()"
   ]
  },
  {
   "cell_type": "code",
   "execution_count": 22,
   "metadata": {},
   "outputs": [],
   "source": [
    "sales = sales.merge(calendar, how=\"left\", on=\"d\")\n",
    "gc.collect()\n",
    "del calendar"
   ]
  },
  {
   "cell_type": "code",
   "execution_count": 23,
   "metadata": {},
   "outputs": [],
   "source": [
    "sales = sales.merge(selling_prices, how=\"left\", on=[\"store_id\", \"item_id\", \"wm_yr_wk\"])\n",
    "sales.drop([\"wm_yr_wk\"], axis=1, inplace=True)\n",
    "gc.collect()\n",
    "del selling_prices"
   ]
  },
  {
   "cell_type": "code",
   "execution_count": 24,
   "metadata": {},
   "outputs": [
    {
     "data": {
      "text/plain": [
       "22"
      ]
     },
     "execution_count": 24,
     "metadata": {},
     "output_type": "execute_result"
    }
   ],
   "source": [
    "#for i, v in tqdm(enumerate([\"item_id\", \"dept_id\", \"store_id\", \"cat_id\", \"state_id\"])):\n",
    "for i, v in enumerate([\"item_id\", \"dept_id\", \"store_id\", \"cat_id\", \"state_id\"]):\n",
    "    sales[v] = OrdinalEncoder(dtype=\"int\").fit_transform(sales[[v]]).astype(\"int16\") + 1\n",
    "gc.collect()"
   ]
  },
  {
   "cell_type": "code",
   "execution_count": null,
   "metadata": {},
   "outputs": [],
   "source": [
    "sales.to_csv(\"sales_20200525(1).csv\")"
   ]
  },
  {
   "cell_type": "code",
   "execution_count": 35,
   "metadata": {},
   "outputs": [],
   "source": [
    "# Start from here from next time\n",
    "#sales = pd.read_csv(\"sales_20200525(1).csv\")"
   ]
  },
  {
   "cell_type": "code",
   "execution_count": 36,
   "metadata": {},
   "outputs": [],
   "source": [
    "\"\"\"\n",
    "base_features = ['lag_t28_',\n",
    "                 'rolling_mean_t7_', 'rolling_mean_t30_', 'rolling_mean_t60_', 'rolling_mean_t90_', 'rolling_mean_t180_', \n",
    "                 'rolling_std_t7_', 'rolling_std_t30_', 'rolling_std_t60_', 'rolling_std_t90_', 'rolling_std_t180_']\n",
    "\"\"\"\n",
    "extended_features = []\n",
    "for subid in ids:\n",
    "    tmp = [v+subid for v in cols]\n",
    "    extended_features.extend(tmp)\n",
    "del ids"
   ]
  },
  {
   "cell_type": "code",
   "execution_count": 38,
   "metadata": {},
   "outputs": [],
   "source": [
    "# Covariables used\n",
    "x = [\"wday\", \"month\", \"year\", \n",
    "     \"event_name_1\", \"event_type_1\",\n",
    "     \"snap_CA\", \"snap_TX\", \"snap_WI\",\n",
    "     \"sell_price\", \"sell_price_rel_diff\", \"sell_price_cumrel\", \"sell_price_roll_sd7\",\n",
    "     \"item_id\", \"dept_id\", \"cat_id\", \"store_id\", \"state_id\"]"
   ]
  },
  {
   "cell_type": "code",
   "execution_count": 39,
   "metadata": {},
   "outputs": [],
   "source": [
    "#x.extend(base_features)"
   ]
  },
  {
   "cell_type": "code",
   "execution_count": 40,
   "metadata": {},
   "outputs": [],
   "source": [
    "x.extend(extended_features)"
   ]
  },
  {
   "cell_type": "code",
   "execution_count": 43,
   "metadata": {},
   "outputs": [
    {
     "data": {
      "text/plain": [
       "110"
      ]
     },
     "execution_count": 43,
     "metadata": {},
     "output_type": "execute_result"
    }
   ],
   "source": [
    "test = sales[sales.d >= 1914]\n",
    "test = test.assign(id=test.id + \"_\" + np.where(test.d <= 1941, \"validation\", \"evaluation\"),\n",
    "                   F=\"F\" + (test.d - 1913 - 28 * (test.d > 1941)).astype(\"str\"))\n",
    "\n",
    "# Reduce sales\n",
    "sales = sales[sales.d < 1914]\n",
    "gc.collect()"
   ]
  },
  {
   "cell_type": "code",
   "execution_count": 45,
   "metadata": {},
   "outputs": [
    {
     "data": {
      "text/plain": [
       "array([1914, 1942])"
      ]
     },
     "execution_count": 45,
     "metadata": {},
     "output_type": "execute_result"
    }
   ],
   "source": [
    "# \"F1\" is assined to both d=1914 and 1942, for example\n",
    "test[test.F == \"F1\"].d.unique()"
   ]
  },
  {
   "cell_type": "code",
   "execution_count": 46,
   "metadata": {},
   "outputs": [
    {
     "data": {
      "text/plain": [
       "array([1941, 1969])"
      ]
     },
     "execution_count": 46,
     "metadata": {},
     "output_type": "execute_result"
    }
   ],
   "source": [
    "# \"F28\" is assined to both d=1941 and 1969, for example\n",
    "test[test.F == \"F28\"].d.unique()"
   ]
  },
  {
   "cell_type": "code",
   "execution_count": 47,
   "metadata": {},
   "outputs": [],
   "source": [
    "import lightgbm as lgb"
   ]
  },
  {
   "cell_type": "code",
   "execution_count": 49,
   "metadata": {},
   "outputs": [],
   "source": [
    "# One month of validation data\n",
    "flag = sales.d >= 1914 - 28\n",
    "valid = lgb.Dataset(sales[flag][x], label = sales[[\"demand\"]][flag])\n",
    "#np.savez('valid_data_label', data=sales[flag][x], label=sales[[\"demand\"]][flag])\n",
    "gc.collect()\n",
    "\n",
    "# Rest is used for training\n",
    "sales = sales[~flag].drop([\"d\", \"id\"], axis=1)\n",
    "del flag\n",
    "gc.collect()\n",
    "sales = lgb.Dataset(sales[x], label = sales[[\"demand\"]])\n",
    "\n",
    "# Trick to avoid memory spike when LightGBM converts everything to float32:\n",
    "#   See https://www.kaggle.com/c/talkingdata-adtracking-fraud-detection/discussion/53773\n",
    "#sales.save_binary('train.bin')\n",
    "#sales = lgb.Dataset('train.bin')"
   ]
  },
  {
   "cell_type": "code",
   "execution_count": 50,
   "metadata": {},
   "outputs": [
    {
     "name": "stdout",
     "output_type": "stream",
     "text": [
      "Training until validation scores don't improve for 400 rounds\n",
      "[100]\tvalid_0's rmse: 2.19326\n",
      "[200]\tvalid_0's rmse: 2.1688\n",
      "[300]\tvalid_0's rmse: 2.15234\n",
      "[400]\tvalid_0's rmse: 2.14069\n",
      "[500]\tvalid_0's rmse: 2.1357\n",
      "[600]\tvalid_0's rmse: 2.13154\n",
      "[700]\tvalid_0's rmse: 2.12951\n",
      "[800]\tvalid_0's rmse: 2.12795\n",
      "[900]\tvalid_0's rmse: 2.1263\n",
      "[1000]\tvalid_0's rmse: 2.1248\n",
      "[1100]\tvalid_0's rmse: 2.12392\n",
      "[1200]\tvalid_0's rmse: 2.12289\n",
      "[1300]\tvalid_0's rmse: 2.12209\n",
      "[1400]\tvalid_0's rmse: 2.11941\n",
      "[1500]\tvalid_0's rmse: 2.11905\n",
      "[1600]\tvalid_0's rmse: 2.11797\n",
      "[1700]\tvalid_0's rmse: 2.11753\n",
      "[1800]\tvalid_0's rmse: 2.11653\n",
      "[1900]\tvalid_0's rmse: 2.11588\n",
      "[2000]\tvalid_0's rmse: 2.11521\n",
      "[2100]\tvalid_0's rmse: 2.11499\n",
      "Did not meet early stopping. Best iteration is:\n",
      "[2079]\tvalid_0's rmse: 2.11472\n"
     ]
    }
   ],
   "source": [
    "\n",
    "params = {\n",
    "    'metric': 'rmse',\n",
    "    'objective': 'poisson',\n",
    "    'seed': 20,\n",
    "    'learning_rate': 0.08,\n",
    "    'lambda': 0.1,\n",
    "    'num_leaves': 63*2,\n",
    "    'bagging_fraction': 0.7,\n",
    "    'bagging_freq': 1, \n",
    "    'colsample_bytree': 0.7\n",
    "}\n",
    "\"\"\"\n",
    "params = {\n",
    "    'metric': 'rmse',\n",
    "    'objective': 'tweedie',\n",
    "    'tweedie_variance_power': 1.1,\n",
    "    'seed': 20,\n",
    "    'learning_rate': 0.08,\n",
    "    'lambda': 0.1,\n",
    "    'num_leaves': 63,\n",
    "    'bagging_fraction': 0.7,\n",
    "    'bagging_freq': 1, \n",
    "    'colsample_bytree': 0.7\n",
    "}\n",
    "\"\"\"\n",
    "\n",
    "fit = lgb.train(params, \n",
    "                sales, \n",
    "                num_boost_round = 2100, \n",
    "                valid_sets = [valid], \n",
    "                early_stopping_rounds = 400,\n",
    "                verbose_eval = 100)"
   ]
  },
  {
   "cell_type": "code",
   "execution_count": 51,
   "metadata": {},
   "outputs": [
    {
     "data": {
      "text/plain": [
       "<matplotlib.axes._subplots.AxesSubplot at 0x7fe7fe74f810>"
      ]
     },
     "execution_count": 51,
     "metadata": {},
     "output_type": "execute_result"
    },
    {
     "data": {
      "image/png": "[encoded data removed]",
      "text/plain": [
       "<Figure size 432x720 with 1 Axes>"
      ]
     },
     "metadata": {
      "needs_background": "light"
     },
     "output_type": "display_data"
    }
   ],
   "source": [
    "lgb.plot_importance(fit, importance_type=\"gain\", precision=0, height=0.5, figsize=(6, 10))"
   ]
  },
  {
   "cell_type": "code",
   "execution_count": 52,
   "metadata": {},
   "outputs": [
    {
     "data": {
      "text/plain": [
       "'\\n\\nprint(\\'Saving model...\\')\\n# save model to file\\nfit.save_model(\\'model.txt\\')\\n\\nprint(\\'Loading model to predict...\\')\\n# load model to predict\\nfit = lgb.Booster(model_file=\\'model.txt\\')\\n\\n\\nnpz = np.load(\"./valid_data_label.npz\")\\nvalid_data = npz[\"data\"]\\n#valid_data\\n\\nvalid_label = npz[\"label\"]\\n#valid_label\\n\\npred = fit.predict(valid_data)\\n\\n#plt.figure(14, 6)\\nplt.plot(range(28), valid_label[:28], color=\\'blue\\')\\nplt.plot(range(28), pred[:28], color=\\'red\\');\\n'"
      ]
     },
     "execution_count": 52,
     "metadata": {},
     "output_type": "execute_result"
    }
   ],
   "source": [
    "# Validation & Visualization\n",
    "'''\n",
    "\n",
    "print('Saving model...')\n",
    "# save model to file\n",
    "fit.save_model('model.txt')\n",
    "\n",
    "print('Loading model to predict...')\n",
    "# load model to predict\n",
    "fit = lgb.Booster(model_file='model.txt')\n",
    "\n",
    "\n",
    "npz = np.load(\"./valid_data_label.npz\")\n",
    "valid_data = npz[\"data\"]\n",
    "#valid_data\n",
    "\n",
    "valid_label = npz[\"label\"]\n",
    "#valid_label\n",
    "\n",
    "pred = fit.predict(valid_data)\n",
    "\n",
    "#plt.figure(14, 6)\n",
    "plt.plot(range(28), valid_label[:28], color='blue')\n",
    "plt.plot(range(28), pred[:28], color='red');\n",
    "'''"
   ]
  },
  {
   "cell_type": "code",
   "execution_count": 53,
   "metadata": {},
   "outputs": [
    {
     "data": {
      "text/plain": [
       "array([0.99361569, 0.38452902, 0.4668538 , ..., 0.08068375, 0.0922699 ,\n",
       "       0.13425155])"
      ]
     },
     "execution_count": 53,
     "metadata": {},
     "output_type": "execute_result"
    }
   ],
   "source": [
    "pred = fit.predict(test[x])\n",
    "pred"
   ]
  },
  {
   "cell_type": "code",
   "execution_count": 54,
   "metadata": {},
   "outputs": [
    {
     "data": {
      "text/plain": [
       "(1707440,)"
      ]
     },
     "execution_count": 54,
     "metadata": {},
     "output_type": "execute_result"
    }
   ],
   "source": [
    "pred.shape"
   ]
  },
  {
   "cell_type": "code",
   "execution_count": 55,
   "metadata": {},
   "outputs": [
    {
     "data": {
      "text/plain": [
       "(1707440, 36)"
      ]
     },
     "execution_count": 55,
     "metadata": {},
     "output_type": "execute_result"
    }
   ],
   "source": [
    "test.shape"
   ]
  },
  {
   "cell_type": "code",
   "execution_count": 56,
   "metadata": {},
   "outputs": [
    {
     "data": {
      "text/plain": [
       "(1707440,)"
      ]
     },
     "execution_count": 56,
     "metadata": {},
     "output_type": "execute_result"
    }
   ],
   "source": [
    "# The dark magic -> credits: https://www.kaggle.com/kyakovlev/m5-dark-magic\n",
    "pred_calibrated = pred / pred[test[\"id\"].str.endswith(\"validation\")].mean() * 1.447147\n",
    "pred_calibrated.shape"
   ]
  },
  {
   "cell_type": "code",
   "execution_count": 57,
   "metadata": {},
   "outputs": [
    {
     "data": {
      "text/plain": [
       "(1707440, 36)"
      ]
     },
     "execution_count": 57,
     "metadata": {},
     "output_type": "execute_result"
    }
   ],
   "source": [
    "#test[\"demand\"] = pred\n",
    "test[\"demand\"] = pred_calibrated\n",
    "test.shape"
   ]
  },
  {
   "cell_type": "code",
   "execution_count": 58,
   "metadata": {},
   "outputs": [
    {
     "data": {
      "text/plain": [
       "array(['F1', 'F2', 'F3', 'F4', 'F5', 'F6', 'F7', 'F8', 'F9', 'F10', 'F11',\n",
       "       'F12', 'F13', 'F14', 'F15', 'F16', 'F17', 'F18', 'F19', 'F20',\n",
       "       'F21', 'F22', 'F23', 'F24', 'F25', 'F26', 'F27', 'F28'],\n",
       "      dtype=object)"
      ]
     },
     "execution_count": 58,
     "metadata": {},
     "output_type": "execute_result"
    }
   ],
   "source": [
    "test.F.unique()"
   ]
  },
  {
   "cell_type": "code",
   "execution_count": 59,
   "metadata": {},
   "outputs": [
    {
     "data": {
      "text/html": [
       "<div>\n",
       "<style scoped>\n",
       "    .dataframe tbody tr th:only-of-type {\n",
       "        vertical-align: middle;\n",
       "    }\n",
       "\n",
       "    .dataframe tbody tr th {\n",
       "        vertical-align: top;\n",
       "    }\n",
       "\n",
       "    .dataframe thead th {\n",
       "        text-align: right;\n",
       "    }\n",
       "</style>\n",
       "<table border=\"1\" class=\"dataframe\">\n",
       "  <thead>\n",
       "    <tr style=\"text-align: right;\">\n",
       "      <th>F</th>\n",
       "      <th>id</th>\n",
       "      <th>F1</th>\n",
       "      <th>F2</th>\n",
       "      <th>F3</th>\n",
       "      <th>F4</th>\n",
       "      <th>F5</th>\n",
       "      <th>F6</th>\n",
       "      <th>F7</th>\n",
       "      <th>F8</th>\n",
       "      <th>F9</th>\n",
       "      <th>...</th>\n",
       "      <th>F19</th>\n",
       "      <th>F20</th>\n",
       "      <th>F21</th>\n",
       "      <th>F22</th>\n",
       "      <th>F23</th>\n",
       "      <th>F24</th>\n",
       "      <th>F25</th>\n",
       "      <th>F26</th>\n",
       "      <th>F27</th>\n",
       "      <th>F28</th>\n",
       "    </tr>\n",
       "  </thead>\n",
       "  <tbody>\n",
       "    <tr>\n",
       "      <th>0</th>\n",
       "      <td>FOODS_1_001_CA_1_evaluation</td>\n",
       "      <td>0.151865</td>\n",
       "      <td>0.136024</td>\n",
       "      <td>0.138215</td>\n",
       "      <td>0.140423</td>\n",
       "      <td>0.159988</td>\n",
       "      <td>0.192946</td>\n",
       "      <td>0.179511</td>\n",
       "      <td>0.169512</td>\n",
       "      <td>0.136024</td>\n",
       "      <td>...</td>\n",
       "      <td>0.128901</td>\n",
       "      <td>0.167162</td>\n",
       "      <td>0.157102</td>\n",
       "      <td>0.129106</td>\n",
       "      <td>0.117746</td>\n",
       "      <td>0.119031</td>\n",
       "      <td>0.119363</td>\n",
       "      <td>0.136438</td>\n",
       "      <td>0.168206</td>\n",
       "      <td>0.146131</td>\n",
       "    </tr>\n",
       "    <tr>\n",
       "      <th>1</th>\n",
       "      <td>FOODS_1_001_CA_1_validation</td>\n",
       "      <td>0.791813</td>\n",
       "      <td>0.765673</td>\n",
       "      <td>0.800634</td>\n",
       "      <td>0.758550</td>\n",
       "      <td>1.040411</td>\n",
       "      <td>1.090485</td>\n",
       "      <td>1.008160</td>\n",
       "      <td>0.959629</td>\n",
       "      <td>0.897972</td>\n",
       "      <td>...</td>\n",
       "      <td>0.936417</td>\n",
       "      <td>1.251143</td>\n",
       "      <td>1.082249</td>\n",
       "      <td>0.987162</td>\n",
       "      <td>0.911105</td>\n",
       "      <td>0.885589</td>\n",
       "      <td>0.872803</td>\n",
       "      <td>1.013038</td>\n",
       "      <td>1.235027</td>\n",
       "      <td>1.092017</td>\n",
       "    </tr>\n",
       "    <tr>\n",
       "      <th>2</th>\n",
       "      <td>FOODS_1_001_CA_2_evaluation</td>\n",
       "      <td>0.135310</td>\n",
       "      <td>0.123728</td>\n",
       "      <td>0.125720</td>\n",
       "      <td>0.129538</td>\n",
       "      <td>0.149040</td>\n",
       "      <td>0.184909</td>\n",
       "      <td>0.169544</td>\n",
       "      <td>0.157091</td>\n",
       "      <td>0.123728</td>\n",
       "      <td>...</td>\n",
       "      <td>0.131238</td>\n",
       "      <td>0.174949</td>\n",
       "      <td>0.161708</td>\n",
       "      <td>0.125651</td>\n",
       "      <td>0.116989</td>\n",
       "      <td>0.118265</td>\n",
       "      <td>0.120036</td>\n",
       "      <td>0.139397</td>\n",
       "      <td>0.176040</td>\n",
       "      <td>0.150416</td>\n",
       "    </tr>\n",
       "    <tr>\n",
       "      <th>3</th>\n",
       "      <td>FOODS_1_001_CA_2_validation</td>\n",
       "      <td>0.800555</td>\n",
       "      <td>0.789272</td>\n",
       "      <td>0.775289</td>\n",
       "      <td>0.791455</td>\n",
       "      <td>0.895036</td>\n",
       "      <td>0.913256</td>\n",
       "      <td>0.543608</td>\n",
       "      <td>0.732737</td>\n",
       "      <td>0.801759</td>\n",
       "      <td>...</td>\n",
       "      <td>0.904434</td>\n",
       "      <td>0.928227</td>\n",
       "      <td>1.608027</td>\n",
       "      <td>0.896192</td>\n",
       "      <td>1.003271</td>\n",
       "      <td>0.996664</td>\n",
       "      <td>1.178997</td>\n",
       "      <td>1.158289</td>\n",
       "      <td>1.363491</td>\n",
       "      <td>1.561697</td>\n",
       "    </tr>\n",
       "    <tr>\n",
       "      <th>4</th>\n",
       "      <td>FOODS_1_001_CA_3_evaluation</td>\n",
       "      <td>0.265472</td>\n",
       "      <td>0.239270</td>\n",
       "      <td>0.240206</td>\n",
       "      <td>0.239751</td>\n",
       "      <td>0.261412</td>\n",
       "      <td>0.315328</td>\n",
       "      <td>0.300212</td>\n",
       "      <td>0.291369</td>\n",
       "      <td>0.239270</td>\n",
       "      <td>...</td>\n",
       "      <td>0.194519</td>\n",
       "      <td>0.265939</td>\n",
       "      <td>0.256209</td>\n",
       "      <td>0.219315</td>\n",
       "      <td>0.202117</td>\n",
       "      <td>0.201055</td>\n",
       "      <td>0.200208</td>\n",
       "      <td>0.219009</td>\n",
       "      <td>0.269188</td>\n",
       "      <td>0.242534</td>\n",
       "    </tr>\n",
       "  </tbody>\n",
       "</table>\n",
       "<p>5 rows × 29 columns</p>\n",
       "</div>"
      ],
      "text/plain": [
       "F                           id        F1        F2        F3        F4  \\\n",
       "0  FOODS_1_001_CA_1_evaluation  0.151865  0.136024  0.138215  0.140423   \n",
       "1  FOODS_1_001_CA_1_validation  0.791813  0.765673  0.800634  0.758550   \n",
       "2  FOODS_1_001_CA_2_evaluation  0.135310  0.123728  0.125720  0.129538   \n",
       "3  FOODS_1_001_CA_2_validation  0.800555  0.789272  0.775289  0.791455   \n",
       "4  FOODS_1_001_CA_3_evaluation  0.265472  0.239270  0.240206  0.239751   \n",
       "\n",
       "F        F5        F6        F7        F8        F9  ...       F19       F20  \\\n",
       "0  0.159988  0.192946  0.179511  0.169512  0.136024  ...  0.128901  0.167162   \n",
       "1  1.040411  1.090485  1.008160  0.959629  0.897972  ...  0.936417  1.251143   \n",
       "2  0.149040  0.184909  0.169544  0.157091  0.123728  ...  0.131238  0.174949   \n",
       "3  0.895036  0.913256  0.543608  0.732737  0.801759  ...  0.904434  0.928227   \n",
       "4  0.261412  0.315328  0.300212  0.291369  0.239270  ...  0.194519  0.265939   \n",
       "\n",
       "F       F21       F22       F23       F24       F25       F26       F27  \\\n",
       "0  0.157102  0.129106  0.117746  0.119031  0.119363  0.136438  0.168206   \n",
       "1  1.082249  0.987162  0.911105  0.885589  0.872803  1.013038  1.235027   \n",
       "2  0.161708  0.125651  0.116989  0.118265  0.120036  0.139397  0.176040   \n",
       "3  1.608027  0.896192  1.003271  0.996664  1.178997  1.158289  1.363491   \n",
       "4  0.256209  0.219315  0.202117  0.201055  0.200208  0.219009  0.269188   \n",
       "\n",
       "F       F28  \n",
       "0  0.146131  \n",
       "1  1.092017  \n",
       "2  0.150416  \n",
       "3  1.561697  \n",
       "4  0.242534  \n",
       "\n",
       "[5 rows x 29 columns]"
      ]
     },
     "execution_count": 59,
     "metadata": {},
     "output_type": "execute_result"
    }
   ],
   "source": [
    "submission = test.pivot(index=\"id\", columns=\"F\", values=\"demand\").reset_index()[sample_submission.columns]\n",
    "submission.head()"
   ]
  },
  {
   "cell_type": "code",
   "execution_count": 60,
   "metadata": {},
   "outputs": [],
   "source": [
    "submission.to_csv(\"submission.csv\", index=False)"
   ]
  },
  {
   "cell_type": "code",
   "execution_count": 61,
   "metadata": {},
   "outputs": [],
   "source": [
    "#!kaggle competitions submit -c m5-forecasting-accuracy -f submission.csv -m \"20200505(2)\" # df[new_col_09] = df.groupby([subid])['demand'].transform(lambda x: x.shift(28).rolling(7*2).std()) added"
   ]
  },
  {
   "cell_type": "code",
   "execution_count": 62,
   "metadata": {},
   "outputs": [
    {
     "data": {
      "text/plain": [
       "\" with base_features = ['lag_t7_', 'lag_t14_', 'lag_t21_', 'lag_t28_', 'lag_t63_', 'lag_t84_', 'lag_t182_', \\n                          'rolling_mean_t7_', 'rolling_mean_t14_', 'rolling_mean_t21_', 'rolling_mean_t28_', 'rolling_mean_t63_', 'rolling_mean_t84_', 'rolling_mean_t182_',\\n                          'rolling_std_t7_', 'rolling_std_t14_', 'rolling_std_t21_', 'rolling_std_t28_', 'rolling_std_t63_', 'rolling_std_t84_', 'rolling_std_t182_']\\n\""
      ]
     },
     "execution_count": 62,
     "metadata": {},
     "output_type": "execute_result"
    }
   ],
   "source": [
    "#!kaggle competitions submit -c m5-forecasting-accuracy -f submission.csv -m \"20200505(3)\" \n",
    "''' with base_features = ['lag_t7_', 'lag_t14_', 'lag_t21_', 'lag_t28_', 'lag_t63_', 'lag_t84_', 'lag_t182_', \n",
    "                          'rolling_mean_t7_', 'rolling_mean_t14_', 'rolling_mean_t21_', 'rolling_mean_t28_', 'rolling_mean_t63_', 'rolling_mean_t84_', 'rolling_mean_t182_',\n",
    "                          'rolling_std_t7_', 'rolling_std_t14_', 'rolling_std_t21_', 'rolling_std_t28_', 'rolling_std_t63_', 'rolling_std_t84_', 'rolling_std_t182_']\n",
    "'''"
   ]
  },
  {
   "cell_type": "code",
   "execution_count": null,
   "metadata": {},
   "outputs": [],
   "source": [
    "#!kaggle competitions submit -c m5-forecasting-accuracy -f submission.csv -m \"20200506(1) remove from lag7 from lag182 but lag28\"  # 0.54475"
   ]
  },
  {
   "cell_type": "code",
   "execution_count": null,
   "metadata": {},
   "outputs": [],
   "source": [
    "#!kaggle competitions submit -c m5-forecasting-accuracy -f submission.csv -m \"20200506(2) increase num of leaves from 63 to 63*2\" # 0.54823"
   ]
  },
  {
   "cell_type": "code",
   "execution_count": null,
   "metadata": {},
   "outputs": [],
   "source": [
    "#!kaggle competitions submit -c m5-forecasting-accuracy -f submission.csv -m \"20200506(3) reduce learning rate from 0.08 to 0.04 and increase num boost round from 2100 to 4200\" # 0.54979"
   ]
  },
  {
   "cell_type": "code",
   "execution_count": null,
   "metadata": {},
   "outputs": [],
   "source": [
    "#!kaggle competitions submit -c m5-forecasting-accuracy -f submission.csv -m \"20200507(1) add std35, std42, std49 and std56\" # 0.54771"
   ]
  },
  {
   "cell_type": "code",
   "execution_count": null,
   "metadata": {},
   "outputs": [],
   "source": [
    "#!kaggle competitions submit -c m5-forecasting-accuracy -f submission.csv -m \"20200507(2) add std364\" # 0.55362"
   ]
  },
  {
   "cell_type": "code",
   "execution_count": null,
   "metadata": {},
   "outputs": [],
   "source": [
    "#!kaggle competitions submit -c m5-forecasting-accuracy -f submission.csv -m \"20200507(3) add mean364\" # 0.56688"
   ]
  },
  {
   "cell_type": "code",
   "execution_count": null,
   "metadata": {},
   "outputs": [],
   "source": [
    "#!kaggle competitions submit -c m5-forecasting-accuracy -f submission.csv -m \"20200508(1) add mean35\" # 0.56041"
   ]
  },
  {
   "cell_type": "code",
   "execution_count": null,
   "metadata": {},
   "outputs": [],
   "source": [
    "#!kaggle competitions submit -c m5-forecasting-accuracy -f submission.csv -m \"20200508(2) add mean42, mean49 and mean56\" # 0.55153"
   ]
  },
  {
   "cell_type": "code",
   "execution_count": null,
   "metadata": {},
   "outputs": [],
   "source": [
    "#!kaggle competitions submit -c m5-forecasting-accuracy -f submission.csv -m \"20200518(1) regressed to 20200506(1)\" # 0.55230"
   ]
  },
  {
   "cell_type": "code",
   "execution_count": null,
   "metadata": {},
   "outputs": [],
   "source": [
    "#!kaggle competitions submit -c m5-forecasting-accuracy -f submission.csv -m \"20200518(2) didn't drop the first 1000 days\" # 0.54526"
   ]
  },
  {
   "cell_type": "code",
   "execution_count": null,
   "metadata": {},
   "outputs": [],
   "source": [
    "#!kaggle competitions submit -c m5-forecasting-accuracy -f submission.csv -m \"20200519(1) Replaced poisson with tweedie for objective func\" # 0.55238"
   ]
  },
  {
   "cell_type": "code",
   "execution_count": null,
   "metadata": {},
   "outputs": [],
   "source": [
    "#!kaggle competitions submit -c m5-forecasting-accuracy -f submission.csv -m \"20200523(1) Got poisson back for the objective and added event2's name and type\" # 0.54526"
   ]
  },
  {
   "cell_type": "code",
   "execution_count": null,
   "metadata": {},
   "outputs": [],
   "source": [
    "#!kaggle competitions submit -c m5-forecasting-accuracy -f submission.csv -m \"Corrected: 20200523(1) Got poisson back for the objective and added event2's name and type\" # 0.55161"
   ]
  },
  {
   "cell_type": "code",
   "execution_count": null,
   "metadata": {},
   "outputs": [],
   "source": [
    "#!kaggle competitions submit -c m5-forecasting-accuracy -f submission.csv -m \"20200524(1) event2's name and type dropped and rolling numbers set to be multiples of 7 (up to 182 for both mean and std)\" # 0.54964 "
   ]
  },
  {
   "cell_type": "code",
   "execution_count": null,
   "metadata": {},
   "outputs": [],
   "source": [
    "#!kaggle competitions submit -c m5-forecasting-accuracy -f submission.csv -m \"20200525(1) Other levels () adopted as explanatory variables\" # "
   ]
  }
 ],
 "metadata": {
  "kernelspec": {
   "display_name": "Python 3",
   "language": "python",
   "name": "python3"
  },
  "language_info": {
   "codemirror_mode": {
    "name": "ipython",
    "version": 3
   },
   "file_extension": ".py",
   "mimetype": "text/x-python",
   "name": "python",
   "nbconvert_exporter": "python",
   "pygments_lexer": "ipython3",
   "version": "3.7.6"
  }
 },
 "nbformat": 4,
 "nbformat_minor": 4
}
