{
 "cells": [
  {
   "cell_type": "code",
   "execution_count": 1,
   "metadata": {
    "_cell_guid": "b1076dfc-b9ad-4769-8c92-a6c4dae69d19",
    "_uuid": "8f2839f25d086af736a60e9eeb907d3b93b6e0e5"
   },
   "outputs": [],
   "source": [
    "# This Python 3 environment comes with many helpful analytics libraries installed\n",
    "# It is defined by the kaggle/python docker image: https://github.com/kaggle/docker-python\n",
    "# For example, here's several helpful packages to load in \n",
    "\n",
    "import numpy as np # linear algebra\n",
    "import pandas as pd # data processing, CSV file I/O (e.g. pd.read_csv)\n",
    "\n",
    "# Input data files are available in the \"../input/\" directory.\n",
    "# For example, running this (by clicking run or pressing Shift+Enter) will list all files under the input directory\n",
    "\n",
    "#import os\n",
    "#for dirname, _, filenames in os.walk('/kaggle/input'):\n",
    "#    for filename in filenames:\n",
    "#        print(os.path.join(dirname, filename))\n",
    "\n",
    "# Any results you write to the current directory are saved as output.\n",
    "\n",
    "import string\n",
    "\n",
    "from sklearn.ensemble import GradientBoostingClassifier\n",
    "\n",
    "from sklearn.model_selection import train_test_split\n",
    "\n",
    "#from sklearn.decomposition import PCA\n",
    "\n",
    "from sklearn.preprocessing import LabelEncoder\n",
    "\n",
    "import matplotlib.pyplot as plt\n",
    "\n",
    "from joblib import dump, load"
   ]
  },
  {
   "cell_type": "code",
   "execution_count": 2,
   "metadata": {},
   "outputs": [],
   "source": [
    "#!chmod 644 train.csv\n",
    "#!chmod 644 test.csv"
   ]
  },
  {
   "cell_type": "code",
   "execution_count": 3,
   "metadata": {
    "_cell_guid": "79c7e3d0-c299-4dcb-8224-4455121ee9b0",
    "_uuid": "d629ff2d2480ee46fbb7e2d37f6b5fab8052498a"
   },
   "outputs": [],
   "source": [
    "df = pd.read_csv(\"test.csv\")"
   ]
  },
  {
   "cell_type": "code",
   "execution_count": 4,
   "metadata": {},
   "outputs": [
    {
     "data": {
      "text/html": [
       "<div>\n",
       "<style scoped>\n",
       "    .dataframe tbody tr th:only-of-type {\n",
       "        vertical-align: middle;\n",
       "    }\n",
       "\n",
       "    .dataframe tbody tr th {\n",
       "        vertical-align: top;\n",
       "    }\n",
       "\n",
       "    .dataframe thead th {\n",
       "        text-align: right;\n",
       "    }\n",
       "</style>\n",
       "<table border=\"1\" class=\"dataframe\">\n",
       "  <thead>\n",
       "    <tr style=\"text-align: right;\">\n",
       "      <th></th>\n",
       "      <th>id</th>\n",
       "      <th>bin_0</th>\n",
       "      <th>bin_1</th>\n",
       "      <th>bin_2</th>\n",
       "      <th>bin_3</th>\n",
       "      <th>bin_4</th>\n",
       "      <th>nom_0</th>\n",
       "      <th>nom_1</th>\n",
       "      <th>nom_2</th>\n",
       "      <th>nom_3</th>\n",
       "      <th>...</th>\n",
       "      <th>nom_8</th>\n",
       "      <th>nom_9</th>\n",
       "      <th>ord_0</th>\n",
       "      <th>ord_1</th>\n",
       "      <th>ord_2</th>\n",
       "      <th>ord_3</th>\n",
       "      <th>ord_4</th>\n",
       "      <th>ord_5</th>\n",
       "      <th>day</th>\n",
       "      <th>month</th>\n",
       "    </tr>\n",
       "  </thead>\n",
       "  <tbody>\n",
       "    <tr>\n",
       "      <td>0</td>\n",
       "      <td>300000</td>\n",
       "      <td>0</td>\n",
       "      <td>0</td>\n",
       "      <td>1</td>\n",
       "      <td>T</td>\n",
       "      <td>Y</td>\n",
       "      <td>Blue</td>\n",
       "      <td>Triangle</td>\n",
       "      <td>Axolotl</td>\n",
       "      <td>Finland</td>\n",
       "      <td>...</td>\n",
       "      <td>9d117320c</td>\n",
       "      <td>3c49b42b8</td>\n",
       "      <td>2</td>\n",
       "      <td>Novice</td>\n",
       "      <td>Warm</td>\n",
       "      <td>j</td>\n",
       "      <td>P</td>\n",
       "      <td>be</td>\n",
       "      <td>5</td>\n",
       "      <td>11</td>\n",
       "    </tr>\n",
       "    <tr>\n",
       "      <td>1</td>\n",
       "      <td>300001</td>\n",
       "      <td>0</td>\n",
       "      <td>0</td>\n",
       "      <td>0</td>\n",
       "      <td>T</td>\n",
       "      <td>N</td>\n",
       "      <td>Red</td>\n",
       "      <td>Square</td>\n",
       "      <td>Lion</td>\n",
       "      <td>Canada</td>\n",
       "      <td>...</td>\n",
       "      <td>46ae3059c</td>\n",
       "      <td>285771075</td>\n",
       "      <td>1</td>\n",
       "      <td>Master</td>\n",
       "      <td>Lava Hot</td>\n",
       "      <td>l</td>\n",
       "      <td>A</td>\n",
       "      <td>RP</td>\n",
       "      <td>7</td>\n",
       "      <td>5</td>\n",
       "    </tr>\n",
       "    <tr>\n",
       "      <td>2</td>\n",
       "      <td>300002</td>\n",
       "      <td>1</td>\n",
       "      <td>0</td>\n",
       "      <td>1</td>\n",
       "      <td>F</td>\n",
       "      <td>Y</td>\n",
       "      <td>Blue</td>\n",
       "      <td>Square</td>\n",
       "      <td>Dog</td>\n",
       "      <td>China</td>\n",
       "      <td>...</td>\n",
       "      <td>b759e21f0</td>\n",
       "      <td>6f323c53f</td>\n",
       "      <td>2</td>\n",
       "      <td>Expert</td>\n",
       "      <td>Freezing</td>\n",
       "      <td>a</td>\n",
       "      <td>G</td>\n",
       "      <td>tP</td>\n",
       "      <td>1</td>\n",
       "      <td>12</td>\n",
       "    </tr>\n",
       "    <tr>\n",
       "      <td>3</td>\n",
       "      <td>300003</td>\n",
       "      <td>0</td>\n",
       "      <td>0</td>\n",
       "      <td>1</td>\n",
       "      <td>T</td>\n",
       "      <td>Y</td>\n",
       "      <td>Red</td>\n",
       "      <td>Star</td>\n",
       "      <td>Cat</td>\n",
       "      <td>China</td>\n",
       "      <td>...</td>\n",
       "      <td>0b6ec68ff</td>\n",
       "      <td>b5de3dcc4</td>\n",
       "      <td>1</td>\n",
       "      <td>Contributor</td>\n",
       "      <td>Lava Hot</td>\n",
       "      <td>b</td>\n",
       "      <td>Q</td>\n",
       "      <td>ke</td>\n",
       "      <td>2</td>\n",
       "      <td>3</td>\n",
       "    </tr>\n",
       "    <tr>\n",
       "      <td>4</td>\n",
       "      <td>300004</td>\n",
       "      <td>0</td>\n",
       "      <td>1</td>\n",
       "      <td>1</td>\n",
       "      <td>F</td>\n",
       "      <td>N</td>\n",
       "      <td>Red</td>\n",
       "      <td>Trapezoid</td>\n",
       "      <td>Dog</td>\n",
       "      <td>China</td>\n",
       "      <td>...</td>\n",
       "      <td>f91f3b1ee</td>\n",
       "      <td>967cfa9c9</td>\n",
       "      <td>3</td>\n",
       "      <td>Grandmaster</td>\n",
       "      <td>Lava Hot</td>\n",
       "      <td>l</td>\n",
       "      <td>W</td>\n",
       "      <td>qK</td>\n",
       "      <td>4</td>\n",
       "      <td>11</td>\n",
       "    </tr>\n",
       "  </tbody>\n",
       "</table>\n",
       "<p>5 rows × 24 columns</p>\n",
       "</div>"
      ],
      "text/plain": [
       "       id  bin_0  bin_1  bin_2 bin_3 bin_4 nom_0      nom_1    nom_2    nom_3  \\\n",
       "0  300000      0      0      1     T     Y  Blue   Triangle  Axolotl  Finland   \n",
       "1  300001      0      0      0     T     N   Red     Square     Lion   Canada   \n",
       "2  300002      1      0      1     F     Y  Blue     Square      Dog    China   \n",
       "3  300003      0      0      1     T     Y   Red       Star      Cat    China   \n",
       "4  300004      0      1      1     F     N   Red  Trapezoid      Dog    China   \n",
       "\n",
       "   ...      nom_8      nom_9 ord_0        ord_1     ord_2 ord_3  ord_4 ord_5  \\\n",
       "0  ...  9d117320c  3c49b42b8     2       Novice      Warm     j      P    be   \n",
       "1  ...  46ae3059c  285771075     1       Master  Lava Hot     l      A    RP   \n",
       "2  ...  b759e21f0  6f323c53f     2       Expert  Freezing     a      G    tP   \n",
       "3  ...  0b6ec68ff  b5de3dcc4     1  Contributor  Lava Hot     b      Q    ke   \n",
       "4  ...  f91f3b1ee  967cfa9c9     3  Grandmaster  Lava Hot     l      W    qK   \n",
       "\n",
       "  day month  \n",
       "0   5    11  \n",
       "1   7     5  \n",
       "2   1    12  \n",
       "3   2     3  \n",
       "4   4    11  \n",
       "\n",
       "[5 rows x 24 columns]"
      ]
     },
     "execution_count": 4,
     "metadata": {},
     "output_type": "execute_result"
    }
   ],
   "source": [
    "df.head()"
   ]
  },
  {
   "cell_type": "code",
   "execution_count": 5,
   "metadata": {},
   "outputs": [
    {
     "data": {
      "text/plain": [
       "(200000, 24)"
      ]
     },
     "execution_count": 5,
     "metadata": {},
     "output_type": "execute_result"
    }
   ],
   "source": [
    "df.shape"
   ]
  },
  {
   "cell_type": "code",
   "execution_count": 6,
   "metadata": {},
   "outputs": [],
   "source": [
    "df = df.drop(\"id\", axis=1)"
   ]
  },
  {
   "cell_type": "code",
   "execution_count": 7,
   "metadata": {},
   "outputs": [],
   "source": [
    "df1 = df._get_numeric_data()"
   ]
  },
  {
   "cell_type": "code",
   "execution_count": 8,
   "metadata": {},
   "outputs": [],
   "source": [
    "df2 = df.select_dtypes(include='object')"
   ]
  },
  {
   "cell_type": "code",
   "execution_count": 9,
   "metadata": {},
   "outputs": [],
   "source": [
    "assert df.shape[1] == df1.shape[1] + df2.shape[1]"
   ]
  },
  {
   "cell_type": "code",
   "execution_count": 10,
   "metadata": {},
   "outputs": [
    {
     "data": {
      "text/plain": [
       "1219"
      ]
     },
     "execution_count": 10,
     "metadata": {},
     "output_type": "execute_result"
    }
   ],
   "source": [
    "len(df2[\"nom_7\"].unique())"
   ]
  },
  {
   "cell_type": "code",
   "execution_count": 11,
   "metadata": {},
   "outputs": [
    {
     "name": "stdout",
     "output_type": "stream",
     "text": [
      "bin_3 :  ['T' 'F']\n",
      "****************************************************************\n",
      "bin_4 :  ['Y' 'N']\n",
      "****************************************************************\n",
      "nom_0 :  ['Blue' 'Red' 'Green']\n",
      "****************************************************************\n",
      "nom_1 :  ['Triangle' 'Square' 'Star' 'Trapezoid' 'Polygon' 'Circle']\n",
      "****************************************************************\n",
      "nom_2 :  ['Axolotl' 'Lion' 'Dog' 'Cat' 'Snake' 'Hamster']\n",
      "****************************************************************\n",
      "nom_3 :  ['Finland' 'Canada' 'China' 'Russia' 'India' 'Costa Rica']\n",
      "****************************************************************\n",
      "nom_4 :  ['Piano' 'Oboe' 'Theremin' 'Bassoon']\n",
      "****************************************************************\n",
      "nom_5 :  ['0870b0a5d' 'a5c276589' '568550f04' 'c5725677e' 'e70a6270d' '552e3fdc9'\n",
      " 'dbfb714a4' '19db35594' '9bb7ea2da' 'e5b29c42b' 'defc6dd20' '2cac4af40'\n",
      " 'bd40c81f3' 'e9f44a509' '83b38aa6b' '2e7f4d636' '4604905e7' '5d18641ff'\n",
      " '472efea17' '475e79160' 'de04b8750' '908a1b9c9' '0b3bec656' 'ee55b9d67'\n",
      " 'bd7740b93' 'ca82ad111' '416a8f3ab' 'e6f45aa26' '5b0f5acd5' 'ef38568df'\n",
      " '200009fc3' 'a3f640358' '91a20b464' 'b7bb45938' '63f642dd9' '115a252ba'\n",
      " '05950689f' 'dbc448931' '640e1fdd5' '30a530eab' '30a15b6bd' '46cab09da'\n",
      " '116f7e3e2' '8dcf8adfb' '96c73114c' 'b97f51ac4' 'f50eb07ae' 'be5592604'\n",
      " '321bf770e' 'df51b96fc' 'eb0004a0b' '6020a8124' '88707c9ab' '85159d577'\n",
      " 'af088d192' 'f9d17bb93' '5b1a9f841' '176809a41' '2cadfed8e' '60a44c8f4'\n",
      " 'a35c346aa' 'd9becff68' '037bd73d8' '39647c92a' 'f2d59cf51' '92190168b'\n",
      " '8266050c6' '713ad10a7' '59497d53c' '185ba0a59' '5a466e166' '91bde92fa'\n",
      " 'c0534106d' '4e28ceffa' 'a93b89fc9' '1305d6e77' '17a3709ae' '74bd42d5f'\n",
      " 'b4c8e6595' 'b0faff28f' '6a2269152' '4845cc770' '33adb4760' 'ead12da87'\n",
      " '0de4acd31' 'f12246592' '29e7f8525' 'caf83c0b5' '06eeaf0aa' 'f7821e391'\n",
      " '9ad6558d1' '6fec43dd8' 'd372c8993' '2ff007c26' 'be4578201' 'c2843dc45'\n",
      " '20b10a832' '35f65a9bf' '72f8028dc' '5a94fc1d9' '66669a44f' 'eb69430d6'\n",
      " '159a7306f' 'e428c040e' '50f116bcf' '81264f81f' 'e52fbf1c8' 'd1b1709e8'\n",
      " '3263bdce5' '2979f0d45' '0ef5c1879' '0bdf8165a' '077fd9465' '71583d387'\n",
      " 'dc07effb0' '075ceb58b' '76be0b8b1' 'a51e7974e' '1bd1068d9' '740fb99a9'\n",
      " '0870880f6' 'f0c1ceee4' '3585ff84b' '586b51342' '79923828f' 'baab29d3d'\n",
      " '5331f98fb' '493de6347' '81f9d3312' '8cf6c9f74' 'f2a6d797b' 'c08ba4f4c'\n",
      " '4464569ee' '6cd0619e0' 'f8faea16f' '7a12c88d2' 'fd04a970f' '7e9cb0f9a'\n",
      " '9ecc58be1' '1e6cb96e8' 'dd500b26a' '59e434d8a' '0eb46e992' '05d5943a3'\n",
      " '7ee26092e' 'e844a1f66' '1f1702d2f' 'b8d451029' '8d5d9f3db' 'e7d9ca356'\n",
      " '6c90f81cd' 'e0efe9d20' '0dee9b39a' 'bdb9fef4a' '4f2b65e1e' 'db5e25328'\n",
      " '09a4ad97d' '7da3e4aec' 'da60580a8' '2d61990e2' '005dd4ce3' '527ded12a'\n",
      " '0de5598a9' '49f4b29cc' 'a9ed6dfea' 'b0c8dba76' '8573fa81a' '3aabfa2fc'\n",
      " '3685a0904' '3b5632a0c' '84b0081ad' 'ddac78300' '2a0e95ba1' '4e1b529f6'\n",
      " 'e85ec20b5' 'e1558b071' '3aa9329e2' '96c83ac09' '3fef1a765' 'fa0a88fe9'\n",
      " 'e9c6fe0f7' '534be2753' 'e08092732' 'b3b4d25d0' '2cc9e16b9' '778fdbe56'\n",
      " '9ba4e87a7' '77b08badd' '09ed0a686' '488406659' 'ade526ba7' '3283ca434'\n",
      " '924346656' '479fd7aea' '6f70dc2df' '4173a0252' '40e0157b1' 'f6c524860'\n",
      " 'd3079098d' '9347491f2' '34ad60330' '46bd3558d' '91ea3e4dd' 'f9e5266f9'\n",
      " '372f6d6ce' 'ad95dc0ee' '524b3f349' '7741f57bd' 'a21564cab' '88917a066'\n",
      " 'a3471b9d9' '82d1a6dbb' '448a66834' '88f104c00' '4ebe94c28' '91c80026f'\n",
      " '5f7065a42' '3271e5526' '4f7d91943' 'f710fca39' '1fd0233cd' 'f802a9849']\n",
      "****************************************************************\n",
      "nom_6 :  ['9ceb19dd6' '1ad744242' '1fe17a1fd' 'a6542cec0' '97b6a3518' '7d8bc814a'\n",
      " '788ba7aea' 'd42f2b9ec' 'a26bedd00' 'db64717a3' '1f40b9ca8' '2df6f79a2'\n",
      " '7e240024b' 'b3e59b54a' 'a19d81efe' '6f438920f' '78e45cd66' '8ad083b20'\n",
      " 'c3517eaeb' 'bb219c9ac' '2268327b2' 'cf82b283d' 'f134870d4' 'fb80a804f'\n",
      " '2c4223dbd' '02d689659' 'a78e38dad' '2473094a9' '7d13ad097' 'baef8ee7b'\n",
      " '46c89ef8d' 'd173ac7ca' '9448b8e3b' 'f24d83141' 'c3c8b7b13' '0d50f61fd'\n",
      " '08b282a6c' 'c73e4dfe1' '5c4ee13e3' '15ea6e2bb' 'cd94f29d1' '49d1a98ef'\n",
      " 'fc88900c4' '062cd9a70' 'c36cea1f7' 'ec5064acb' 'cbb210c0a' '54efb1985'\n",
      " '32b4b12b1' '8a34317cb' '6057ca561' '16dfb662a' '4f849ad2d' '57aa15561'\n",
      " '74e5a0bce' '0e2f036b5' 'cebefe5b5' '5755f93b2' '1e5e03a86' '0b10fcecc'\n",
      " '4daee3baf' 'c79a72c72' '5a49dd8f6' '70994b28a' '803f6cece' 'b1faf70a1'\n",
      " '4c1bdbe7b' 'b1c48d202' 'd804d7926' 'e16557b2b' '2ed5a94b0' '126c2e512'\n",
      " '8fec7bc42' '51d5f02c1' '29e27ff9d' '975346729' 'd6f8634af' 'bf82c01fa'\n",
      " '4c183f1ef' 'd4d727716' '687eaba3e' '3b9693870' 'fc791ebea' '113deddc9'\n",
      " 'edb3cf6c8' '3e41282ec' '42b1cc2fd' '1f2e3f148' '5e881b059' 'ec97e8751'\n",
      " 'a406a5f12' 'c06f1b9f7' '906c833b2' 'a520e2537' '3ac1b8814' 'cefab1020'\n",
      " '3c2b12c56' '987d29cca' '329124d64' '322121abf' '95572215a' 'c75b3104a'\n",
      " 'ec416c384' 'd942d1e82' 'e19cd8107' '6d7f8c086' 'e7a7bf2e1' 'e4d51bdd5'\n",
      " '077e720aa' '3aa0689eb' '603232dea' 'b48077cc4' 'f0c4b23ef' 'fd9370b9e'\n",
      " '18a901239' '508ff88dc' '907d87214' '944531331' '1869e63b0' '43744dfd9'\n",
      " '1611d2b45' '2a22b315e' '20636817e' '77ad092c1' '19505136a' '11698a0b3'\n",
      " 'c7201df85' '27e7dbafa' 'e550bcc1b' '339c0fa05' '628f3170f' 'f64fe5bc0'\n",
      " 'b83511180' 'b69c236cb' '231233ca9' '44e4c0bba' '73d7ca889' '0922e3cb8'\n",
      " '63d0e6105' '0249d8675' '8bd314488' 'dce959dcb' 'fd2344f16' 'd086fd85e'\n",
      " '5786b10d7' 'cd225807c' '32db19124' '4cf47e292' '1537295c3' '37868097a'\n",
      " '39981f199' '78500847e' '8518cecf3' 'ed8157b96' '031d49dfc' 'adfb4cba3'\n",
      " 'eeda68203' 'dee9cf5e9' 'd166613dc' 'f14fe8bc5' '839a6bcdb' '498b2bdcb'\n",
      " 'b2c93e83d' 'a9b4474f4' '7909ef46d' 'dd1dbed78' 'd44f7245a' 'b7d62cb4e'\n",
      " '25d3a1087' '55eed5058' 'bc31d6a6d' '9e0a099c7' '708e87b0e' '89e65bb86'\n",
      " 'a20513779' '5cbbea089' '8c9d16cc3' '96d5497a4' 'fe0b55cd2' '116d9fcd9'\n",
      " '705cb7579' '612641073' '65aae1692' 'f461f837c' 'db35bbdcb' '6046454de'\n",
      " 'e7073f6a2' 'c9a951efa' '91e1a9d16' 'ea64fbdeb' '96c110558' '92f461454'\n",
      " '3393a0f78' 'e866d44ea' '8ed6221ae' 'c103290d4' '21e2c2d57' '9a20c66da'\n",
      " 'fa3f6d36f' '1abac47d0' '153316f52' 'e63f69ba1' '2c7fb8434' 'eaaf53f6a'\n",
      " '4b967eac4' '0302f1ffc' '70a942fc1' 'ac3e34eff' '5cabda141' '1573e6c5f'\n",
      " 'afebf0803' '3c5d81a52' '1ab5e5ad6' '985c40910' 'c135cdf77' 'd213f48ed'\n",
      " '418e9e936' '5d7c5c023' '8cc791aa8' 'd95501ac1' '51477cd88' 'e3396fbd5'\n",
      " '9f53d30ad' '09e796196' '0ef3dda96' '8584a02f4' '292dea6ab' '43b8c397b'\n",
      " '310b1a988' '097ff91b3' '2837cf7b8' '35f33a8ca' '520806ce2' '40ac3fcd5'\n",
      " '0958071b5' '68dd873e4' '966f4a973' 'c0e4c4487' '24a1bea30' '9b1c3c8b7'\n",
      " '5a5e620b3' '6a53b5f5c' 'c9eedfbc2' 'f083d48ad' 'cad70d692' 'd9025a066'\n",
      " '36df19a6e' '854f72f28' '6c0354890' 'e0664a4d3' 'd83ae1b30' '642fcc7be'\n",
      " '29a854620' '66e2654cb' '7112aaf8e' 'a405b7cf0' '395941181' '5fd7600de'\n",
      " '8bb163a87' 'b238965eb' '565a89e93' 'fbbdfc611' 'cd2fa6d62' '8fb440e53'\n",
      " '71c68195d' 'b73a8ae77' '5d47a598c' 'b628a222c' 'ae67aec36' '90ba6c9a6'\n",
      " '485fc6466' '7322ea1c9' 'beb20ea99' 'e77244b50' '3fe8e9cba' 'd2c8f2916'\n",
      " '5194690a0' '29b650229' '6eaaa8418' '945aa2bc5' '80b2270f0' 'ddb583aa3'\n",
      " '2eadb68c5' 'f7e243b5d' 'a148d86df' '40994d768' '718fd9453' '9882f1fa0'\n",
      " '9972df3b0' 'bc82e0ba0' '27828c378' 'bbc311f15' 'cf8b12b4e' '8fbaca82e'\n",
      " 'e10910468' 'b639793f9' 'b9f08dc06' 'f17881964' '8bbe5580d' 'f53d92c1a'\n",
      " '9abb2ac1a' 'c023e914a' '860bb37b4' '9218550d8' '55a24a71b' '32be571ee'\n",
      " '214f24d39' '8d1b72979' '0aeb8fe13' '20dc501c6' 'df184daf2' 'dc0536549'\n",
      " '5fa8beadb' '7dd3f58e9' '017eb57f0' '96abdfa66' '06835761e' '9d6fa150a'\n",
      " '3c1c64eaa' '79a82b7c0' '28b8e5350' '2d9852300' 'cc8755307' 'd43e63dc9'\n",
      " '4cb66e369' 'eba84389c' 'd9e131846' '50d7ad46a' 'd4fd01769' '6ea52a806'\n",
      " '0ed70b7b1' '1795ef28b' '989a51202' 'd70a70804' 'bd47c2363' '5b2d457f3'\n",
      " '8082e0409' 'd9e884466' 'b321e8ee3' '67bb6c9d7' '73dd803d0' 'd7fb439cc'\n",
      " 'b7c276ed2' 'b8cf041db' '49bceb215' '9a70de492' '5fc007fd3' 'e2559b9ab'\n",
      " '527a42dc2' '8fd64cb59' 'd405aebc1' '2bdc0a5d0' '01455237a' 'efa38c99d'\n",
      " '9a16c7c8f' 'dfb457d2a' '1c34a67d7' '6d2cd10c5' 'cd8e3a0a7' '2546024d1'\n",
      " 'c0f1061ee' '0bcb379d8' 'eaa89fbcc' '3bac0bd8e' '89a937a9f' '77ab97a87'\n",
      " 'e495d6f0f' 'aed128d19' 'acf5b10dd' 'd760c59b0' 'bedc798e7' '74e0be86d'\n",
      " 'd88fca3ba' '2936160c7' '9afd9530d' 'fa2bf5f22' 'fe0cddc2c' 'b2480a857'\n",
      " 'aee98fa47' 'fc4518443' 'ae49fec17' '5f57e7d4f' '6c90b0073' '50e49ea04'\n",
      " '34256b89f' 'ad1b42856' 'fe77c71bd' '54474e8d8' 'fbcb50fc1' '7f3c463a8'\n",
      " '8817e18d1' '063f4307d' '4990652ec' '435fd233e' 'fac5eff9e' '487c32dfa'\n",
      " '4e6cc8696' 'ea7a1aaf6' '8c8aa1d64' '180a3d6cb' '162fc2192' 'c8436c277'\n",
      " 'b511f5bff' '2ae2bd37c' 'd9004c5c2' '85885b27e' 'b5f4a755a' '800577110'\n",
      " 'b8caba53f' 'ec93484e7' 'af9278b96' '71534b2a8' 'ac8c42404' '00e9c15b8'\n",
      " 'f497b97d7' '3e2b4aac9' '51f28e64c' '3e44d44eb' '82f75f00e' 'df5b440ae'\n",
      " 'ffc60be1c' '6c1a5aab7' '126a4f83d' 'a028c07af' '81d59974c' 'c5cf1fdc4'\n",
      " '2cd425e1f' '145d17afb' '8f897ec3c' 'f8c5dc0e0' '338b8a987' 'fa498a5ae'\n",
      " '882ce2ad7' '23311af90' '309707034' 'a9925d0e5' '0b23e3352' '12d88c9c3'\n",
      " 'cae4fb7f2' '3ae0ef9f1' '144279ac1' '36282e811' '163b28322' '9a92bb693'\n",
      " '09f69436c' '75645dad3' 'a566016d6' 'ce528707a' '4c6d8f959' '9c5ea36f8'\n",
      " 'bea839b58' '4fa3092a4' 'df91d98af' '944239e54' 'f81cde28d' 'fc613f31d'\n",
      " '1b36c0b8c' 'fc88d723d' 'e78ce8c35' '3fe2d05f7' 'ebd664cd6' '437d8df71'\n",
      " 'd76a148ab' '7cb06ca3c' '576b27b37' '99fffb9e9' 'd5febb6ef' '7a8736321'\n",
      " '3afd0489b' 'aed51f2c9' 'dfb9bd114' 'f425b1c8c' 'b436c2568' '70a040495'\n",
      " 'b300717cf' '76ef650e6' 'd39b176b6' '7cd1571c9' 'cfc8d0828' '0000ee65f'\n",
      " '28645754b' '21cb526c2' '26bf5ddd9' 'e97824431' '19231be54' '2f6efc190'\n",
      " '7433a98da' 'be5a0f5a9' '9fbd66490' '78acf1908' '4abed74f5' '86021cf04'\n",
      " '5ff2c0a8c' 'f36d9a851' '67721d105' '2d8a0cf5a' 'fb1301ef6' '3c7643929'\n",
      " '17e0c4fa9' '556aa5d7a' '95a263224' '1ea13ded7' 'baf172f58' '27179d6e5'\n",
      " '0516fa0d8' 'f4689e520' 'd2ce6b1c7' '1c7f1ab58' '4d5fc69ae' 'b3f15d742'\n",
      " '1ff467489' '7185a30dc' '3e6a88574' '0b17eaec7' '2119a6f87' 'ef1f6146b'\n",
      " '309e105f1' '28630a5c8' '782664588' '83f07ed50' '8367b78fc' '4dcab4fc8']\n",
      "****************************************************************\n",
      "nom_7 :  ['530f8ecc3' '12e6161c9' '27d6df03f' ... 'bc05442e1' '446df0c98'\n",
      " '73236f791']\n",
      "****************************************************************\n",
      "nom_8 :  ['9d117320c' '46ae3059c' 'b759e21f0' ... '4e2d34150' 'ec337ce4c'\n",
      " '434bf9bcf']\n",
      "****************************************************************\n",
      "nom_9 :  ['3c49b42b8' '285771075' '6f323c53f' ... '11ac3a364' '926c36895'\n",
      " 'e13a9ac65']\n",
      "****************************************************************\n",
      "ord_1 :  ['Novice' 'Master' 'Expert' 'Contributor' 'Grandmaster']\n",
      "****************************************************************\n",
      "ord_2 :  ['Warm' 'Lava Hot' 'Freezing' 'Boiling Hot' 'Hot' 'Cold']\n",
      "****************************************************************\n",
      "ord_3 :  ['j' 'l' 'a' 'b' 'k' 'h' 'i' 'g' 'e' 'd' 'n' 'f' 'o' 'c' 'm']\n",
      "****************************************************************\n",
      "ord_4 :  ['P' 'A' 'G' 'Q' 'W' 'O' 'K' 'S' 'E' 'I' 'N' 'V' 'F' 'T' 'H' 'Y' 'Z' 'B'\n",
      " 'C' 'X' 'J' 'L' 'U' 'R' 'D' 'M']\n",
      "****************************************************************\n",
      "ord_5 :  ['be' 'RP' 'tP' 'ke' 'qK' 'sn' 'qP' 'KZ' 'aM' 'xy' 'Dc' 'PA' 'Uk' 'dP'\n",
      " 'rp' 'Jc' 'Mf' 'ut' 'uS' 'Xh' 'lF' 'kw' 'Hj' 'MO' 'ud' 'aP' 'Bb' 'Xi'\n",
      " 'sY' 'Gx' 'dB' 'jV' 'BE' 'cp' 'lL' 'Yb' 'eQ' 'ps' 'CL' 'nh' 'AP' 'To'\n",
      " 'Ob' 'kL' 'qo' 'ek' 'sV' 'UO' 'sD' 'Qb' 'gM' 'Gb' 'hh' 'ac' 'wu' 'dQ'\n",
      " 'kC' 'Vx' 'dh' 'LE' 'aO' 'XI' 'vy' 'dZ' 'Sc' 'Dx' 'TZ' 'Ed' 'Qo' 'kr'\n",
      " 'Mx' 'su' 'll' 'Fd' 'Rm' 'bF' 'rZ' 'ux' 'RL' 'od' 'Uu' 'Kq' 'qX' 'NV'\n",
      " 'gJ' 'PQ' 'Vf' 'dN' 'on' 'kE' 'hT' 'qv' 'bJ' 'iT' 'oC' 'lx' 'MC' 'Ye'\n",
      " 'ri' 'CZ' 'Wv' 'TR' 'Jt' 'Ai' 'GJ' 'RG' 'cA' 'mc' 'Eg' 'ih' 'QM' 'FI'\n",
      " 'hp' 'yc' 'fO' 'cW' 'Bd' 'SB' 'yN' 'DH' 'PZ' 'Bn' 'Nf' 'Nk' 'qA' 'dO'\n",
      " 'oK' 'WE' 'Ry' 'je' 'vK' 'mb' 'fh' 'JX' 'Qh' 'ZS' 'uJ' 'zU' 'qJ' 'Id'\n",
      " 'BA' 'kW' 'oH' 'tM' 'nX' 'Zq' 'CM' 'qw' 'jS' 'kK' 'Wc' 'KR' 'YC' 'aF'\n",
      " 'MV' 'yY' 'uy' 'ZR' 'Er' 'ex' 'DN' 'Aj' 'oG' 'Fo' 'dE' 'OR' 'GD' 'CU'\n",
      " 'Os' 'Kf' 'Ml' 'eG' 'Ps' 'av' 'ck' 'IK' 'mm' 'eb' 'wy' 'us' 'hL' 'cG'\n",
      " 'Jf' 'Zc' 'jp' 'pa' 'xP' 'eg' 'vq' 'kU' 'Cl' 'tv']\n",
      "****************************************************************\n"
     ]
    }
   ],
   "source": [
    "for col in df2.columns:\n",
    "    print(col, \": \", df2[col].unique())\n",
    "    print(\"****************************************************************\")"
   ]
  },
  {
   "cell_type": "code",
   "execution_count": 12,
   "metadata": {},
   "outputs": [],
   "source": [
    "#int(\"50f116bcf\", 16)"
   ]
  },
  {
   "cell_type": "code",
   "execution_count": 13,
   "metadata": {},
   "outputs": [
    {
     "data": {
      "text/plain": [
       "['nom_5', 'nom_6', 'nom_7', 'nom_8', 'nom_9']"
      ]
     },
     "execution_count": 13,
     "metadata": {},
     "output_type": "execute_result"
    }
   ],
   "source": [
    "cols = [\"nom_{}\".format(i) for i in range(5, 10)]\n",
    "#df2[df2.columns[df2.columns.str.contains(\"nom_\")]]\n",
    "cols"
   ]
  },
  {
   "cell_type": "code",
   "execution_count": 14,
   "metadata": {},
   "outputs": [
    {
     "name": "stderr",
     "output_type": "stream",
     "text": [
      "/home/ryosuke/miniconda3/envs/myanaconda/lib/python3.7/site-packages/ipykernel_launcher.py:2: SettingWithCopyWarning: \n",
      "A value is trying to be set on a copy of a slice from a DataFrame.\n",
      "Try using .loc[row_indexer,col_indexer] = value instead\n",
      "\n",
      "See the caveats in the documentation: http://pandas.pydata.org/pandas-docs/stable/user_guide/indexing.html#returning-a-view-versus-a-copy\n",
      "  \n"
     ]
    }
   ],
   "source": [
    "for col in cols:\n",
    "    df2[col] = df2[col].apply(lambda x: int(x, 16))"
   ]
  },
  {
   "cell_type": "code",
   "execution_count": 21,
   "metadata": {},
   "outputs": [],
   "source": [
    "'''\n",
    "res = []\n",
    "for col in cols:\n",
    "    res.extend(list(df2[col].unique()))\n",
    "\n",
    "mysnom = list(set(res))\n",
    "\n",
    "le = LabelEncoder()\n",
    "le.fit(mysnom)\n",
    "\n",
    "for col in cols:\n",
    "    df2[col] = le.transform(df2[col])\n",
    "'''"
   ]
  },
  {
   "cell_type": "code",
   "execution_count": 15,
   "metadata": {},
   "outputs": [
    {
     "data": {
      "text/html": [
       "<div>\n",
       "<style scoped>\n",
       "    .dataframe tbody tr th:only-of-type {\n",
       "        vertical-align: middle;\n",
       "    }\n",
       "\n",
       "    .dataframe tbody tr th {\n",
       "        vertical-align: top;\n",
       "    }\n",
       "\n",
       "    .dataframe thead th {\n",
       "        text-align: right;\n",
       "    }\n",
       "</style>\n",
       "<table border=\"1\" class=\"dataframe\">\n",
       "  <thead>\n",
       "    <tr style=\"text-align: right;\">\n",
       "      <th></th>\n",
       "      <th>nom_5</th>\n",
       "      <th>nom_6</th>\n",
       "      <th>nom_7</th>\n",
       "      <th>nom_8</th>\n",
       "      <th>nom_9</th>\n",
       "    </tr>\n",
       "  </thead>\n",
       "  <tbody>\n",
       "    <tr>\n",
       "      <td>nom_5</td>\n",
       "      <td>1.000000</td>\n",
       "      <td>-0.001351</td>\n",
       "      <td>0.002081</td>\n",
       "      <td>-0.000744</td>\n",
       "      <td>-0.000122</td>\n",
       "    </tr>\n",
       "    <tr>\n",
       "      <td>nom_6</td>\n",
       "      <td>-0.001351</td>\n",
       "      <td>1.000000</td>\n",
       "      <td>-0.001005</td>\n",
       "      <td>0.000772</td>\n",
       "      <td>0.004237</td>\n",
       "    </tr>\n",
       "    <tr>\n",
       "      <td>nom_7</td>\n",
       "      <td>0.002081</td>\n",
       "      <td>-0.001005</td>\n",
       "      <td>1.000000</td>\n",
       "      <td>-0.001859</td>\n",
       "      <td>0.001225</td>\n",
       "    </tr>\n",
       "    <tr>\n",
       "      <td>nom_8</td>\n",
       "      <td>-0.000744</td>\n",
       "      <td>0.000772</td>\n",
       "      <td>-0.001859</td>\n",
       "      <td>1.000000</td>\n",
       "      <td>-0.000273</td>\n",
       "    </tr>\n",
       "    <tr>\n",
       "      <td>nom_9</td>\n",
       "      <td>-0.000122</td>\n",
       "      <td>0.004237</td>\n",
       "      <td>0.001225</td>\n",
       "      <td>-0.000273</td>\n",
       "      <td>1.000000</td>\n",
       "    </tr>\n",
       "  </tbody>\n",
       "</table>\n",
       "</div>"
      ],
      "text/plain": [
       "          nom_5     nom_6     nom_7     nom_8     nom_9\n",
       "nom_5  1.000000 -0.001351  0.002081 -0.000744 -0.000122\n",
       "nom_6 -0.001351  1.000000 -0.001005  0.000772  0.004237\n",
       "nom_7  0.002081 -0.001005  1.000000 -0.001859  0.001225\n",
       "nom_8 -0.000744  0.000772 -0.001859  1.000000 -0.000273\n",
       "nom_9 -0.000122  0.004237  0.001225 -0.000273  1.000000"
      ]
     },
     "execution_count": 15,
     "metadata": {},
     "output_type": "execute_result"
    }
   ],
   "source": [
    "df2[cols].corr()"
   ]
  },
  {
   "cell_type": "code",
   "execution_count": 16,
   "metadata": {},
   "outputs": [
    {
     "data": {
      "image/png": "[encoded data removed]",
      "text/plain": [
       "<Figure size 288x288 with 1 Axes>"
      ]
     },
     "metadata": {
      "needs_background": "light"
     },
     "output_type": "display_data"
    }
   ],
   "source": [
    "plt.matshow(df2[cols].corr())\n",
    "plt.show()"
   ]
  },
  {
   "cell_type": "code",
   "execution_count": 17,
   "metadata": {},
   "outputs": [
    {
     "data": {
      "text/html": [
       "<div>\n",
       "<style scoped>\n",
       "    .dataframe tbody tr th:only-of-type {\n",
       "        vertical-align: middle;\n",
       "    }\n",
       "\n",
       "    .dataframe tbody tr th {\n",
       "        vertical-align: top;\n",
       "    }\n",
       "\n",
       "    .dataframe thead th {\n",
       "        text-align: right;\n",
       "    }\n",
       "</style>\n",
       "<table border=\"1\" class=\"dataframe\">\n",
       "  <thead>\n",
       "    <tr style=\"text-align: right;\">\n",
       "      <th></th>\n",
       "      <th>bin_3</th>\n",
       "      <th>bin_4</th>\n",
       "      <th>nom_0</th>\n",
       "      <th>nom_1</th>\n",
       "      <th>nom_2</th>\n",
       "      <th>nom_3</th>\n",
       "      <th>nom_4</th>\n",
       "      <th>nom_5</th>\n",
       "      <th>nom_6</th>\n",
       "      <th>nom_7</th>\n",
       "      <th>nom_8</th>\n",
       "      <th>nom_9</th>\n",
       "      <th>ord_1</th>\n",
       "      <th>ord_2</th>\n",
       "      <th>ord_3</th>\n",
       "      <th>ord_4</th>\n",
       "      <th>ord_5</th>\n",
       "    </tr>\n",
       "  </thead>\n",
       "  <tbody>\n",
       "    <tr>\n",
       "      <td>0</td>\n",
       "      <td>T</td>\n",
       "      <td>Y</td>\n",
       "      <td>Blue</td>\n",
       "      <td>Triangle</td>\n",
       "      <td>Axolotl</td>\n",
       "      <td>Finland</td>\n",
       "      <td>Piano</td>\n",
       "      <td>2265647709</td>\n",
       "      <td>42122452438</td>\n",
       "      <td>22296456387</td>\n",
       "      <td>42162663948</td>\n",
       "      <td>16183411384</td>\n",
       "      <td>Novice</td>\n",
       "      <td>Warm</td>\n",
       "      <td>j</td>\n",
       "      <td>P</td>\n",
       "      <td>be</td>\n",
       "    </tr>\n",
       "    <tr>\n",
       "      <td>1</td>\n",
       "      <td>T</td>\n",
       "      <td>N</td>\n",
       "      <td>Red</td>\n",
       "      <td>Square</td>\n",
       "      <td>Lion</td>\n",
       "      <td>Canada</td>\n",
       "      <td>Piano</td>\n",
       "      <td>44495758729</td>\n",
       "      <td>7205044802</td>\n",
       "      <td>5073101257</td>\n",
       "      <td>18973132188</td>\n",
       "      <td>10829107317</td>\n",
       "      <td>Master</td>\n",
       "      <td>Lava Hot</td>\n",
       "      <td>l</td>\n",
       "      <td>A</td>\n",
       "      <td>RP</td>\n",
       "    </tr>\n",
       "    <tr>\n",
       "      <td>2</td>\n",
       "      <td>F</td>\n",
       "      <td>Y</td>\n",
       "      <td>Blue</td>\n",
       "      <td>Square</td>\n",
       "      <td>Dog</td>\n",
       "      <td>China</td>\n",
       "      <td>Piano</td>\n",
       "      <td>23225241348</td>\n",
       "      <td>8557928957</td>\n",
       "      <td>10694291519</td>\n",
       "      <td>49217937904</td>\n",
       "      <td>29849011519</td>\n",
       "      <td>Expert</td>\n",
       "      <td>Freezing</td>\n",
       "      <td>a</td>\n",
       "      <td>G</td>\n",
       "      <td>tP</td>\n",
       "    </tr>\n",
       "    <tr>\n",
       "      <td>3</td>\n",
       "      <td>T</td>\n",
       "      <td>Y</td>\n",
       "      <td>Red</td>\n",
       "      <td>Star</td>\n",
       "      <td>Cat</td>\n",
       "      <td>China</td>\n",
       "      <td>Piano</td>\n",
       "      <td>53001676670</td>\n",
       "      <td>44648550080</td>\n",
       "      <td>13092764940</td>\n",
       "      <td>3068946687</td>\n",
       "      <td>48819854532</td>\n",
       "      <td>Contributor</td>\n",
       "      <td>Lava Hot</td>\n",
       "      <td>b</td>\n",
       "      <td>Q</td>\n",
       "      <td>ke</td>\n",
       "    </tr>\n",
       "    <tr>\n",
       "      <td>4</td>\n",
       "      <td>F</td>\n",
       "      <td>N</td>\n",
       "      <td>Red</td>\n",
       "      <td>Trapezoid</td>\n",
       "      <td>Dog</td>\n",
       "      <td>China</td>\n",
       "      <td>Piano</td>\n",
       "      <td>62019479309</td>\n",
       "      <td>40725263640</td>\n",
       "      <td>44060663909</td>\n",
       "      <td>66873176558</td>\n",
       "      <td>40396368329</td>\n",
       "      <td>Grandmaster</td>\n",
       "      <td>Lava Hot</td>\n",
       "      <td>l</td>\n",
       "      <td>W</td>\n",
       "      <td>qK</td>\n",
       "    </tr>\n",
       "    <tr>\n",
       "      <td>...</td>\n",
       "      <td>...</td>\n",
       "      <td>...</td>\n",
       "      <td>...</td>\n",
       "      <td>...</td>\n",
       "      <td>...</td>\n",
       "      <td>...</td>\n",
       "      <td>...</td>\n",
       "      <td>...</td>\n",
       "      <td>...</td>\n",
       "      <td>...</td>\n",
       "      <td>...</td>\n",
       "      <td>...</td>\n",
       "      <td>...</td>\n",
       "      <td>...</td>\n",
       "      <td>...</td>\n",
       "      <td>...</td>\n",
       "      <td>...</td>\n",
       "    </tr>\n",
       "    <tr>\n",
       "      <td>199995</td>\n",
       "      <td>F</td>\n",
       "      <td>N</td>\n",
       "      <td>Green</td>\n",
       "      <td>Square</td>\n",
       "      <td>Lion</td>\n",
       "      <td>Canada</td>\n",
       "      <td>Theremin</td>\n",
       "      <td>29143040461</td>\n",
       "      <td>44030385938</td>\n",
       "      <td>55879053498</td>\n",
       "      <td>42491588960</td>\n",
       "      <td>46375446815</td>\n",
       "      <td>Novice</td>\n",
       "      <td>Lava Hot</td>\n",
       "      <td>j</td>\n",
       "      <td>A</td>\n",
       "      <td>Gb</td>\n",
       "    </tr>\n",
       "    <tr>\n",
       "      <td>199996</td>\n",
       "      <td>F</td>\n",
       "      <td>Y</td>\n",
       "      <td>Green</td>\n",
       "      <td>Trapezoid</td>\n",
       "      <td>Lion</td>\n",
       "      <td>China</td>\n",
       "      <td>Piano</td>\n",
       "      <td>12181934306</td>\n",
       "      <td>22020123874</td>\n",
       "      <td>56598899675</td>\n",
       "      <td>55764877008</td>\n",
       "      <td>63052203728</td>\n",
       "      <td>Contributor</td>\n",
       "      <td>Lava Hot</td>\n",
       "      <td>f</td>\n",
       "      <td>S</td>\n",
       "      <td>Ed</td>\n",
       "    </tr>\n",
       "    <tr>\n",
       "      <td>199997</td>\n",
       "      <td>T</td>\n",
       "      <td>Y</td>\n",
       "      <td>Green</td>\n",
       "      <td>Trapezoid</td>\n",
       "      <td>Lion</td>\n",
       "      <td>Canada</td>\n",
       "      <td>Oboe</td>\n",
       "      <td>19465791065</td>\n",
       "      <td>10842633547</td>\n",
       "      <td>9264300030</td>\n",
       "      <td>4572564844</td>\n",
       "      <td>13922193227</td>\n",
       "      <td>Novice</td>\n",
       "      <td>Boiling Hot</td>\n",
       "      <td>g</td>\n",
       "      <td>V</td>\n",
       "      <td>TR</td>\n",
       "    </tr>\n",
       "    <tr>\n",
       "      <td>199998</td>\n",
       "      <td>T</td>\n",
       "      <td>Y</td>\n",
       "      <td>Blue</td>\n",
       "      <td>Star</td>\n",
       "      <td>Hamster</td>\n",
       "      <td>Costa Rica</td>\n",
       "      <td>Bassoon</td>\n",
       "      <td>67060087699</td>\n",
       "      <td>12530182341</td>\n",
       "      <td>68442683966</td>\n",
       "      <td>25881776907</td>\n",
       "      <td>57125734365</td>\n",
       "      <td>Grandmaster</td>\n",
       "      <td>Boiling Hot</td>\n",
       "      <td>g</td>\n",
       "      <td>X</td>\n",
       "      <td>Ye</td>\n",
       "    </tr>\n",
       "    <tr>\n",
       "      <td>199999</td>\n",
       "      <td>T</td>\n",
       "      <td>Y</td>\n",
       "      <td>Green</td>\n",
       "      <td>Star</td>\n",
       "      <td>Lion</td>\n",
       "      <td>India</td>\n",
       "      <td>Piano</td>\n",
       "      <td>44495758729</td>\n",
       "      <td>51864461175</td>\n",
       "      <td>45354305073</td>\n",
       "      <td>21111467702</td>\n",
       "      <td>12181370156</td>\n",
       "      <td>Novice</td>\n",
       "      <td>Freezing</td>\n",
       "      <td>l</td>\n",
       "      <td>J</td>\n",
       "      <td>ex</td>\n",
       "    </tr>\n",
       "  </tbody>\n",
       "</table>\n",
       "<p>200000 rows × 17 columns</p>\n",
       "</div>"
      ],
      "text/plain": [
       "       bin_3 bin_4  nom_0      nom_1    nom_2       nom_3     nom_4  \\\n",
       "0          T     Y   Blue   Triangle  Axolotl     Finland     Piano   \n",
       "1          T     N    Red     Square     Lion      Canada     Piano   \n",
       "2          F     Y   Blue     Square      Dog       China     Piano   \n",
       "3          T     Y    Red       Star      Cat       China     Piano   \n",
       "4          F     N    Red  Trapezoid      Dog       China     Piano   \n",
       "...      ...   ...    ...        ...      ...         ...       ...   \n",
       "199995     F     N  Green     Square     Lion      Canada  Theremin   \n",
       "199996     F     Y  Green  Trapezoid     Lion       China     Piano   \n",
       "199997     T     Y  Green  Trapezoid     Lion      Canada      Oboe   \n",
       "199998     T     Y   Blue       Star  Hamster  Costa Rica   Bassoon   \n",
       "199999     T     Y  Green       Star     Lion       India     Piano   \n",
       "\n",
       "              nom_5        nom_6        nom_7        nom_8        nom_9  \\\n",
       "0        2265647709  42122452438  22296456387  42162663948  16183411384   \n",
       "1       44495758729   7205044802   5073101257  18973132188  10829107317   \n",
       "2       23225241348   8557928957  10694291519  49217937904  29849011519   \n",
       "3       53001676670  44648550080  13092764940   3068946687  48819854532   \n",
       "4       62019479309  40725263640  44060663909  66873176558  40396368329   \n",
       "...             ...          ...          ...          ...          ...   \n",
       "199995  29143040461  44030385938  55879053498  42491588960  46375446815   \n",
       "199996  12181934306  22020123874  56598899675  55764877008  63052203728   \n",
       "199997  19465791065  10842633547   9264300030   4572564844  13922193227   \n",
       "199998  67060087699  12530182341  68442683966  25881776907  57125734365   \n",
       "199999  44495758729  51864461175  45354305073  21111467702  12181370156   \n",
       "\n",
       "              ord_1        ord_2 ord_3 ord_4 ord_5  \n",
       "0            Novice         Warm     j     P    be  \n",
       "1            Master     Lava Hot     l     A    RP  \n",
       "2            Expert     Freezing     a     G    tP  \n",
       "3       Contributor     Lava Hot     b     Q    ke  \n",
       "4       Grandmaster     Lava Hot     l     W    qK  \n",
       "...             ...          ...   ...   ...   ...  \n",
       "199995       Novice     Lava Hot     j     A    Gb  \n",
       "199996  Contributor     Lava Hot     f     S    Ed  \n",
       "199997       Novice  Boiling Hot     g     V    TR  \n",
       "199998  Grandmaster  Boiling Hot     g     X    Ye  \n",
       "199999       Novice     Freezing     l     J    ex  \n",
       "\n",
       "[200000 rows x 17 columns]"
      ]
     },
     "execution_count": 17,
     "metadata": {},
     "output_type": "execute_result"
    }
   ],
   "source": [
    "df2"
   ]
  },
  {
   "cell_type": "code",
   "execution_count": 18,
   "metadata": {},
   "outputs": [
    {
     "data": {
      "text/plain": [
       "['nom_0', 'nom_1', 'nom_2', 'nom_3', 'nom_4']"
      ]
     },
     "execution_count": 18,
     "metadata": {},
     "output_type": "execute_result"
    }
   ],
   "source": [
    "cols = [\"nom_{}\".format(i) for i in range(0, 5)]\n",
    "#df2[df2.columns[df2.columns.str.contains(\"nom_\")]]\n",
    "cols"
   ]
  },
  {
   "cell_type": "code",
   "execution_count": 19,
   "metadata": {},
   "outputs": [
    {
     "name": "stderr",
     "output_type": "stream",
     "text": [
      "/home/ryosuke/miniconda3/envs/myanaconda/lib/python3.7/site-packages/ipykernel_launcher.py:4: SettingWithCopyWarning: \n",
      "A value is trying to be set on a copy of a slice from a DataFrame.\n",
      "Try using .loc[row_indexer,col_indexer] = value instead\n",
      "\n",
      "See the caveats in the documentation: http://pandas.pydata.org/pandas-docs/stable/user_guide/indexing.html#returning-a-view-versus-a-copy\n",
      "  after removing the cwd from sys.path.\n"
     ]
    }
   ],
   "source": [
    "for col in cols:\n",
    "    le = LabelEncoder()\n",
    "    le.fit(df2[col])\n",
    "    df2[col] = le.transform(df2[col])\n",
    "#pd.factorize(df2[\"nom_5\"])"
   ]
  },
  {
   "cell_type": "code",
   "execution_count": 20,
   "metadata": {},
   "outputs": [
    {
     "name": "stderr",
     "output_type": "stream",
     "text": [
      "/home/ryosuke/miniconda3/envs/myanaconda/lib/python3.7/site-packages/ipykernel_launcher.py:5: SettingWithCopyWarning: \n",
      "A value is trying to be set on a copy of a slice from a DataFrame.\n",
      "Try using .loc[row_indexer,col_indexer] = value instead\n",
      "\n",
      "See the caveats in the documentation: http://pandas.pydata.org/pandas-docs/stable/user_guide/indexing.html#returning-a-view-versus-a-copy\n",
      "  \"\"\"\n"
     ]
    }
   ],
   "source": [
    "for col in df2.columns:\n",
    "    if col.startswith(\"bin_\"):\n",
    "        le = LabelEncoder()\n",
    "        le.fit(df2[col])\n",
    "        df2[col] = le.transform(df2[col])"
   ]
  },
  {
   "cell_type": "code",
   "execution_count": 21,
   "metadata": {},
   "outputs": [
    {
     "name": "stderr",
     "output_type": "stream",
     "text": [
      "/home/ryosuke/miniconda3/envs/myanaconda/lib/python3.7/site-packages/ipykernel_launcher.py:1: SettingWithCopyWarning: \n",
      "A value is trying to be set on a copy of a slice from a DataFrame.\n",
      "Try using .loc[row_indexer,col_indexer] = value instead\n",
      "\n",
      "See the caveats in the documentation: http://pandas.pydata.org/pandas-docs/stable/user_guide/indexing.html#returning-a-view-versus-a-copy\n",
      "  \"\"\"Entry point for launching an IPython kernel.\n"
     ]
    }
   ],
   "source": [
    "df2[\"ord_1\"] = df2[\"ord_1\"].map({\"Novice\":0, \"Contributor\":1, \"Expert\":2, \"Master\":3, \"Grandmaster\":4})"
   ]
  },
  {
   "cell_type": "code",
   "execution_count": 22,
   "metadata": {},
   "outputs": [
    {
     "data": {
      "text/plain": [
       "array(['Warm', 'Lava Hot', 'Freezing', 'Boiling Hot', 'Hot', 'Cold'],\n",
       "      dtype=object)"
      ]
     },
     "execution_count": 22,
     "metadata": {},
     "output_type": "execute_result"
    }
   ],
   "source": [
    "df2[\"ord_2\"].unique()"
   ]
  },
  {
   "cell_type": "code",
   "execution_count": 23,
   "metadata": {},
   "outputs": [
    {
     "name": "stderr",
     "output_type": "stream",
     "text": [
      "/home/ryosuke/miniconda3/envs/myanaconda/lib/python3.7/site-packages/ipykernel_launcher.py:1: SettingWithCopyWarning: \n",
      "A value is trying to be set on a copy of a slice from a DataFrame.\n",
      "Try using .loc[row_indexer,col_indexer] = value instead\n",
      "\n",
      "See the caveats in the documentation: http://pandas.pydata.org/pandas-docs/stable/user_guide/indexing.html#returning-a-view-versus-a-copy\n",
      "  \"\"\"Entry point for launching an IPython kernel.\n"
     ]
    }
   ],
   "source": [
    "df2[\"ord_2\"] = df2[\"ord_2\"].map({\"Freezing\":0, \"Cold\":1, \"Warm\":2, \"Hot\":3, \"Boiling Hot\":4, \"Lava Hot\":5})"
   ]
  },
  {
   "cell_type": "code",
   "execution_count": 24,
   "metadata": {},
   "outputs": [
    {
     "name": "stderr",
     "output_type": "stream",
     "text": [
      "/home/ryosuke/miniconda3/envs/myanaconda/lib/python3.7/site-packages/ipykernel_launcher.py:1: SettingWithCopyWarning: \n",
      "A value is trying to be set on a copy of a slice from a DataFrame.\n",
      "Try using .loc[row_indexer,col_indexer] = value instead\n",
      "\n",
      "See the caveats in the documentation: http://pandas.pydata.org/pandas-docs/stable/user_guide/indexing.html#returning-a-view-versus-a-copy\n",
      "  \"\"\"Entry point for launching an IPython kernel.\n"
     ]
    }
   ],
   "source": [
    "df2[\"ord_3\"] = df2[\"ord_3\"].map({k:v for v,k in enumerate(list(string.ascii_lowercase))})"
   ]
  },
  {
   "cell_type": "code",
   "execution_count": 25,
   "metadata": {},
   "outputs": [
    {
     "name": "stderr",
     "output_type": "stream",
     "text": [
      "/home/ryosuke/miniconda3/envs/myanaconda/lib/python3.7/site-packages/ipykernel_launcher.py:1: SettingWithCopyWarning: \n",
      "A value is trying to be set on a copy of a slice from a DataFrame.\n",
      "Try using .loc[row_indexer,col_indexer] = value instead\n",
      "\n",
      "See the caveats in the documentation: http://pandas.pydata.org/pandas-docs/stable/user_guide/indexing.html#returning-a-view-versus-a-copy\n",
      "  \"\"\"Entry point for launching an IPython kernel.\n"
     ]
    }
   ],
   "source": [
    "df2[\"ord_4\"] = df2[\"ord_4\"].map({k:v for v,k in enumerate(list(string.ascii_uppercase))})"
   ]
  },
  {
   "cell_type": "code",
   "execution_count": 26,
   "metadata": {},
   "outputs": [],
   "source": [
    "list1 = list(string.ascii_lowercase)"
   ]
  },
  {
   "cell_type": "code",
   "execution_count": 27,
   "metadata": {},
   "outputs": [],
   "source": [
    "list2 = list(string.ascii_uppercase)"
   ]
  },
  {
   "cell_type": "code",
   "execution_count": 28,
   "metadata": {},
   "outputs": [],
   "source": [
    "list1.extend(list2)"
   ]
  },
  {
   "cell_type": "code",
   "execution_count": 29,
   "metadata": {},
   "outputs": [
    {
     "data": {
      "text/plain": [
       "['a',\n",
       " 'b',\n",
       " 'c',\n",
       " 'd',\n",
       " 'e',\n",
       " 'f',\n",
       " 'g',\n",
       " 'h',\n",
       " 'i',\n",
       " 'j',\n",
       " 'k',\n",
       " 'l',\n",
       " 'm',\n",
       " 'n',\n",
       " 'o',\n",
       " 'p',\n",
       " 'q',\n",
       " 'r',\n",
       " 's',\n",
       " 't',\n",
       " 'u',\n",
       " 'v',\n",
       " 'w',\n",
       " 'x',\n",
       " 'y',\n",
       " 'z',\n",
       " 'A',\n",
       " 'B',\n",
       " 'C',\n",
       " 'D',\n",
       " 'E',\n",
       " 'F',\n",
       " 'G',\n",
       " 'H',\n",
       " 'I',\n",
       " 'J',\n",
       " 'K',\n",
       " 'L',\n",
       " 'M',\n",
       " 'N',\n",
       " 'O',\n",
       " 'P',\n",
       " 'Q',\n",
       " 'R',\n",
       " 'S',\n",
       " 'T',\n",
       " 'U',\n",
       " 'V',\n",
       " 'W',\n",
       " 'X',\n",
       " 'Y',\n",
       " 'Z']"
      ]
     },
     "execution_count": 29,
     "metadata": {},
     "output_type": "execute_result"
    }
   ],
   "source": [
    "list1"
   ]
  },
  {
   "cell_type": "code",
   "execution_count": 30,
   "metadata": {},
   "outputs": [
    {
     "data": {
      "text/plain": [
       "0          10\n",
       "1         430\n",
       "2         190\n",
       "3         100\n",
       "4         160\n",
       "         ... \n",
       "199995    320\n",
       "199996    300\n",
       "199997    450\n",
       "199998    500\n",
       "199999     40\n",
       "Name: ord_5, Length: 200000, dtype: int64"
      ]
     },
     "execution_count": 30,
     "metadata": {},
     "output_type": "execute_result"
    }
   ],
   "source": [
    "df2[\"ord_5\"].apply(lambda x: x[0]).map({k:v*10 for v,k in enumerate(list1)})"
   ]
  },
  {
   "cell_type": "code",
   "execution_count": 31,
   "metadata": {},
   "outputs": [
    {
     "name": "stderr",
     "output_type": "stream",
     "text": [
      "/home/ryosuke/miniconda3/envs/myanaconda/lib/python3.7/site-packages/ipykernel_launcher.py:2: SettingWithCopyWarning: \n",
      "A value is trying to be set on a copy of a slice from a DataFrame.\n",
      "Try using .loc[row_indexer,col_indexer] = value instead\n",
      "\n",
      "See the caveats in the documentation: http://pandas.pydata.org/pandas-docs/stable/user_guide/indexing.html#returning-a-view-versus-a-copy\n",
      "  \n"
     ]
    }
   ],
   "source": [
    "df2[\"ord_5\"] = df2[\"ord_5\"].apply(lambda x: x[0]).map({k:v*10 for v,k in enumerate(list1)}) +\\\n",
    "df2[\"ord_5\"].apply(lambda x: x[1]).map({k:v for v,k in enumerate(list1)})"
   ]
  },
  {
   "cell_type": "code",
   "execution_count": 32,
   "metadata": {},
   "outputs": [
    {
     "data": {
      "text/html": [
       "<div>\n",
       "<style scoped>\n",
       "    .dataframe tbody tr th:only-of-type {\n",
       "        vertical-align: middle;\n",
       "    }\n",
       "\n",
       "    .dataframe tbody tr th {\n",
       "        vertical-align: top;\n",
       "    }\n",
       "\n",
       "    .dataframe thead th {\n",
       "        text-align: right;\n",
       "    }\n",
       "</style>\n",
       "<table border=\"1\" class=\"dataframe\">\n",
       "  <thead>\n",
       "    <tr style=\"text-align: right;\">\n",
       "      <th></th>\n",
       "      <th>bin_3</th>\n",
       "      <th>bin_4</th>\n",
       "      <th>nom_0</th>\n",
       "      <th>nom_1</th>\n",
       "      <th>nom_2</th>\n",
       "      <th>nom_3</th>\n",
       "      <th>nom_4</th>\n",
       "      <th>nom_5</th>\n",
       "      <th>nom_6</th>\n",
       "      <th>nom_7</th>\n",
       "      <th>nom_8</th>\n",
       "      <th>nom_9</th>\n",
       "      <th>ord_1</th>\n",
       "      <th>ord_2</th>\n",
       "      <th>ord_3</th>\n",
       "      <th>ord_4</th>\n",
       "      <th>ord_5</th>\n",
       "    </tr>\n",
       "  </thead>\n",
       "  <tbody>\n",
       "    <tr>\n",
       "      <td>0</td>\n",
       "      <td>1</td>\n",
       "      <td>1</td>\n",
       "      <td>0</td>\n",
       "      <td>5</td>\n",
       "      <td>0</td>\n",
       "      <td>3</td>\n",
       "      <td>2</td>\n",
       "      <td>2265647709</td>\n",
       "      <td>42122452438</td>\n",
       "      <td>22296456387</td>\n",
       "      <td>42162663948</td>\n",
       "      <td>16183411384</td>\n",
       "      <td>0</td>\n",
       "      <td>2</td>\n",
       "      <td>9</td>\n",
       "      <td>15</td>\n",
       "      <td>14</td>\n",
       "    </tr>\n",
       "    <tr>\n",
       "      <td>1</td>\n",
       "      <td>1</td>\n",
       "      <td>0</td>\n",
       "      <td>2</td>\n",
       "      <td>2</td>\n",
       "      <td>4</td>\n",
       "      <td>0</td>\n",
       "      <td>2</td>\n",
       "      <td>44495758729</td>\n",
       "      <td>7205044802</td>\n",
       "      <td>5073101257</td>\n",
       "      <td>18973132188</td>\n",
       "      <td>10829107317</td>\n",
       "      <td>3</td>\n",
       "      <td>5</td>\n",
       "      <td>11</td>\n",
       "      <td>0</td>\n",
       "      <td>471</td>\n",
       "    </tr>\n",
       "    <tr>\n",
       "      <td>2</td>\n",
       "      <td>0</td>\n",
       "      <td>1</td>\n",
       "      <td>0</td>\n",
       "      <td>2</td>\n",
       "      <td>2</td>\n",
       "      <td>1</td>\n",
       "      <td>2</td>\n",
       "      <td>23225241348</td>\n",
       "      <td>8557928957</td>\n",
       "      <td>10694291519</td>\n",
       "      <td>49217937904</td>\n",
       "      <td>29849011519</td>\n",
       "      <td>2</td>\n",
       "      <td>0</td>\n",
       "      <td>0</td>\n",
       "      <td>6</td>\n",
       "      <td>231</td>\n",
       "    </tr>\n",
       "    <tr>\n",
       "      <td>3</td>\n",
       "      <td>1</td>\n",
       "      <td>1</td>\n",
       "      <td>2</td>\n",
       "      <td>3</td>\n",
       "      <td>1</td>\n",
       "      <td>1</td>\n",
       "      <td>2</td>\n",
       "      <td>53001676670</td>\n",
       "      <td>44648550080</td>\n",
       "      <td>13092764940</td>\n",
       "      <td>3068946687</td>\n",
       "      <td>48819854532</td>\n",
       "      <td>1</td>\n",
       "      <td>5</td>\n",
       "      <td>1</td>\n",
       "      <td>16</td>\n",
       "      <td>104</td>\n",
       "    </tr>\n",
       "    <tr>\n",
       "      <td>4</td>\n",
       "      <td>0</td>\n",
       "      <td>0</td>\n",
       "      <td>2</td>\n",
       "      <td>4</td>\n",
       "      <td>2</td>\n",
       "      <td>1</td>\n",
       "      <td>2</td>\n",
       "      <td>62019479309</td>\n",
       "      <td>40725263640</td>\n",
       "      <td>44060663909</td>\n",
       "      <td>66873176558</td>\n",
       "      <td>40396368329</td>\n",
       "      <td>4</td>\n",
       "      <td>5</td>\n",
       "      <td>11</td>\n",
       "      <td>22</td>\n",
       "      <td>196</td>\n",
       "    </tr>\n",
       "    <tr>\n",
       "      <td>...</td>\n",
       "      <td>...</td>\n",
       "      <td>...</td>\n",
       "      <td>...</td>\n",
       "      <td>...</td>\n",
       "      <td>...</td>\n",
       "      <td>...</td>\n",
       "      <td>...</td>\n",
       "      <td>...</td>\n",
       "      <td>...</td>\n",
       "      <td>...</td>\n",
       "      <td>...</td>\n",
       "      <td>...</td>\n",
       "      <td>...</td>\n",
       "      <td>...</td>\n",
       "      <td>...</td>\n",
       "      <td>...</td>\n",
       "      <td>...</td>\n",
       "    </tr>\n",
       "    <tr>\n",
       "      <td>199995</td>\n",
       "      <td>0</td>\n",
       "      <td>0</td>\n",
       "      <td>1</td>\n",
       "      <td>2</td>\n",
       "      <td>4</td>\n",
       "      <td>0</td>\n",
       "      <td>3</td>\n",
       "      <td>29143040461</td>\n",
       "      <td>44030385938</td>\n",
       "      <td>55879053498</td>\n",
       "      <td>42491588960</td>\n",
       "      <td>46375446815</td>\n",
       "      <td>0</td>\n",
       "      <td>5</td>\n",
       "      <td>9</td>\n",
       "      <td>0</td>\n",
       "      <td>321</td>\n",
       "    </tr>\n",
       "    <tr>\n",
       "      <td>199996</td>\n",
       "      <td>0</td>\n",
       "      <td>1</td>\n",
       "      <td>1</td>\n",
       "      <td>4</td>\n",
       "      <td>4</td>\n",
       "      <td>1</td>\n",
       "      <td>2</td>\n",
       "      <td>12181934306</td>\n",
       "      <td>22020123874</td>\n",
       "      <td>56598899675</td>\n",
       "      <td>55764877008</td>\n",
       "      <td>63052203728</td>\n",
       "      <td>1</td>\n",
       "      <td>5</td>\n",
       "      <td>5</td>\n",
       "      <td>18</td>\n",
       "      <td>303</td>\n",
       "    </tr>\n",
       "    <tr>\n",
       "      <td>199997</td>\n",
       "      <td>1</td>\n",
       "      <td>1</td>\n",
       "      <td>1</td>\n",
       "      <td>4</td>\n",
       "      <td>4</td>\n",
       "      <td>0</td>\n",
       "      <td>1</td>\n",
       "      <td>19465791065</td>\n",
       "      <td>10842633547</td>\n",
       "      <td>9264300030</td>\n",
       "      <td>4572564844</td>\n",
       "      <td>13922193227</td>\n",
       "      <td>0</td>\n",
       "      <td>4</td>\n",
       "      <td>6</td>\n",
       "      <td>21</td>\n",
       "      <td>493</td>\n",
       "    </tr>\n",
       "    <tr>\n",
       "      <td>199998</td>\n",
       "      <td>1</td>\n",
       "      <td>1</td>\n",
       "      <td>0</td>\n",
       "      <td>3</td>\n",
       "      <td>3</td>\n",
       "      <td>2</td>\n",
       "      <td>0</td>\n",
       "      <td>67060087699</td>\n",
       "      <td>12530182341</td>\n",
       "      <td>68442683966</td>\n",
       "      <td>25881776907</td>\n",
       "      <td>57125734365</td>\n",
       "      <td>4</td>\n",
       "      <td>4</td>\n",
       "      <td>6</td>\n",
       "      <td>23</td>\n",
       "      <td>504</td>\n",
       "    </tr>\n",
       "    <tr>\n",
       "      <td>199999</td>\n",
       "      <td>1</td>\n",
       "      <td>1</td>\n",
       "      <td>1</td>\n",
       "      <td>3</td>\n",
       "      <td>4</td>\n",
       "      <td>4</td>\n",
       "      <td>2</td>\n",
       "      <td>44495758729</td>\n",
       "      <td>51864461175</td>\n",
       "      <td>45354305073</td>\n",
       "      <td>21111467702</td>\n",
       "      <td>12181370156</td>\n",
       "      <td>0</td>\n",
       "      <td>0</td>\n",
       "      <td>11</td>\n",
       "      <td>9</td>\n",
       "      <td>63</td>\n",
       "    </tr>\n",
       "  </tbody>\n",
       "</table>\n",
       "<p>200000 rows × 17 columns</p>\n",
       "</div>"
      ],
      "text/plain": [
       "        bin_3  bin_4  nom_0  nom_1  nom_2  nom_3  nom_4        nom_5  \\\n",
       "0           1      1      0      5      0      3      2   2265647709   \n",
       "1           1      0      2      2      4      0      2  44495758729   \n",
       "2           0      1      0      2      2      1      2  23225241348   \n",
       "3           1      1      2      3      1      1      2  53001676670   \n",
       "4           0      0      2      4      2      1      2  62019479309   \n",
       "...       ...    ...    ...    ...    ...    ...    ...          ...   \n",
       "199995      0      0      1      2      4      0      3  29143040461   \n",
       "199996      0      1      1      4      4      1      2  12181934306   \n",
       "199997      1      1      1      4      4      0      1  19465791065   \n",
       "199998      1      1      0      3      3      2      0  67060087699   \n",
       "199999      1      1      1      3      4      4      2  44495758729   \n",
       "\n",
       "              nom_6        nom_7        nom_8        nom_9  ord_1  ord_2  \\\n",
       "0       42122452438  22296456387  42162663948  16183411384      0      2   \n",
       "1        7205044802   5073101257  18973132188  10829107317      3      5   \n",
       "2        8557928957  10694291519  49217937904  29849011519      2      0   \n",
       "3       44648550080  13092764940   3068946687  48819854532      1      5   \n",
       "4       40725263640  44060663909  66873176558  40396368329      4      5   \n",
       "...             ...          ...          ...          ...    ...    ...   \n",
       "199995  44030385938  55879053498  42491588960  46375446815      0      5   \n",
       "199996  22020123874  56598899675  55764877008  63052203728      1      5   \n",
       "199997  10842633547   9264300030   4572564844  13922193227      0      4   \n",
       "199998  12530182341  68442683966  25881776907  57125734365      4      4   \n",
       "199999  51864461175  45354305073  21111467702  12181370156      0      0   \n",
       "\n",
       "        ord_3  ord_4  ord_5  \n",
       "0           9     15     14  \n",
       "1          11      0    471  \n",
       "2           0      6    231  \n",
       "3           1     16    104  \n",
       "4          11     22    196  \n",
       "...       ...    ...    ...  \n",
       "199995      9      0    321  \n",
       "199996      5     18    303  \n",
       "199997      6     21    493  \n",
       "199998      6     23    504  \n",
       "199999     11      9     63  \n",
       "\n",
       "[200000 rows x 17 columns]"
      ]
     },
     "execution_count": 32,
     "metadata": {},
     "output_type": "execute_result"
    }
   ],
   "source": [
    "df2"
   ]
  },
  {
   "cell_type": "code",
   "execution_count": 33,
   "metadata": {},
   "outputs": [],
   "source": [
    "#df2_ = pd.get_dummies(df2)"
   ]
  },
  {
   "cell_type": "code",
   "execution_count": 34,
   "metadata": {},
   "outputs": [
    {
     "data": {
      "text/plain": [
       "(200000, 17)"
      ]
     },
     "execution_count": 34,
     "metadata": {},
     "output_type": "execute_result"
    }
   ],
   "source": [
    "df2.shape"
   ]
  },
  {
   "cell_type": "code",
   "execution_count": 35,
   "metadata": {},
   "outputs": [],
   "source": [
    "df = pd.concat([df1, df2], axis=1)"
   ]
  },
  {
   "cell_type": "code",
   "execution_count": 36,
   "metadata": {},
   "outputs": [],
   "source": [
    "del [df2, df1]"
   ]
  },
  {
   "cell_type": "code",
   "execution_count": 37,
   "metadata": {},
   "outputs": [
    {
     "data": {
      "text/plain": [
       "(200000, 23)"
      ]
     },
     "execution_count": 37,
     "metadata": {},
     "output_type": "execute_result"
    }
   ],
   "source": [
    "df.shape"
   ]
  },
  {
   "cell_type": "code",
   "execution_count": 38,
   "metadata": {},
   "outputs": [],
   "source": [
    "#df[\"target\"].plot.hist();"
   ]
  },
  {
   "cell_type": "code",
   "execution_count": 39,
   "metadata": {},
   "outputs": [
    {
     "data": {
      "text/html": [
       "<div>\n",
       "<style scoped>\n",
       "    .dataframe tbody tr th:only-of-type {\n",
       "        vertical-align: middle;\n",
       "    }\n",
       "\n",
       "    .dataframe tbody tr th {\n",
       "        vertical-align: top;\n",
       "    }\n",
       "\n",
       "    .dataframe thead th {\n",
       "        text-align: right;\n",
       "    }\n",
       "</style>\n",
       "<table border=\"1\" class=\"dataframe\">\n",
       "  <thead>\n",
       "    <tr style=\"text-align: right;\">\n",
       "      <th></th>\n",
       "      <th>nom_0</th>\n",
       "      <th>nom_1</th>\n",
       "      <th>nom_2</th>\n",
       "      <th>nom_3</th>\n",
       "      <th>nom_4</th>\n",
       "      <th>nom_5</th>\n",
       "      <th>nom_6</th>\n",
       "      <th>nom_7</th>\n",
       "      <th>nom_8</th>\n",
       "      <th>nom_9</th>\n",
       "    </tr>\n",
       "  </thead>\n",
       "  <tbody>\n",
       "    <tr>\n",
       "      <td>nom_0</td>\n",
       "      <td>1.000000</td>\n",
       "      <td>0.000227</td>\n",
       "      <td>-0.002429</td>\n",
       "      <td>0.004435</td>\n",
       "      <td>-0.003597</td>\n",
       "      <td>-0.000867</td>\n",
       "      <td>-0.000177</td>\n",
       "      <td>-0.000449</td>\n",
       "      <td>0.000871</td>\n",
       "      <td>-0.003431</td>\n",
       "    </tr>\n",
       "    <tr>\n",
       "      <td>nom_1</td>\n",
       "      <td>0.000227</td>\n",
       "      <td>1.000000</td>\n",
       "      <td>0.000442</td>\n",
       "      <td>0.001129</td>\n",
       "      <td>0.003844</td>\n",
       "      <td>0.003373</td>\n",
       "      <td>-0.000539</td>\n",
       "      <td>0.000963</td>\n",
       "      <td>-0.002600</td>\n",
       "      <td>-0.001657</td>\n",
       "    </tr>\n",
       "    <tr>\n",
       "      <td>nom_2</td>\n",
       "      <td>-0.002429</td>\n",
       "      <td>0.000442</td>\n",
       "      <td>1.000000</td>\n",
       "      <td>-0.000103</td>\n",
       "      <td>0.001188</td>\n",
       "      <td>0.002425</td>\n",
       "      <td>0.001278</td>\n",
       "      <td>-0.001175</td>\n",
       "      <td>-0.003270</td>\n",
       "      <td>-0.001604</td>\n",
       "    </tr>\n",
       "    <tr>\n",
       "      <td>nom_3</td>\n",
       "      <td>0.004435</td>\n",
       "      <td>0.001129</td>\n",
       "      <td>-0.000103</td>\n",
       "      <td>1.000000</td>\n",
       "      <td>0.001269</td>\n",
       "      <td>-0.000811</td>\n",
       "      <td>0.000707</td>\n",
       "      <td>0.001200</td>\n",
       "      <td>-0.000388</td>\n",
       "      <td>0.004420</td>\n",
       "    </tr>\n",
       "    <tr>\n",
       "      <td>nom_4</td>\n",
       "      <td>-0.003597</td>\n",
       "      <td>0.003844</td>\n",
       "      <td>0.001188</td>\n",
       "      <td>0.001269</td>\n",
       "      <td>1.000000</td>\n",
       "      <td>-0.002982</td>\n",
       "      <td>0.001535</td>\n",
       "      <td>0.003056</td>\n",
       "      <td>-0.001116</td>\n",
       "      <td>-0.003026</td>\n",
       "    </tr>\n",
       "    <tr>\n",
       "      <td>nom_5</td>\n",
       "      <td>-0.000867</td>\n",
       "      <td>0.003373</td>\n",
       "      <td>0.002425</td>\n",
       "      <td>-0.000811</td>\n",
       "      <td>-0.002982</td>\n",
       "      <td>1.000000</td>\n",
       "      <td>-0.001351</td>\n",
       "      <td>0.002081</td>\n",
       "      <td>-0.000744</td>\n",
       "      <td>-0.000122</td>\n",
       "    </tr>\n",
       "    <tr>\n",
       "      <td>nom_6</td>\n",
       "      <td>-0.000177</td>\n",
       "      <td>-0.000539</td>\n",
       "      <td>0.001278</td>\n",
       "      <td>0.000707</td>\n",
       "      <td>0.001535</td>\n",
       "      <td>-0.001351</td>\n",
       "      <td>1.000000</td>\n",
       "      <td>-0.001005</td>\n",
       "      <td>0.000772</td>\n",
       "      <td>0.004237</td>\n",
       "    </tr>\n",
       "    <tr>\n",
       "      <td>nom_7</td>\n",
       "      <td>-0.000449</td>\n",
       "      <td>0.000963</td>\n",
       "      <td>-0.001175</td>\n",
       "      <td>0.001200</td>\n",
       "      <td>0.003056</td>\n",
       "      <td>0.002081</td>\n",
       "      <td>-0.001005</td>\n",
       "      <td>1.000000</td>\n",
       "      <td>-0.001859</td>\n",
       "      <td>0.001225</td>\n",
       "    </tr>\n",
       "    <tr>\n",
       "      <td>nom_8</td>\n",
       "      <td>0.000871</td>\n",
       "      <td>-0.002600</td>\n",
       "      <td>-0.003270</td>\n",
       "      <td>-0.000388</td>\n",
       "      <td>-0.001116</td>\n",
       "      <td>-0.000744</td>\n",
       "      <td>0.000772</td>\n",
       "      <td>-0.001859</td>\n",
       "      <td>1.000000</td>\n",
       "      <td>-0.000273</td>\n",
       "    </tr>\n",
       "    <tr>\n",
       "      <td>nom_9</td>\n",
       "      <td>-0.003431</td>\n",
       "      <td>-0.001657</td>\n",
       "      <td>-0.001604</td>\n",
       "      <td>0.004420</td>\n",
       "      <td>-0.003026</td>\n",
       "      <td>-0.000122</td>\n",
       "      <td>0.004237</td>\n",
       "      <td>0.001225</td>\n",
       "      <td>-0.000273</td>\n",
       "      <td>1.000000</td>\n",
       "    </tr>\n",
       "  </tbody>\n",
       "</table>\n",
       "</div>"
      ],
      "text/plain": [
       "          nom_0     nom_1     nom_2     nom_3     nom_4     nom_5     nom_6  \\\n",
       "nom_0  1.000000  0.000227 -0.002429  0.004435 -0.003597 -0.000867 -0.000177   \n",
       "nom_1  0.000227  1.000000  0.000442  0.001129  0.003844  0.003373 -0.000539   \n",
       "nom_2 -0.002429  0.000442  1.000000 -0.000103  0.001188  0.002425  0.001278   \n",
       "nom_3  0.004435  0.001129 -0.000103  1.000000  0.001269 -0.000811  0.000707   \n",
       "nom_4 -0.003597  0.003844  0.001188  0.001269  1.000000 -0.002982  0.001535   \n",
       "nom_5 -0.000867  0.003373  0.002425 -0.000811 -0.002982  1.000000 -0.001351   \n",
       "nom_6 -0.000177 -0.000539  0.001278  0.000707  0.001535 -0.001351  1.000000   \n",
       "nom_7 -0.000449  0.000963 -0.001175  0.001200  0.003056  0.002081 -0.001005   \n",
       "nom_8  0.000871 -0.002600 -0.003270 -0.000388 -0.001116 -0.000744  0.000772   \n",
       "nom_9 -0.003431 -0.001657 -0.001604  0.004420 -0.003026 -0.000122  0.004237   \n",
       "\n",
       "          nom_7     nom_8     nom_9  \n",
       "nom_0 -0.000449  0.000871 -0.003431  \n",
       "nom_1  0.000963 -0.002600 -0.001657  \n",
       "nom_2 -0.001175 -0.003270 -0.001604  \n",
       "nom_3  0.001200 -0.000388  0.004420  \n",
       "nom_4  0.003056 -0.001116 -0.003026  \n",
       "nom_5  0.002081 -0.000744 -0.000122  \n",
       "nom_6 -0.001005  0.000772  0.004237  \n",
       "nom_7  1.000000 -0.001859  0.001225  \n",
       "nom_8 -0.001859  1.000000 -0.000273  \n",
       "nom_9  0.001225 -0.000273  1.000000  "
      ]
     },
     "execution_count": 39,
     "metadata": {},
     "output_type": "execute_result"
    }
   ],
   "source": [
    "df[df.columns[df.columns.str.contains(\"nom_\")]].corr()"
   ]
  },
  {
   "cell_type": "code",
   "execution_count": 40,
   "metadata": {},
   "outputs": [
    {
     "data": {
      "image/png": "[encoded data removed]",
      "text/plain": [
       "<Figure size 288x288 with 1 Axes>"
      ]
     },
     "metadata": {
      "needs_background": "light"
     },
     "output_type": "display_data"
    }
   ],
   "source": [
    "plt.matshow(df[df.columns[df.columns.str.contains(\"nom_\")]].corr())\n",
    "plt.show()"
   ]
  },
  {
   "cell_type": "code",
   "execution_count": null,
   "metadata": {},
   "outputs": [],
   "source": []
  },
  {
   "cell_type": "code",
   "execution_count": null,
   "metadata": {},
   "outputs": [],
   "source": []
  },
  {
   "cell_type": "code",
   "execution_count": null,
   "metadata": {},
   "outputs": [],
   "source": []
  },
  {
   "cell_type": "code",
   "execution_count": null,
   "metadata": {},
   "outputs": [],
   "source": []
  },
  {
   "cell_type": "code",
   "execution_count": null,
   "metadata": {},
   "outputs": [],
   "source": []
  },
  {
   "cell_type": "code",
   "execution_count": 55,
   "metadata": {},
   "outputs": [],
   "source": [
    "#y = df[\"target\"].values"
   ]
  },
  {
   "cell_type": "code",
   "execution_count": 56,
   "metadata": {},
   "outputs": [],
   "source": [
    "#df.drop([\"target\"], axis=1, inplace=True)"
   ]
  },
  {
   "cell_type": "code",
   "execution_count": 41,
   "metadata": {},
   "outputs": [],
   "source": [
    "X = df.values"
   ]
  },
  {
   "cell_type": "code",
   "execution_count": 42,
   "metadata": {},
   "outputs": [],
   "source": [
    "del df"
   ]
  },
  {
   "cell_type": "code",
   "execution_count": 43,
   "metadata": {},
   "outputs": [
    {
     "name": "stdout",
     "output_type": "stream",
     "text": [
      "(200000, 23)\n"
     ]
    }
   ],
   "source": [
    "#print(X.shape, y.shape)\n",
    "print(X.shape)"
   ]
  },
  {
   "cell_type": "code",
   "execution_count": 60,
   "metadata": {},
   "outputs": [],
   "source": [
    "#X_train, X_test, y_train, y_test = train_test_split(X, y, test_size=0.33, random_state=42)"
   ]
  },
  {
   "cell_type": "code",
   "execution_count": 44,
   "metadata": {},
   "outputs": [],
   "source": [
    "clf = load('clf.joblib') "
   ]
  },
  {
   "cell_type": "code",
   "execution_count": 227,
   "metadata": {},
   "outputs": [
    {
     "data": {
      "text/plain": [
       "0.7443535353535353"
      ]
     },
     "execution_count": 227,
     "metadata": {},
     "output_type": "execute_result"
    }
   ],
   "source": [
    "#clf = GradientBoostingClassifier(n_estimators=1000, learning_rate=0.1, \n",
    "#                                 max_depth=7, random_state=0).fit(X_train, y_train)\n",
    "#clf.score(X_test, y_test)"
   ]
  },
  {
   "cell_type": "code",
   "execution_count": null,
   "metadata": {},
   "outputs": [],
   "source": [
    "#clf = GradientBoostingClassifier(n_estimators=1200, learning_rate=0.01, \n",
    "#                                 max_depth=15, random_state=0).fit(X_train, y_train)\n",
    "#clf.score(X_test, y_test)"
   ]
  },
  {
   "cell_type": "code",
   "execution_count": null,
   "metadata": {},
   "outputs": [],
   "source": [
    "#clf = GradientBoostingClassifier(n_estimators=1000, learning_rate=0.1, \n",
    "#                                 max_depth=7, random_state=0).fit(X_train, y_train)\n",
    "#clf.score(X_test, y_test)"
   ]
  },
  {
   "cell_type": "code",
   "execution_count": null,
   "metadata": {},
   "outputs": [],
   "source": [
    "#dump(clf, 'clf.joblib') "
   ]
  },
  {
   "cell_type": "code",
   "execution_count": 46,
   "metadata": {},
   "outputs": [],
   "source": [
    "# test\n",
    "df = pd.read_csv(\"test.csv\")\n",
    "df[\"target\"] = clf.predict(X)\n",
    "sub = df[[\"id\", \"target\"]]\n",
    "sub.to_csv(\"submission.csv\", index=False)"
   ]
  },
  {
   "cell_type": "code",
   "execution_count": null,
   "metadata": {},
   "outputs": [],
   "source": []
  }
 ],
 "metadata": {
  "kernelspec": {
   "display_name": "Python 3",
   "language": "python",
   "name": "python3"
  },
  "language_info": {
   "codemirror_mode": {
    "name": "ipython",
    "version": 3
   },
   "file_extension": ".py",
   "mimetype": "text/x-python",
   "name": "python",
   "nbconvert_exporter": "python",
   "pygments_lexer": "ipython3",
   "version": "3.7.4"
  }
 },
 "nbformat": 4,
 "nbformat_minor": 4
}
