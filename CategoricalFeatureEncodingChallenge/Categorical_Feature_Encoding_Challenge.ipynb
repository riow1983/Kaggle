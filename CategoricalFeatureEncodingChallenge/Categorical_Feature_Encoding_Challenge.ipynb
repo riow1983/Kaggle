{
 "cells": [
  {
   "cell_type": "code",
   "execution_count": 1,
   "metadata": {
    "_cell_guid": "b1076dfc-b9ad-4769-8c92-a6c4dae69d19",
    "_uuid": "8f2839f25d086af736a60e9eeb907d3b93b6e0e5"
   },
   "outputs": [],
   "source": [
    "# This Python 3 environment comes with many helpful analytics libraries installed\n",
    "# It is defined by the kaggle/python docker image: https://github.com/kaggle/docker-python\n",
    "# For example, here's several helpful packages to load in \n",
    "\n",
    "import numpy as np # linear algebra\n",
    "import pandas as pd # data processing, CSV file I/O (e.g. pd.read_csv)\n",
    "\n",
    "# Input data files are available in the \"../input/\" directory.\n",
    "# For example, running this (by clicking run or pressing Shift+Enter) will list all files under the input directory\n",
    "\n",
    "#import os\n",
    "#for dirname, _, filenames in os.walk('/kaggle/input'):\n",
    "#    for filename in filenames:\n",
    "#        print(os.path.join(dirname, filename))\n",
    "\n",
    "# Any results you write to the current directory are saved as output.\n",
    "\n",
    "import string\n",
    "\n",
    "from sklearn.ensemble import GradientBoostingClassifier\n",
    "\n",
    "from sklearn.model_selection import train_test_split\n",
    "\n",
    "#from sklearn.decomposition import PCA\n",
    "\n",
    "from sklearn.preprocessing import LabelEncoder\n",
    "\n",
    "import matplotlib.pyplot as plt"
   ]
  },
  {
   "cell_type": "code",
   "execution_count": 2,
   "metadata": {},
   "outputs": [],
   "source": [
    "from joblib import dump, load"
   ]
  },
  {
   "cell_type": "code",
   "execution_count": 3,
   "metadata": {},
   "outputs": [],
   "source": [
    "#!chmod 644 train.csv\n",
    "#!chmod 644 test.csv"
   ]
  },
  {
   "cell_type": "code",
   "execution_count": 4,
   "metadata": {
    "_cell_guid": "79c7e3d0-c299-4dcb-8224-4455121ee9b0",
    "_uuid": "d629ff2d2480ee46fbb7e2d37f6b5fab8052498a"
   },
   "outputs": [],
   "source": [
    "df = pd.read_csv(\"train.csv\")"
   ]
  },
  {
   "cell_type": "code",
   "execution_count": 5,
   "metadata": {},
   "outputs": [
    {
     "data": {
      "text/html": [
       "<div>\n",
       "<style scoped>\n",
       "    .dataframe tbody tr th:only-of-type {\n",
       "        vertical-align: middle;\n",
       "    }\n",
       "\n",
       "    .dataframe tbody tr th {\n",
       "        vertical-align: top;\n",
       "    }\n",
       "\n",
       "    .dataframe thead th {\n",
       "        text-align: right;\n",
       "    }\n",
       "</style>\n",
       "<table border=\"1\" class=\"dataframe\">\n",
       "  <thead>\n",
       "    <tr style=\"text-align: right;\">\n",
       "      <th></th>\n",
       "      <th>id</th>\n",
       "      <th>bin_0</th>\n",
       "      <th>bin_1</th>\n",
       "      <th>bin_2</th>\n",
       "      <th>bin_3</th>\n",
       "      <th>bin_4</th>\n",
       "      <th>nom_0</th>\n",
       "      <th>nom_1</th>\n",
       "      <th>nom_2</th>\n",
       "      <th>nom_3</th>\n",
       "      <th>...</th>\n",
       "      <th>nom_9</th>\n",
       "      <th>ord_0</th>\n",
       "      <th>ord_1</th>\n",
       "      <th>ord_2</th>\n",
       "      <th>ord_3</th>\n",
       "      <th>ord_4</th>\n",
       "      <th>ord_5</th>\n",
       "      <th>day</th>\n",
       "      <th>month</th>\n",
       "      <th>target</th>\n",
       "    </tr>\n",
       "  </thead>\n",
       "  <tbody>\n",
       "    <tr>\n",
       "      <td>0</td>\n",
       "      <td>0</td>\n",
       "      <td>0</td>\n",
       "      <td>0</td>\n",
       "      <td>0</td>\n",
       "      <td>T</td>\n",
       "      <td>Y</td>\n",
       "      <td>Green</td>\n",
       "      <td>Triangle</td>\n",
       "      <td>Snake</td>\n",
       "      <td>Finland</td>\n",
       "      <td>...</td>\n",
       "      <td>2f4cb3d51</td>\n",
       "      <td>2</td>\n",
       "      <td>Grandmaster</td>\n",
       "      <td>Cold</td>\n",
       "      <td>h</td>\n",
       "      <td>D</td>\n",
       "      <td>kr</td>\n",
       "      <td>2</td>\n",
       "      <td>2</td>\n",
       "      <td>0</td>\n",
       "    </tr>\n",
       "    <tr>\n",
       "      <td>1</td>\n",
       "      <td>1</td>\n",
       "      <td>0</td>\n",
       "      <td>1</td>\n",
       "      <td>0</td>\n",
       "      <td>T</td>\n",
       "      <td>Y</td>\n",
       "      <td>Green</td>\n",
       "      <td>Trapezoid</td>\n",
       "      <td>Hamster</td>\n",
       "      <td>Russia</td>\n",
       "      <td>...</td>\n",
       "      <td>f83c56c21</td>\n",
       "      <td>1</td>\n",
       "      <td>Grandmaster</td>\n",
       "      <td>Hot</td>\n",
       "      <td>a</td>\n",
       "      <td>A</td>\n",
       "      <td>bF</td>\n",
       "      <td>7</td>\n",
       "      <td>8</td>\n",
       "      <td>0</td>\n",
       "    </tr>\n",
       "    <tr>\n",
       "      <td>2</td>\n",
       "      <td>2</td>\n",
       "      <td>0</td>\n",
       "      <td>0</td>\n",
       "      <td>0</td>\n",
       "      <td>F</td>\n",
       "      <td>Y</td>\n",
       "      <td>Blue</td>\n",
       "      <td>Trapezoid</td>\n",
       "      <td>Lion</td>\n",
       "      <td>Russia</td>\n",
       "      <td>...</td>\n",
       "      <td>ae6800dd0</td>\n",
       "      <td>1</td>\n",
       "      <td>Expert</td>\n",
       "      <td>Lava Hot</td>\n",
       "      <td>h</td>\n",
       "      <td>R</td>\n",
       "      <td>Jc</td>\n",
       "      <td>7</td>\n",
       "      <td>2</td>\n",
       "      <td>0</td>\n",
       "    </tr>\n",
       "    <tr>\n",
       "      <td>3</td>\n",
       "      <td>3</td>\n",
       "      <td>0</td>\n",
       "      <td>1</td>\n",
       "      <td>0</td>\n",
       "      <td>F</td>\n",
       "      <td>Y</td>\n",
       "      <td>Red</td>\n",
       "      <td>Trapezoid</td>\n",
       "      <td>Snake</td>\n",
       "      <td>Canada</td>\n",
       "      <td>...</td>\n",
       "      <td>8270f0d71</td>\n",
       "      <td>1</td>\n",
       "      <td>Grandmaster</td>\n",
       "      <td>Boiling Hot</td>\n",
       "      <td>i</td>\n",
       "      <td>D</td>\n",
       "      <td>kW</td>\n",
       "      <td>2</td>\n",
       "      <td>1</td>\n",
       "      <td>1</td>\n",
       "    </tr>\n",
       "    <tr>\n",
       "      <td>4</td>\n",
       "      <td>4</td>\n",
       "      <td>0</td>\n",
       "      <td>0</td>\n",
       "      <td>0</td>\n",
       "      <td>F</td>\n",
       "      <td>N</td>\n",
       "      <td>Red</td>\n",
       "      <td>Trapezoid</td>\n",
       "      <td>Lion</td>\n",
       "      <td>Canada</td>\n",
       "      <td>...</td>\n",
       "      <td>b164b72a7</td>\n",
       "      <td>1</td>\n",
       "      <td>Grandmaster</td>\n",
       "      <td>Freezing</td>\n",
       "      <td>a</td>\n",
       "      <td>R</td>\n",
       "      <td>qP</td>\n",
       "      <td>7</td>\n",
       "      <td>8</td>\n",
       "      <td>0</td>\n",
       "    </tr>\n",
       "  </tbody>\n",
       "</table>\n",
       "<p>5 rows × 25 columns</p>\n",
       "</div>"
      ],
      "text/plain": [
       "   id  bin_0  bin_1  bin_2 bin_3 bin_4  nom_0      nom_1    nom_2    nom_3  \\\n",
       "0   0      0      0      0     T     Y  Green   Triangle    Snake  Finland   \n",
       "1   1      0      1      0     T     Y  Green  Trapezoid  Hamster   Russia   \n",
       "2   2      0      0      0     F     Y   Blue  Trapezoid     Lion   Russia   \n",
       "3   3      0      1      0     F     Y    Red  Trapezoid    Snake   Canada   \n",
       "4   4      0      0      0     F     N    Red  Trapezoid     Lion   Canada   \n",
       "\n",
       "   ...      nom_9 ord_0        ord_1        ord_2 ord_3 ord_4  ord_5 day  \\\n",
       "0  ...  2f4cb3d51     2  Grandmaster         Cold     h     D     kr   2   \n",
       "1  ...  f83c56c21     1  Grandmaster          Hot     a     A     bF   7   \n",
       "2  ...  ae6800dd0     1       Expert     Lava Hot     h     R     Jc   7   \n",
       "3  ...  8270f0d71     1  Grandmaster  Boiling Hot     i     D     kW   2   \n",
       "4  ...  b164b72a7     1  Grandmaster     Freezing     a     R     qP   7   \n",
       "\n",
       "  month target  \n",
       "0     2      0  \n",
       "1     8      0  \n",
       "2     2      0  \n",
       "3     1      1  \n",
       "4     8      0  \n",
       "\n",
       "[5 rows x 25 columns]"
      ]
     },
     "execution_count": 5,
     "metadata": {},
     "output_type": "execute_result"
    }
   ],
   "source": [
    "df.head()"
   ]
  },
  {
   "cell_type": "code",
   "execution_count": 6,
   "metadata": {},
   "outputs": [
    {
     "data": {
      "text/plain": [
       "(300000, 25)"
      ]
     },
     "execution_count": 6,
     "metadata": {},
     "output_type": "execute_result"
    }
   ],
   "source": [
    "df.shape"
   ]
  },
  {
   "cell_type": "code",
   "execution_count": 7,
   "metadata": {},
   "outputs": [],
   "source": [
    "df = df.drop(\"id\", axis=1)"
   ]
  },
  {
   "cell_type": "code",
   "execution_count": 8,
   "metadata": {},
   "outputs": [],
   "source": [
    "df1 = df._get_numeric_data()"
   ]
  },
  {
   "cell_type": "code",
   "execution_count": 9,
   "metadata": {},
   "outputs": [],
   "source": [
    "df2 = df.select_dtypes(include='object')"
   ]
  },
  {
   "cell_type": "code",
   "execution_count": 10,
   "metadata": {},
   "outputs": [],
   "source": [
    "assert df.shape[1] == df1.shape[1] + df2.shape[1]"
   ]
  },
  {
   "cell_type": "code",
   "execution_count": 11,
   "metadata": {},
   "outputs": [
    {
     "data": {
      "text/plain": [
       "1220"
      ]
     },
     "execution_count": 11,
     "metadata": {},
     "output_type": "execute_result"
    }
   ],
   "source": [
    "len(df2[\"nom_7\"].unique())"
   ]
  },
  {
   "cell_type": "code",
   "execution_count": 12,
   "metadata": {},
   "outputs": [
    {
     "name": "stdout",
     "output_type": "stream",
     "text": [
      "bin_3 :  ['T' 'F']\n",
      "****************************************************************\n",
      "bin_4 :  ['Y' 'N']\n",
      "****************************************************************\n",
      "nom_0 :  ['Green' 'Blue' 'Red']\n",
      "****************************************************************\n",
      "nom_1 :  ['Triangle' 'Trapezoid' 'Polygon' 'Square' 'Star' 'Circle']\n",
      "****************************************************************\n",
      "nom_2 :  ['Snake' 'Hamster' 'Lion' 'Cat' 'Dog' 'Axolotl']\n",
      "****************************************************************\n",
      "nom_3 :  ['Finland' 'Russia' 'Canada' 'Costa Rica' 'China' 'India']\n",
      "****************************************************************\n",
      "nom_4 :  ['Bassoon' 'Piano' 'Theremin' 'Oboe']\n",
      "****************************************************************\n",
      "nom_5 :  ['50f116bcf' 'b3b4d25d0' '3263bdce5' 'f12246592' '5b0f5acd5' '46cab09da'\n",
      " 'be5592604' '72f8028dc' '4604905e7' 'ad95dc0ee' '2ff007c26' 'a35c346aa'\n",
      " 'dbfb714a4' 'e1558b071' '39647c92a' 'ee55b9d67' '416a8f3ab' '91bde92fa'\n",
      " '3aa9329e2' '568550f04' 'caf83c0b5' '908a1b9c9' 'e844a1f66' 'dbc448931'\n",
      " '2979f0d45' '96c73114c' 'b7bb45938' '7da3e4aec' 'be4578201' 'dc07effb0'\n",
      " '88917a066' 'f2d59cf51' '5d18641ff' '9347491f2' '475e79160' 'e70a6270d'\n",
      " '5b1a9f841' 'e0efe9d20' 'd1b1709e8' '9bb7ea2da' '6fec43dd8' '0dee9b39a'\n",
      " '527ded12a' '321bf770e' 'f7821e391' '0de4acd31' '185ba0a59' '4845cc770'\n",
      " 'bdb9fef4a' '3fef1a765' '2cc9e16b9' 'fd04a970f' '81f9d3312' '30a15b6bd'\n",
      " '8dcf8adfb' '83b38aa6b' '74bd42d5f' '5a94fc1d9' '4e1b529f6' '8d5d9f3db'\n",
      " '472efea17' '740fb99a9' '075ceb58b' '0ef5c1879' '640e1fdd5' 'a3f640358'\n",
      " 'c5725677e' '3b5632a0c' '534be2753' '30a530eab' '7ee26092e' 'c0534106d'\n",
      " '713ad10a7' '9ad6558d1' 'ef38568df' 'de04b8750' 'bd40c81f3' 'ade526ba7'\n",
      " '4e28ceffa' '1305d6e77' '3585ff84b' 'b0c8dba76' '33adb4760' '66669a44f'\n",
      " '9ba4e87a7' 'f50eb07ae' '29e7f8525' 'd9becff68' '159a7306f' 'a5c276589'\n",
      " '0870880f6' '92190168b' '5a466e166' 'e7d9ca356' 'd372c8993' 'b0faff28f'\n",
      " 'e5b29c42b' 'b97f51ac4' '778fdbe56' 'f0c1ceee4' '8266050c6' '6f70dc2df'\n",
      " '84b0081ad' '4464569ee' 'e85ec20b5' '91ea3e4dd' 'e6f45aa26' '488406659'\n",
      " '1e6cb96e8' 'f9d17bb93' '40e0157b1' 'e9f44a509' '493de6347' 'f8faea16f'\n",
      " '0eb46e992' '63f642dd9' '1f1702d2f' '71583d387' 'c2843dc45' '2e7f4d636'\n",
      " '6a2269152' '924346656' '6cd0619e0' '91a20b464' '3685a0904' '0de5598a9'\n",
      " '3aabfa2fc' '115a252ba' 'eb69430d6' '05950689f' '037bd73d8' '81264f81f'\n",
      " '19db35594' '005dd4ce3' '20b10a832' 'ddac78300' 'baab29d3d' 'bd7740b93'\n",
      " '524b3f349' '60a44c8f4' '8573fa81a' '35f65a9bf' '372f6d6ce' 'af088d192'\n",
      " 'e52fbf1c8' '49f4b29cc' 'a9ed6dfea' 'b8d451029' 'a3471b9d9' '06eeaf0aa'\n",
      " 'f6c524860' 'df51b96fc' '479fd7aea' 'dd500b26a' '7e9cb0f9a' 'db5e25328'\n",
      " '2d61990e2' '2cadfed8e' 'e428c040e' '4f7d91943' '88707c9ab' '76be0b8b1'\n",
      " '1bd1068d9' '0b3bec656' 'a51e7974e' '85159d577' '96c83ac09' '6c90f81cd'\n",
      " 'a93b89fc9' '0bdf8165a' 'da60580a8' 'f2a6d797b' '7741f57bd' '2a0e95ba1'\n",
      " 'ead12da87' 'e08092732' '176809a41' 'ca82ad111' '17a3709ae' '3271e5526'\n",
      " '4173a0252' '116f7e3e2' 'defc6dd20' 'e9c6fe0f7' '4f2b65e1e' '0870b0a5d'\n",
      " '552e3fdc9' '05d5943a3' '586b51342' '79923828f' '077fd9465' 'f9e5266f9'\n",
      " '6020a8124' '8cf6c9f74' '09a4ad97d' 'b4c8e6595' 'fa0a88fe9' '59e434d8a'\n",
      " '200009fc3' '59497d53c' '77b08badd' 'eb0004a0b' '34ad60330' '3283ca434'\n",
      " '2cac4af40' 'f802a9849' 'c08ba4f4c' '09ed0a686' '5f7065a42' 'a21564cab'\n",
      " '7a12c88d2' '82d1a6dbb' '9ecc58be1' 'd3079098d' '4ebe94c28' '448a66834'\n",
      " '46bd3558d' '91c80026f' '88f104c00' 'f710fca39' '5331f98fb' '1fd0233cd']\n",
      "****************************************************************\n",
      "nom_6 :  ['3ac1b8814' 'fbcb50fc1' '0922e3cb8' '50d7ad46a' '1fe17a1fd' '29a854620'\n",
      " '3393a0f78' '55eed5058' '3e44d44eb' '8ed6221ae' '153316f52' '6ea52a806'\n",
      " '1795ef28b' '628f3170f' '08b282a6c' '395941181' 'd44f7245a' '78500847e'\n",
      " '9448b8e3b' '9b1c3c8b7' 'be5a0f5a9' '687eaba3e' '5d7c5c023' '92f461454'\n",
      " 'cd8e3a0a7' 'f24d83141' '16dfb662a' 'cefab1020' '508ff88dc' '6d2cd10c5'\n",
      " 'ddb583aa3' '2eadb68c5' '854f72f28' '42b1cc2fd' 'fa2bf5f22' '8fec7bc42'\n",
      " 'fc4518443' 'bc82e0ba0' '1ad744242' '5cbbea089' '8fb440e53' 'af9278b96'\n",
      " '180a3d6cb' 'e10910468' '2ed5a94b0' '2a22b315e' '55a24a71b' 'c3517eaeb'\n",
      " 'cf82b283d' '0b10fcecc' 'a028c07af' 'd213f48ed' '5a5e620b3' 'c023e914a'\n",
      " '9f53d30ad' '2d9852300' '8cc791aa8' '54474e8d8' '36df19a6e' '0bcb379d8'\n",
      " '7dd3f58e9' '975346729' '96c110558' '8bb163a87' 'df5b440ae' 'd760c59b0'\n",
      " 'e3396fbd5' 'f497b97d7' 'd405aebc1' '6c0354890' '8c9d16cc3' '9e0a099c7'\n",
      " 'fac5eff9e' 'c9eedfbc2' '44e4c0bba' 'c8436c277' 'acf5b10dd' 'a405b7cf0'\n",
      " 'dfb9bd114' 'b69c236cb' 'b8caba53f' '126a4f83d' '2df6f79a2' '565a89e93'\n",
      " '29e27ff9d' '2268327b2' 'fb80a804f' 'a406a5f12' '3bac0bd8e' 'ea7a1aaf6'\n",
      " 'ec5064acb' 'f083d48ad' 'd4fd01769' 'fd9370b9e' 'a9925d0e5' '09e796196'\n",
      " '603232dea' 'd43e63dc9' '5194690a0' 'cf8b12b4e' 'dfb457d2a' 'a26bedd00'\n",
      " '3c5d81a52' '3b9693870' '96abdfa66' 'd88fca3ba' 'eeda68203' '487c32dfa'\n",
      " 'c135cdf77' 'd4d727716' '5755f93b2' '642fcc7be' '4c1bdbe7b' 'efa38c99d'\n",
      " '6d7f8c086' '7112aaf8e' 'e0664a4d3' 'aed51f2c9' '02d689659' '7d8bc814a'\n",
      " '70a942fc1' '2cd425e1f' '63d0e6105' 'e77244b50' '839a6bcdb' '18a901239'\n",
      " 'fc613f31d' '0e2f036b5' 'ae67aec36' 'f14fe8bc5' 'fc88900c4' 'fbbdfc611'\n",
      " '71c68195d' '718fd9453' 'c73e4dfe1' '20dc501c6' '89e65bb86' '21e2c2d57'\n",
      " '017eb57f0' 'dee9cf5e9' '9abb2ac1a' 'ec416c384' '0d50f61fd' '36282e811'\n",
      " '113deddc9' 'df184daf2' 'd166613dc' '8bd314488' '1abac47d0' 'fe0cddc2c'\n",
      " '5c4ee13e3' 'f461f837c' '24a1bea30' '498b2bdcb' 'ebd664cd6' 'e2559b9ab'\n",
      " 'b628a222c' 'dc0536549' '2bdc0a5d0' '5cabda141' 'b321e8ee3' '9218550d8'\n",
      " '29b650229' 'f0c4b23ef' '520806ce2' '4f849ad2d' 'e550bcc1b' '34256b89f'\n",
      " '309e105f1' '2f6efc190' 'df91d98af' '8bbe5580d' '3e41282ec' '77ad092c1'\n",
      " 'afebf0803' 'edb3cf6c8' '4e6cc8696' 'b5f4a755a' 'bb219c9ac' '1869e63b0'\n",
      " '32b4b12b1' 'ea64fbdeb' '40ac3fcd5' 'd9004c5c2' '4daee3baf' '9a16c7c8f'\n",
      " '9ceb19dd6' '063f4307d' '85885b27e' '27828c378' '7909ef46d' '8518cecf3'\n",
      " 'baef8ee7b' 'c103290d4' 'cae4fb7f2' '74e0be86d' '882ce2ad7' 'cebefe5b5'\n",
      " '0302f1ffc' '0b23e3352' 'c79a72c72' 'c75b3104a' 'e16557b2b' 'adfb4cba3'\n",
      " '01455237a' 'f36d9a851' '031d49dfc' 'cd225807c' 'c0f1061ee' 'dd1dbed78'\n",
      " '5786b10d7' 'b1faf70a1' 'f425b1c8c' '612641073' 'd76a148ab' 'c36cea1f7'\n",
      " '90ba6c9a6' 'b511f5bff' '6046454de' 'c06f1b9f7' '6f438920f' '6057ca561'\n",
      " 'b1c48d202' '65aae1692' '50e49ea04' 'db64717a3' 'db35bbdcb' '57aa15561'\n",
      " 'bf82c01fa' '5fa8beadb' 'e63f69ba1' '25d3a1087' '28b8e5350' 'ac8c42404'\n",
      " '9972df3b0' '2473094a9' 'c9a951efa' '32be571ee' '5b2d457f3' '9afd9530d'\n",
      " '86021cf04' 'a520e2537' '7e240024b' 'aed128d19' '66e2654cb' '0aeb8fe13'\n",
      " '43b8c397b' 'f134870d4' 'a6542cec0' '8fbaca82e' '4990652ec' '06835761e'\n",
      " 'b9f08dc06' '49bceb215' '97b6a3518' '28645754b' '338b8a987' '8817e18d1'\n",
      " '37868097a' '6c90b0073' 'fa3f6d36f' 'd6f8634af' '7f3c463a8' 'b300717cf'\n",
      " '35f33a8ca' '80b2270f0' 'bd47c2363' 'ad1b42856' '32db19124' 'e495d6f0f'\n",
      " 'd95501ac1' 'fa498a5ae' '2c7fb8434' '5fd7600de' '322121abf' '1ab5e5ad6'\n",
      " '1611d2b45' '4cb66e369' 'd70a70804' '51f28e64c' '6eaaa8418' 'eaaf53f6a'\n",
      " '418e9e936' '3c1c64eaa' '96d5497a4' 'd173ac7ca' '4cf47e292' 'f8c5dc0e0'\n",
      " 'd942d1e82' '1ea13ded7' '46c89ef8d' '966f4a973' '71534b2a8' 'f7e243b5d'\n",
      " 'ec97e8751' 'bc31d6a6d' 'dce959dcb' 'a19d81efe' '8082e0409' '4b967eac4'\n",
      " '11698a0b3' '70994b28a' 'cd2fa6d62' '15ea6e2bb' 'b48077cc4' '8f897ec3c'\n",
      " 'c5cf1fdc4' '73dd803d0' '2546024d1' 'a20513779' '67bb6c9d7' '3c2b12c56'\n",
      " '944239e54' 'b238965eb' 'b73a8ae77' '20636817e' 'd42f2b9ec' 'a566016d6'\n",
      " '126c2e512' 'fd2344f16' '945aa2bc5' '7d13ad097' 'bedc798e7' '81d59974c'\n",
      " 'a78e38dad' '339c0fa05' '23311af90' 'cd94f29d1' '708e87b0e' '12d88c9c3'\n",
      " 'ffc60be1c' 'd2ce6b1c7' '68dd873e4' '6a53b5f5c' '89a937a9f' '78acf1908'\n",
      " '1c34a67d7' '51d5f02c1' '985c40910' 'b83511180' '54efb1985' '788ba7aea'\n",
      " '51477cd88' '19505136a' '309707034' 'beb20ea99' 'e7a7bf2e1' 'cad70d692'\n",
      " '116d9fcd9' '8fd64cb59' '5fc007fd3' '95572215a' '987d29cca' '162fc2192'\n",
      " '7a8736321' '8a34317cb' 'e4d51bdd5' '2936160c7' '67721d105' '097ff91b3'\n",
      " '79a82b7c0' 'c3c8b7b13' 'd83ae1b30' '74e5a0bce' '4fa3092a4' '860bb37b4'\n",
      " '5d47a598c' 'eaa89fbcc' '231233ca9' '2837cf7b8' 'e7073f6a2' '1b36c0b8c'\n",
      " '5ff2c0a8c' '73d7ca889' '5a49dd8f6' '43744dfd9' 'b2480a857' '485fc6466'\n",
      " '705cb7579' '077e720aa' '8d1b72979' '27e7dbafa' 'cbb210c0a' '9a70de492'\n",
      " '91e1a9d16' 'aee98fa47' '0ed70b7b1' 'd5febb6ef' '1537295c3' 'f64fe5bc0'\n",
      " 'e19cd8107' '800577110' '7185a30dc' '3c7643929' '49d1a98ef' '1573e6c5f'\n",
      " 'b3e59b54a' '0958071b5' 'd086fd85e' '3aa0689eb' 'd2c8f2916' 'fc791ebea'\n",
      " 'b639793f9' '944531331' 'd9e884466' 'c7201df85' '3ae0ef9f1' '0ef3dda96'\n",
      " '21cb526c2' '1e5e03a86' 'd9e131846' '5f57e7d4f' '8ad083b20' '4abed74f5'\n",
      " '8c8aa1d64' 'ac3e34eff' '19231be54' 'd804d7926' '803f6cece' 'd7fb439cc'\n",
      " 'ed8157b96' '1f2e3f148' '1c7f1ab58' '0249d8675' '144279ac1' '3afd0489b'\n",
      " 'ef1f6146b' 'fe77c71bd' 'bbc311f15' '9fbd66490' '4c6d8f959' '83f07ed50'\n",
      " '163b28322' 'fb1301ef6' '214f24d39' '2c4223dbd' 'f17881964' '3e6a88574'\n",
      " '145d17afb' '8584a02f4' '6c1a5aab7' '40994d768' '527a42dc2' 'bea839b58'\n",
      " 'e866d44ea' 'a148d86df' '310b1a988' '3e2b4aac9' '9a20c66da' '09f69436c'\n",
      " '78e45cd66' '3fe2d05f7' '5e881b059' '2119a6f87' 'd9025a066' '4c183f1ef'\n",
      " '292dea6ab' 'f53d92c1a' 'c0e4c4487' '7cb06ca3c' '99fffb9e9' '1f40b9ca8'\n",
      " 'b8cf041db' '9882f1fa0' 'cc8755307' '95a263224' 'eba84389c' '39981f199'\n",
      " '7322ea1c9' '907d87214' '75645dad3' '2ae2bd37c' 'd39b176b6' '329124d64'\n",
      " 'ae49fec17' 'ec93484e7' 'baf172f58' '989a51202' '435fd233e' 'b2c93e83d'\n",
      " '4d5fc69ae' 'b3f15d742' 'cfc8d0828' 'fc88d723d' 'a9b4474f4' 'e78ce8c35'\n",
      " '9d6fa150a' '0000ee65f' '00e9c15b8' 'f81cde28d' '76ef650e6' '437d8df71'\n",
      " 'b436c2568' '9a92bb693' 'fe0b55cd2' '70a040495' '0b17eaec7' 'ce528707a'\n",
      " '77ab97a87' '906c833b2' '782664588' 'e97824431' 'b7c276ed2' '7433a98da'\n",
      " '2d8a0cf5a' '576b27b37' 'b7d62cb4e' '0516fa0d8' '7cd1571c9' '17e0c4fa9'\n",
      " 'f4689e520' '556aa5d7a' '062cd9a70' '9c5ea36f8' '3fe8e9cba' '1ff467489'\n",
      " '82f75f00e' '27179d6e5' '8367b78fc' '28630a5c8' '26bf5ddd9' '4dcab4fc8']\n",
      "****************************************************************\n",
      "nom_7 :  ['68f6ad3e9' '3b6dd5612' 'a6a36f527' ... '7aaa810eb' '74a1b69b1'\n",
      " '3460d7c4b']\n",
      "****************************************************************\n",
      "nom_8 :  ['c389000ab' '4cd920251' 'de9c9f684' ... '5361d3b53' 'e4d784581'\n",
      " '44f729e5a']\n",
      "****************************************************************\n",
      "nom_9 :  ['2f4cb3d51' 'f83c56c21' 'ae6800dd0' ... 'c9751f01d' '3b51e3e0d'\n",
      " 'e05e4c676']\n",
      "****************************************************************\n",
      "ord_1 :  ['Grandmaster' 'Expert' 'Novice' 'Contributor' 'Master']\n",
      "****************************************************************\n",
      "ord_2 :  ['Cold' 'Hot' 'Lava Hot' 'Boiling Hot' 'Freezing' 'Warm']\n",
      "****************************************************************\n",
      "ord_3 :  ['h' 'a' 'i' 'j' 'g' 'e' 'd' 'b' 'k' 'f' 'l' 'n' 'o' 'c' 'm']\n",
      "****************************************************************\n",
      "ord_4 :  ['D' 'A' 'R' 'E' 'P' 'K' 'V' 'Q' 'Z' 'L' 'F' 'T' 'U' 'S' 'Y' 'B' 'H' 'J'\n",
      " 'N' 'G' 'W' 'I' 'O' 'C' 'X' 'M']\n",
      "****************************************************************\n",
      "ord_5 :  ['kr' 'bF' 'Jc' 'kW' 'qP' 'PZ' 'wy' 'Ed' 'qo' 'CZ' 'qX' 'su' 'dP' 'aP'\n",
      " 'MV' 'oC' 'RL' 'fh' 'gJ' 'Hj' 'TR' 'CL' 'Sc' 'eQ' 'kC' 'qK' 'dh' 'gM'\n",
      " 'Jf' 'fO' 'Eg' 'KZ' 'Vx' 'Fo' 'sV' 'eb' 'YC' 'RG' 'Ye' 'qA' 'lL' 'Qh'\n",
      " 'Bd' 'be' 'hT' 'lF' 'nX' 'kK' 'av' 'uS' 'Jt' 'PA' 'Er' 'Qb' 'od' 'ut'\n",
      " 'Dx' 'Xi' 'on' 'Dc' 'sD' 'rZ' 'Uu' 'sn' 'yc' 'Gb' 'Kq' 'dQ' 'hp' 'kL'\n",
      " 'je' 'CU' 'Fd' 'PQ' 'Bn' 'ex' 'hh' 'ac' 'rp' 'dE' 'oG' 'oK' 'cp' 'mm'\n",
      " 'vK' 'ek' 'dO' 'XI' 'CM' 'Vf' 'aO' 'qv' 'jp' 'Zq' 'Qo' 'DN' 'TZ' 'ke'\n",
      " 'cG' 'tP' 'ud' 'tv' 'aM' 'xy' 'lx' 'To' 'uy' 'ZS' 'vy' 'ZR' 'AP' 'GJ'\n",
      " 'Wv' 'ri' 'qw' 'Xh' 'FI' 'nh' 'KR' 'dB' 'BE' 'Bb' 'mc' 'MC' 'tM' 'NV'\n",
      " 'ih' 'IK' 'Ob' 'RP' 'dN' 'us' 'dZ' 'yN' 'Nf' 'QM' 'jV' 'sY' 'wu' 'SB'\n",
      " 'UO' 'Mx' 'JX' 'Ry' 'Uk' 'uJ' 'LE' 'ps' 'kE' 'MO' 'kw' 'yY' 'zU' 'bJ'\n",
      " 'Kf' 'ck' 'mb' 'Os' 'Ps' 'Ml' 'Ai' 'Wc' 'GD' 'll' 'aF' 'iT' 'cA' 'WE'\n",
      " 'Gx' 'Nk' 'OR' 'Rm' 'BA' 'eG' 'cW' 'jS' 'DH' 'hL' 'Mf' 'Yb' 'Aj' 'oH'\n",
      " 'Zc' 'qJ' 'eg' 'xP' 'vq' 'Id' 'pa' 'ux' 'kU' 'Cl']\n",
      "****************************************************************\n"
     ]
    }
   ],
   "source": [
    "for col in df2.columns:\n",
    "    print(col, \": \", df2[col].unique())\n",
    "    print(\"****************************************************************\")"
   ]
  },
  {
   "cell_type": "code",
   "execution_count": 13,
   "metadata": {},
   "outputs": [
    {
     "data": {
      "text/plain": [
       "21727636431"
      ]
     },
     "execution_count": 13,
     "metadata": {},
     "output_type": "execute_result"
    }
   ],
   "source": [
    "int(\"50f116bcf\", 16)"
   ]
  },
  {
   "cell_type": "code",
   "execution_count": 14,
   "metadata": {},
   "outputs": [
    {
     "data": {
      "text/plain": [
       "['nom_5', 'nom_6', 'nom_7', 'nom_8', 'nom_9']"
      ]
     },
     "execution_count": 14,
     "metadata": {},
     "output_type": "execute_result"
    }
   ],
   "source": [
    "cols = [\"nom_{}\".format(i) for i in range(5, 10)]\n",
    "#df2[df2.columns[df2.columns.str.contains(\"nom_\")]]\n",
    "cols"
   ]
  },
  {
   "cell_type": "code",
   "execution_count": 15,
   "metadata": {},
   "outputs": [
    {
     "name": "stderr",
     "output_type": "stream",
     "text": [
      "/home/ryosuke/miniconda3/envs/myanaconda/lib/python3.7/site-packages/ipykernel_launcher.py:2: SettingWithCopyWarning: \n",
      "A value is trying to be set on a copy of a slice from a DataFrame.\n",
      "Try using .loc[row_indexer,col_indexer] = value instead\n",
      "\n",
      "See the caveats in the documentation: http://pandas.pydata.org/pandas-docs/stable/user_guide/indexing.html#returning-a-view-versus-a-copy\n",
      "  \n"
     ]
    }
   ],
   "source": [
    "for col in cols:\n",
    "    df2[col] = df2[col].apply(lambda x: int(x, 16))"
   ]
  },
  {
   "cell_type": "code",
   "execution_count": 16,
   "metadata": {},
   "outputs": [
    {
     "data": {
      "text/plain": [
       "'\\nres = []\\nfor col in cols:\\n    res.extend(list(df2[col].unique()))\\n\\nmysnom = list(set(res))\\n\\nle = LabelEncoder()\\nle.fit(mysnom)\\n\\nfor col in cols:\\n    df2[col] = le.transform(df2[col])\\n'"
      ]
     },
     "execution_count": 16,
     "metadata": {},
     "output_type": "execute_result"
    }
   ],
   "source": [
    "'''\n",
    "res = []\n",
    "for col in cols:\n",
    "    res.extend(list(df2[col].unique()))\n",
    "\n",
    "mysnom = list(set(res))\n",
    "\n",
    "le = LabelEncoder()\n",
    "le.fit(mysnom)\n",
    "\n",
    "for col in cols:\n",
    "    df2[col] = le.transform(df2[col])\n",
    "'''"
   ]
  },
  {
   "cell_type": "code",
   "execution_count": 17,
   "metadata": {},
   "outputs": [
    {
     "data": {
      "text/html": [
       "<div>\n",
       "<style scoped>\n",
       "    .dataframe tbody tr th:only-of-type {\n",
       "        vertical-align: middle;\n",
       "    }\n",
       "\n",
       "    .dataframe tbody tr th {\n",
       "        vertical-align: top;\n",
       "    }\n",
       "\n",
       "    .dataframe thead th {\n",
       "        text-align: right;\n",
       "    }\n",
       "</style>\n",
       "<table border=\"1\" class=\"dataframe\">\n",
       "  <thead>\n",
       "    <tr style=\"text-align: right;\">\n",
       "      <th></th>\n",
       "      <th>nom_5</th>\n",
       "      <th>nom_6</th>\n",
       "      <th>nom_7</th>\n",
       "      <th>nom_8</th>\n",
       "      <th>nom_9</th>\n",
       "    </tr>\n",
       "  </thead>\n",
       "  <tbody>\n",
       "    <tr>\n",
       "      <td>nom_5</td>\n",
       "      <td>1.000000</td>\n",
       "      <td>0.001116</td>\n",
       "      <td>0.002611</td>\n",
       "      <td>-0.001691</td>\n",
       "      <td>-0.001141</td>\n",
       "    </tr>\n",
       "    <tr>\n",
       "      <td>nom_6</td>\n",
       "      <td>0.001116</td>\n",
       "      <td>1.000000</td>\n",
       "      <td>-0.000597</td>\n",
       "      <td>-0.000699</td>\n",
       "      <td>-0.004329</td>\n",
       "    </tr>\n",
       "    <tr>\n",
       "      <td>nom_7</td>\n",
       "      <td>0.002611</td>\n",
       "      <td>-0.000597</td>\n",
       "      <td>1.000000</td>\n",
       "      <td>-0.000572</td>\n",
       "      <td>-0.000198</td>\n",
       "    </tr>\n",
       "    <tr>\n",
       "      <td>nom_8</td>\n",
       "      <td>-0.001691</td>\n",
       "      <td>-0.000699</td>\n",
       "      <td>-0.000572</td>\n",
       "      <td>1.000000</td>\n",
       "      <td>-0.000882</td>\n",
       "    </tr>\n",
       "    <tr>\n",
       "      <td>nom_9</td>\n",
       "      <td>-0.001141</td>\n",
       "      <td>-0.004329</td>\n",
       "      <td>-0.000198</td>\n",
       "      <td>-0.000882</td>\n",
       "      <td>1.000000</td>\n",
       "    </tr>\n",
       "  </tbody>\n",
       "</table>\n",
       "</div>"
      ],
      "text/plain": [
       "          nom_5     nom_6     nom_7     nom_8     nom_9\n",
       "nom_5  1.000000  0.001116  0.002611 -0.001691 -0.001141\n",
       "nom_6  0.001116  1.000000 -0.000597 -0.000699 -0.004329\n",
       "nom_7  0.002611 -0.000597  1.000000 -0.000572 -0.000198\n",
       "nom_8 -0.001691 -0.000699 -0.000572  1.000000 -0.000882\n",
       "nom_9 -0.001141 -0.004329 -0.000198 -0.000882  1.000000"
      ]
     },
     "execution_count": 17,
     "metadata": {},
     "output_type": "execute_result"
    }
   ],
   "source": [
    "df2[cols].corr()"
   ]
  },
  {
   "cell_type": "code",
   "execution_count": 18,
   "metadata": {},
   "outputs": [
    {
     "data": {
      "image/png": "[encoded data removed]",
      "text/plain": [
       "<Figure size 288x288 with 1 Axes>"
      ]
     },
     "metadata": {
      "needs_background": "light"
     },
     "output_type": "display_data"
    }
   ],
   "source": [
    "plt.matshow(df2[cols].corr())\n",
    "plt.show()"
   ]
  },
  {
   "cell_type": "code",
   "execution_count": 19,
   "metadata": {},
   "outputs": [
    {
     "data": {
      "text/html": [
       "<div>\n",
       "<style scoped>\n",
       "    .dataframe tbody tr th:only-of-type {\n",
       "        vertical-align: middle;\n",
       "    }\n",
       "\n",
       "    .dataframe tbody tr th {\n",
       "        vertical-align: top;\n",
       "    }\n",
       "\n",
       "    .dataframe thead th {\n",
       "        text-align: right;\n",
       "    }\n",
       "</style>\n",
       "<table border=\"1\" class=\"dataframe\">\n",
       "  <thead>\n",
       "    <tr style=\"text-align: right;\">\n",
       "      <th></th>\n",
       "      <th>bin_3</th>\n",
       "      <th>bin_4</th>\n",
       "      <th>nom_0</th>\n",
       "      <th>nom_1</th>\n",
       "      <th>nom_2</th>\n",
       "      <th>nom_3</th>\n",
       "      <th>nom_4</th>\n",
       "      <th>nom_5</th>\n",
       "      <th>nom_6</th>\n",
       "      <th>nom_7</th>\n",
       "      <th>nom_8</th>\n",
       "      <th>nom_9</th>\n",
       "      <th>ord_1</th>\n",
       "      <th>ord_2</th>\n",
       "      <th>ord_3</th>\n",
       "      <th>ord_4</th>\n",
       "      <th>ord_5</th>\n",
       "    </tr>\n",
       "  </thead>\n",
       "  <tbody>\n",
       "    <tr>\n",
       "      <td>0</td>\n",
       "      <td>T</td>\n",
       "      <td>Y</td>\n",
       "      <td>Green</td>\n",
       "      <td>Triangle</td>\n",
       "      <td>Snake</td>\n",
       "      <td>Finland</td>\n",
       "      <td>Bassoon</td>\n",
       "      <td>21727636431</td>\n",
       "      <td>15772387348</td>\n",
       "      <td>28175946729</td>\n",
       "      <td>52488569003</td>\n",
       "      <td>12696894801</td>\n",
       "      <td>Grandmaster</td>\n",
       "      <td>Cold</td>\n",
       "      <td>h</td>\n",
       "      <td>D</td>\n",
       "      <td>kr</td>\n",
       "    </tr>\n",
       "    <tr>\n",
       "      <td>1</td>\n",
       "      <td>T</td>\n",
       "      <td>Y</td>\n",
       "      <td>Green</td>\n",
       "      <td>Trapezoid</td>\n",
       "      <td>Hamster</td>\n",
       "      <td>Russia</td>\n",
       "      <td>Piano</td>\n",
       "      <td>48239551952</td>\n",
       "      <td>67590492097</td>\n",
       "      <td>15952860690</td>\n",
       "      <td>20628767313</td>\n",
       "      <td>66635263009</td>\n",
       "      <td>Grandmaster</td>\n",
       "      <td>Hot</td>\n",
       "      <td>a</td>\n",
       "      <td>A</td>\n",
       "      <td>bF</td>\n",
       "    </tr>\n",
       "    <tr>\n",
       "      <td>2</td>\n",
       "      <td>F</td>\n",
       "      <td>Y</td>\n",
       "      <td>Blue</td>\n",
       "      <td>Trapezoid</td>\n",
       "      <td>Lion</td>\n",
       "      <td>Russia</td>\n",
       "      <td>Theremin</td>\n",
       "      <td>13526359269</td>\n",
       "      <td>2452503736</td>\n",
       "      <td>44731659559</td>\n",
       "      <td>59756902020</td>\n",
       "      <td>46816824784</td>\n",
       "      <td>Expert</td>\n",
       "      <td>Lava Hot</td>\n",
       "      <td>h</td>\n",
       "      <td>R</td>\n",
       "      <td>Jc</td>\n",
       "    </tr>\n",
       "    <tr>\n",
       "      <td>3</td>\n",
       "      <td>F</td>\n",
       "      <td>Y</td>\n",
       "      <td>Red</td>\n",
       "      <td>Trapezoid</td>\n",
       "      <td>Snake</td>\n",
       "      <td>Canada</td>\n",
       "      <td>Oboe</td>\n",
       "      <td>64728884626</td>\n",
       "      <td>21700990058</td>\n",
       "      <td>63461013227</td>\n",
       "      <td>20097444713</td>\n",
       "      <td>35015036273</td>\n",
       "      <td>Grandmaster</td>\n",
       "      <td>Boiling Hot</td>\n",
       "      <td>i</td>\n",
       "      <td>D</td>\n",
       "      <td>kW</td>\n",
       "    </tr>\n",
       "    <tr>\n",
       "      <td>4</td>\n",
       "      <td>F</td>\n",
       "      <td>N</td>\n",
       "      <td>Red</td>\n",
       "      <td>Trapezoid</td>\n",
       "      <td>Lion</td>\n",
       "      <td>Canada</td>\n",
       "      <td>Oboe</td>\n",
       "      <td>24443727061</td>\n",
       "      <td>8557928957</td>\n",
       "      <td>1306182334</td>\n",
       "      <td>54563352949</td>\n",
       "      <td>47618683559</td>\n",
       "      <td>Grandmaster</td>\n",
       "      <td>Freezing</td>\n",
       "      <td>a</td>\n",
       "      <td>R</td>\n",
       "      <td>qP</td>\n",
       "    </tr>\n",
       "    <tr>\n",
       "      <td>...</td>\n",
       "      <td>...</td>\n",
       "      <td>...</td>\n",
       "      <td>...</td>\n",
       "      <td>...</td>\n",
       "      <td>...</td>\n",
       "      <td>...</td>\n",
       "      <td>...</td>\n",
       "      <td>...</td>\n",
       "      <td>...</td>\n",
       "      <td>...</td>\n",
       "      <td>...</td>\n",
       "      <td>...</td>\n",
       "      <td>...</td>\n",
       "      <td>...</td>\n",
       "      <td>...</td>\n",
       "      <td>...</td>\n",
       "      <td>...</td>\n",
       "    </tr>\n",
       "    <tr>\n",
       "      <td>299995</td>\n",
       "      <td>T</td>\n",
       "      <td>N</td>\n",
       "      <td>Red</td>\n",
       "      <td>Trapezoid</td>\n",
       "      <td>Snake</td>\n",
       "      <td>India</td>\n",
       "      <td>Oboe</td>\n",
       "      <td>14485399999</td>\n",
       "      <td>32358693610</td>\n",
       "      <td>36147448992</td>\n",
       "      <td>31416340209</td>\n",
       "      <td>60171349231</td>\n",
       "      <td>Contributor</td>\n",
       "      <td>Freezing</td>\n",
       "      <td>k</td>\n",
       "      <td>K</td>\n",
       "      <td>dh</td>\n",
       "    </tr>\n",
       "    <tr>\n",
       "      <td>299996</td>\n",
       "      <td>F</td>\n",
       "      <td>Y</td>\n",
       "      <td>Green</td>\n",
       "      <td>Trapezoid</td>\n",
       "      <td>Lion</td>\n",
       "      <td>Russia</td>\n",
       "      <td>Piano</td>\n",
       "      <td>19108194839</td>\n",
       "      <td>15995582576</td>\n",
       "      <td>52686091432</td>\n",
       "      <td>15432745588</td>\n",
       "      <td>34612711880</td>\n",
       "      <td>Novice</td>\n",
       "      <td>Freezing</td>\n",
       "      <td>h</td>\n",
       "      <td>W</td>\n",
       "      <td>MO</td>\n",
       "    </tr>\n",
       "    <tr>\n",
       "      <td>299997</td>\n",
       "      <td>F</td>\n",
       "      <td>Y</td>\n",
       "      <td>Blue</td>\n",
       "      <td>Star</td>\n",
       "      <td>Axolotl</td>\n",
       "      <td>Russia</td>\n",
       "      <td>Oboe</td>\n",
       "      <td>3739857818</td>\n",
       "      <td>25843487966</td>\n",
       "      <td>50089431811</td>\n",
       "      <td>25090355027</td>\n",
       "      <td>13234913627</td>\n",
       "      <td>Novice</td>\n",
       "      <td>Boiling Hot</td>\n",
       "      <td>o</td>\n",
       "      <td>A</td>\n",
       "      <td>Bn</td>\n",
       "    </tr>\n",
       "    <tr>\n",
       "      <td>299998</td>\n",
       "      <td>F</td>\n",
       "      <td>Y</td>\n",
       "      <td>Green</td>\n",
       "      <td>Square</td>\n",
       "      <td>Axolotl</td>\n",
       "      <td>Costa Rica</td>\n",
       "      <td>Piano</td>\n",
       "      <td>60487676017</td>\n",
       "      <td>976479</td>\n",
       "      <td>53869865492</td>\n",
       "      <td>8457865166</td>\n",
       "      <td>45915969835</td>\n",
       "      <td>Master</td>\n",
       "      <td>Boiling Hot</td>\n",
       "      <td>h</td>\n",
       "      <td>W</td>\n",
       "      <td>uJ</td>\n",
       "    </tr>\n",
       "    <tr>\n",
       "      <td>299999</td>\n",
       "      <td>F</td>\n",
       "      <td>Y</td>\n",
       "      <td>Blue</td>\n",
       "      <td>Trapezoid</td>\n",
       "      <td>Dog</td>\n",
       "      <td>Russia</td>\n",
       "      <td>Bassoon</td>\n",
       "      <td>17560040363</td>\n",
       "      <td>37878180217</td>\n",
       "      <td>51661175616</td>\n",
       "      <td>51872263135</td>\n",
       "      <td>46467590981</td>\n",
       "      <td>Contributor</td>\n",
       "      <td>Freezing</td>\n",
       "      <td>i</td>\n",
       "      <td>R</td>\n",
       "      <td>tP</td>\n",
       "    </tr>\n",
       "  </tbody>\n",
       "</table>\n",
       "<p>300000 rows × 17 columns</p>\n",
       "</div>"
      ],
      "text/plain": [
       "       bin_3 bin_4  nom_0      nom_1    nom_2       nom_3     nom_4  \\\n",
       "0          T     Y  Green   Triangle    Snake     Finland   Bassoon   \n",
       "1          T     Y  Green  Trapezoid  Hamster      Russia     Piano   \n",
       "2          F     Y   Blue  Trapezoid     Lion      Russia  Theremin   \n",
       "3          F     Y    Red  Trapezoid    Snake      Canada      Oboe   \n",
       "4          F     N    Red  Trapezoid     Lion      Canada      Oboe   \n",
       "...      ...   ...    ...        ...      ...         ...       ...   \n",
       "299995     T     N    Red  Trapezoid    Snake       India      Oboe   \n",
       "299996     F     Y  Green  Trapezoid     Lion      Russia     Piano   \n",
       "299997     F     Y   Blue       Star  Axolotl      Russia      Oboe   \n",
       "299998     F     Y  Green     Square  Axolotl  Costa Rica     Piano   \n",
       "299999     F     Y   Blue  Trapezoid      Dog      Russia   Bassoon   \n",
       "\n",
       "              nom_5        nom_6        nom_7        nom_8        nom_9  \\\n",
       "0       21727636431  15772387348  28175946729  52488569003  12696894801   \n",
       "1       48239551952  67590492097  15952860690  20628767313  66635263009   \n",
       "2       13526359269   2452503736  44731659559  59756902020  46816824784   \n",
       "3       64728884626  21700990058  63461013227  20097444713  35015036273   \n",
       "4       24443727061   8557928957   1306182334  54563352949  47618683559   \n",
       "...             ...          ...          ...          ...          ...   \n",
       "299995  14485399999  32358693610  36147448992  31416340209  60171349231   \n",
       "299996  19108194839  15995582576  52686091432  15432745588  34612711880   \n",
       "299997   3739857818  25843487966  50089431811  25090355027  13234913627   \n",
       "299998  60487676017       976479  53869865492   8457865166  45915969835   \n",
       "299999  17560040363  37878180217  51661175616  51872263135  46467590981   \n",
       "\n",
       "              ord_1        ord_2 ord_3 ord_4 ord_5  \n",
       "0       Grandmaster         Cold     h     D    kr  \n",
       "1       Grandmaster          Hot     a     A    bF  \n",
       "2            Expert     Lava Hot     h     R    Jc  \n",
       "3       Grandmaster  Boiling Hot     i     D    kW  \n",
       "4       Grandmaster     Freezing     a     R    qP  \n",
       "...             ...          ...   ...   ...   ...  \n",
       "299995  Contributor     Freezing     k     K    dh  \n",
       "299996       Novice     Freezing     h     W    MO  \n",
       "299997       Novice  Boiling Hot     o     A    Bn  \n",
       "299998       Master  Boiling Hot     h     W    uJ  \n",
       "299999  Contributor     Freezing     i     R    tP  \n",
       "\n",
       "[300000 rows x 17 columns]"
      ]
     },
     "execution_count": 19,
     "metadata": {},
     "output_type": "execute_result"
    }
   ],
   "source": [
    "df2"
   ]
  },
  {
   "cell_type": "code",
   "execution_count": 20,
   "metadata": {},
   "outputs": [
    {
     "data": {
      "text/plain": [
       "['nom_0', 'nom_1', 'nom_2', 'nom_3', 'nom_4']"
      ]
     },
     "execution_count": 20,
     "metadata": {},
     "output_type": "execute_result"
    }
   ],
   "source": [
    "cols = [\"nom_{}\".format(i) for i in range(0, 5)]\n",
    "#df2[df2.columns[df2.columns.str.contains(\"nom_\")]]\n",
    "cols"
   ]
  },
  {
   "cell_type": "code",
   "execution_count": 21,
   "metadata": {},
   "outputs": [
    {
     "name": "stderr",
     "output_type": "stream",
     "text": [
      "/home/ryosuke/miniconda3/envs/myanaconda/lib/python3.7/site-packages/ipykernel_launcher.py:4: SettingWithCopyWarning: \n",
      "A value is trying to be set on a copy of a slice from a DataFrame.\n",
      "Try using .loc[row_indexer,col_indexer] = value instead\n",
      "\n",
      "See the caveats in the documentation: http://pandas.pydata.org/pandas-docs/stable/user_guide/indexing.html#returning-a-view-versus-a-copy\n",
      "  after removing the cwd from sys.path.\n"
     ]
    }
   ],
   "source": [
    "for col in cols:\n",
    "    le = LabelEncoder()\n",
    "    le.fit(df2[col])\n",
    "    df2[col] = le.transform(df2[col])\n",
    "#pd.factorize(df2[\"nom_5\"])"
   ]
  },
  {
   "cell_type": "code",
   "execution_count": 22,
   "metadata": {},
   "outputs": [
    {
     "name": "stderr",
     "output_type": "stream",
     "text": [
      "/home/ryosuke/miniconda3/envs/myanaconda/lib/python3.7/site-packages/ipykernel_launcher.py:5: SettingWithCopyWarning: \n",
      "A value is trying to be set on a copy of a slice from a DataFrame.\n",
      "Try using .loc[row_indexer,col_indexer] = value instead\n",
      "\n",
      "See the caveats in the documentation: http://pandas.pydata.org/pandas-docs/stable/user_guide/indexing.html#returning-a-view-versus-a-copy\n",
      "  \"\"\"\n"
     ]
    }
   ],
   "source": [
    "for col in df2.columns:\n",
    "    if col.startswith(\"bin_\"):\n",
    "        le = LabelEncoder()\n",
    "        le.fit(df2[col])\n",
    "        df2[col] = le.transform(df2[col])"
   ]
  },
  {
   "cell_type": "code",
   "execution_count": 23,
   "metadata": {},
   "outputs": [
    {
     "name": "stderr",
     "output_type": "stream",
     "text": [
      "/home/ryosuke/miniconda3/envs/myanaconda/lib/python3.7/site-packages/ipykernel_launcher.py:1: SettingWithCopyWarning: \n",
      "A value is trying to be set on a copy of a slice from a DataFrame.\n",
      "Try using .loc[row_indexer,col_indexer] = value instead\n",
      "\n",
      "See the caveats in the documentation: http://pandas.pydata.org/pandas-docs/stable/user_guide/indexing.html#returning-a-view-versus-a-copy\n",
      "  \"\"\"Entry point for launching an IPython kernel.\n"
     ]
    }
   ],
   "source": [
    "df2[\"ord_1\"] = df2[\"ord_1\"].map({\"Novice\":0, \"Contributor\":1, \"Expert\":2, \"Master\":3, \"Grandmaster\":4})"
   ]
  },
  {
   "cell_type": "code",
   "execution_count": 24,
   "metadata": {},
   "outputs": [
    {
     "data": {
      "text/plain": [
       "array(['Cold', 'Hot', 'Lava Hot', 'Boiling Hot', 'Freezing', 'Warm'],\n",
       "      dtype=object)"
      ]
     },
     "execution_count": 24,
     "metadata": {},
     "output_type": "execute_result"
    }
   ],
   "source": [
    "df2[\"ord_2\"].unique()"
   ]
  },
  {
   "cell_type": "code",
   "execution_count": 25,
   "metadata": {},
   "outputs": [
    {
     "name": "stderr",
     "output_type": "stream",
     "text": [
      "/home/ryosuke/miniconda3/envs/myanaconda/lib/python3.7/site-packages/ipykernel_launcher.py:1: SettingWithCopyWarning: \n",
      "A value is trying to be set on a copy of a slice from a DataFrame.\n",
      "Try using .loc[row_indexer,col_indexer] = value instead\n",
      "\n",
      "See the caveats in the documentation: http://pandas.pydata.org/pandas-docs/stable/user_guide/indexing.html#returning-a-view-versus-a-copy\n",
      "  \"\"\"Entry point for launching an IPython kernel.\n"
     ]
    }
   ],
   "source": [
    "df2[\"ord_2\"] = df2[\"ord_2\"].map({\"Freezing\":0, \"Cold\":1, \"Warm\":2, \"Hot\":3, \"Boiling Hot\":4, \"Lava Hot\":5})"
   ]
  },
  {
   "cell_type": "code",
   "execution_count": 26,
   "metadata": {},
   "outputs": [
    {
     "name": "stderr",
     "output_type": "stream",
     "text": [
      "/home/ryosuke/miniconda3/envs/myanaconda/lib/python3.7/site-packages/ipykernel_launcher.py:1: SettingWithCopyWarning: \n",
      "A value is trying to be set on a copy of a slice from a DataFrame.\n",
      "Try using .loc[row_indexer,col_indexer] = value instead\n",
      "\n",
      "See the caveats in the documentation: http://pandas.pydata.org/pandas-docs/stable/user_guide/indexing.html#returning-a-view-versus-a-copy\n",
      "  \"\"\"Entry point for launching an IPython kernel.\n"
     ]
    }
   ],
   "source": [
    "df2[\"ord_3\"] = df2[\"ord_3\"].map({k:v for v,k in enumerate(list(string.ascii_lowercase))})"
   ]
  },
  {
   "cell_type": "code",
   "execution_count": 27,
   "metadata": {},
   "outputs": [
    {
     "name": "stderr",
     "output_type": "stream",
     "text": [
      "/home/ryosuke/miniconda3/envs/myanaconda/lib/python3.7/site-packages/ipykernel_launcher.py:1: SettingWithCopyWarning: \n",
      "A value is trying to be set on a copy of a slice from a DataFrame.\n",
      "Try using .loc[row_indexer,col_indexer] = value instead\n",
      "\n",
      "See the caveats in the documentation: http://pandas.pydata.org/pandas-docs/stable/user_guide/indexing.html#returning-a-view-versus-a-copy\n",
      "  \"\"\"Entry point for launching an IPython kernel.\n"
     ]
    }
   ],
   "source": [
    "df2[\"ord_4\"] = df2[\"ord_4\"].map({k:v for v,k in enumerate(list(string.ascii_uppercase))})"
   ]
  },
  {
   "cell_type": "code",
   "execution_count": 28,
   "metadata": {},
   "outputs": [],
   "source": [
    "list1 = list(string.ascii_lowercase)"
   ]
  },
  {
   "cell_type": "code",
   "execution_count": 29,
   "metadata": {},
   "outputs": [],
   "source": [
    "list2 = list(string.ascii_uppercase)"
   ]
  },
  {
   "cell_type": "code",
   "execution_count": 30,
   "metadata": {},
   "outputs": [],
   "source": [
    "list1.extend(list2)"
   ]
  },
  {
   "cell_type": "code",
   "execution_count": 31,
   "metadata": {},
   "outputs": [
    {
     "data": {
      "text/plain": [
       "['a',\n",
       " 'b',\n",
       " 'c',\n",
       " 'd',\n",
       " 'e',\n",
       " 'f',\n",
       " 'g',\n",
       " 'h',\n",
       " 'i',\n",
       " 'j',\n",
       " 'k',\n",
       " 'l',\n",
       " 'm',\n",
       " 'n',\n",
       " 'o',\n",
       " 'p',\n",
       " 'q',\n",
       " 'r',\n",
       " 's',\n",
       " 't',\n",
       " 'u',\n",
       " 'v',\n",
       " 'w',\n",
       " 'x',\n",
       " 'y',\n",
       " 'z',\n",
       " 'A',\n",
       " 'B',\n",
       " 'C',\n",
       " 'D',\n",
       " 'E',\n",
       " 'F',\n",
       " 'G',\n",
       " 'H',\n",
       " 'I',\n",
       " 'J',\n",
       " 'K',\n",
       " 'L',\n",
       " 'M',\n",
       " 'N',\n",
       " 'O',\n",
       " 'P',\n",
       " 'Q',\n",
       " 'R',\n",
       " 'S',\n",
       " 'T',\n",
       " 'U',\n",
       " 'V',\n",
       " 'W',\n",
       " 'X',\n",
       " 'Y',\n",
       " 'Z']"
      ]
     },
     "execution_count": 31,
     "metadata": {},
     "output_type": "execute_result"
    }
   ],
   "source": [
    "list1"
   ]
  },
  {
   "cell_type": "code",
   "execution_count": 32,
   "metadata": {},
   "outputs": [
    {
     "data": {
      "text/plain": [
       "0         100\n",
       "1          10\n",
       "2         350\n",
       "3         100\n",
       "4         160\n",
       "         ... \n",
       "299995     30\n",
       "299996    380\n",
       "299997    270\n",
       "299998    200\n",
       "299999    190\n",
       "Name: ord_5, Length: 300000, dtype: int64"
      ]
     },
     "execution_count": 32,
     "metadata": {},
     "output_type": "execute_result"
    }
   ],
   "source": [
    "df2[\"ord_5\"].apply(lambda x: x[0]).map({k:v*10 for v,k in enumerate(list1)})"
   ]
  },
  {
   "cell_type": "code",
   "execution_count": 33,
   "metadata": {},
   "outputs": [
    {
     "name": "stderr",
     "output_type": "stream",
     "text": [
      "/home/ryosuke/miniconda3/envs/myanaconda/lib/python3.7/site-packages/ipykernel_launcher.py:2: SettingWithCopyWarning: \n",
      "A value is trying to be set on a copy of a slice from a DataFrame.\n",
      "Try using .loc[row_indexer,col_indexer] = value instead\n",
      "\n",
      "See the caveats in the documentation: http://pandas.pydata.org/pandas-docs/stable/user_guide/indexing.html#returning-a-view-versus-a-copy\n",
      "  \n"
     ]
    }
   ],
   "source": [
    "df2[\"ord_5\"] = df2[\"ord_5\"].apply(lambda x: x[0]).map({k:v*10 for v,k in enumerate(list1)}) +\\\n",
    "df2[\"ord_5\"].apply(lambda x: x[1]).map({k:v for v,k in enumerate(list1)})"
   ]
  },
  {
   "cell_type": "code",
   "execution_count": 34,
   "metadata": {},
   "outputs": [
    {
     "data": {
      "text/html": [
       "<div>\n",
       "<style scoped>\n",
       "    .dataframe tbody tr th:only-of-type {\n",
       "        vertical-align: middle;\n",
       "    }\n",
       "\n",
       "    .dataframe tbody tr th {\n",
       "        vertical-align: top;\n",
       "    }\n",
       "\n",
       "    .dataframe thead th {\n",
       "        text-align: right;\n",
       "    }\n",
       "</style>\n",
       "<table border=\"1\" class=\"dataframe\">\n",
       "  <thead>\n",
       "    <tr style=\"text-align: right;\">\n",
       "      <th></th>\n",
       "      <th>bin_3</th>\n",
       "      <th>bin_4</th>\n",
       "      <th>nom_0</th>\n",
       "      <th>nom_1</th>\n",
       "      <th>nom_2</th>\n",
       "      <th>nom_3</th>\n",
       "      <th>nom_4</th>\n",
       "      <th>nom_5</th>\n",
       "      <th>nom_6</th>\n",
       "      <th>nom_7</th>\n",
       "      <th>nom_8</th>\n",
       "      <th>nom_9</th>\n",
       "      <th>ord_1</th>\n",
       "      <th>ord_2</th>\n",
       "      <th>ord_3</th>\n",
       "      <th>ord_4</th>\n",
       "      <th>ord_5</th>\n",
       "    </tr>\n",
       "  </thead>\n",
       "  <tbody>\n",
       "    <tr>\n",
       "      <td>0</td>\n",
       "      <td>1</td>\n",
       "      <td>1</td>\n",
       "      <td>1</td>\n",
       "      <td>5</td>\n",
       "      <td>5</td>\n",
       "      <td>3</td>\n",
       "      <td>0</td>\n",
       "      <td>21727636431</td>\n",
       "      <td>15772387348</td>\n",
       "      <td>28175946729</td>\n",
       "      <td>52488569003</td>\n",
       "      <td>12696894801</td>\n",
       "      <td>4</td>\n",
       "      <td>1</td>\n",
       "      <td>7</td>\n",
       "      <td>3</td>\n",
       "      <td>117</td>\n",
       "    </tr>\n",
       "    <tr>\n",
       "      <td>1</td>\n",
       "      <td>1</td>\n",
       "      <td>1</td>\n",
       "      <td>1</td>\n",
       "      <td>4</td>\n",
       "      <td>3</td>\n",
       "      <td>5</td>\n",
       "      <td>2</td>\n",
       "      <td>48239551952</td>\n",
       "      <td>67590492097</td>\n",
       "      <td>15952860690</td>\n",
       "      <td>20628767313</td>\n",
       "      <td>66635263009</td>\n",
       "      <td>4</td>\n",
       "      <td>3</td>\n",
       "      <td>0</td>\n",
       "      <td>0</td>\n",
       "      <td>41</td>\n",
       "    </tr>\n",
       "    <tr>\n",
       "      <td>2</td>\n",
       "      <td>0</td>\n",
       "      <td>1</td>\n",
       "      <td>0</td>\n",
       "      <td>4</td>\n",
       "      <td>4</td>\n",
       "      <td>5</td>\n",
       "      <td>3</td>\n",
       "      <td>13526359269</td>\n",
       "      <td>2452503736</td>\n",
       "      <td>44731659559</td>\n",
       "      <td>59756902020</td>\n",
       "      <td>46816824784</td>\n",
       "      <td>2</td>\n",
       "      <td>5</td>\n",
       "      <td>7</td>\n",
       "      <td>17</td>\n",
       "      <td>352</td>\n",
       "    </tr>\n",
       "    <tr>\n",
       "      <td>3</td>\n",
       "      <td>0</td>\n",
       "      <td>1</td>\n",
       "      <td>2</td>\n",
       "      <td>4</td>\n",
       "      <td>5</td>\n",
       "      <td>0</td>\n",
       "      <td>1</td>\n",
       "      <td>64728884626</td>\n",
       "      <td>21700990058</td>\n",
       "      <td>63461013227</td>\n",
       "      <td>20097444713</td>\n",
       "      <td>35015036273</td>\n",
       "      <td>4</td>\n",
       "      <td>4</td>\n",
       "      <td>8</td>\n",
       "      <td>3</td>\n",
       "      <td>148</td>\n",
       "    </tr>\n",
       "    <tr>\n",
       "      <td>4</td>\n",
       "      <td>0</td>\n",
       "      <td>0</td>\n",
       "      <td>2</td>\n",
       "      <td>4</td>\n",
       "      <td>4</td>\n",
       "      <td>0</td>\n",
       "      <td>1</td>\n",
       "      <td>24443727061</td>\n",
       "      <td>8557928957</td>\n",
       "      <td>1306182334</td>\n",
       "      <td>54563352949</td>\n",
       "      <td>47618683559</td>\n",
       "      <td>4</td>\n",
       "      <td>0</td>\n",
       "      <td>0</td>\n",
       "      <td>17</td>\n",
       "      <td>201</td>\n",
       "    </tr>\n",
       "    <tr>\n",
       "      <td>...</td>\n",
       "      <td>...</td>\n",
       "      <td>...</td>\n",
       "      <td>...</td>\n",
       "      <td>...</td>\n",
       "      <td>...</td>\n",
       "      <td>...</td>\n",
       "      <td>...</td>\n",
       "      <td>...</td>\n",
       "      <td>...</td>\n",
       "      <td>...</td>\n",
       "      <td>...</td>\n",
       "      <td>...</td>\n",
       "      <td>...</td>\n",
       "      <td>...</td>\n",
       "      <td>...</td>\n",
       "      <td>...</td>\n",
       "      <td>...</td>\n",
       "    </tr>\n",
       "    <tr>\n",
       "      <td>299995</td>\n",
       "      <td>1</td>\n",
       "      <td>0</td>\n",
       "      <td>2</td>\n",
       "      <td>4</td>\n",
       "      <td>5</td>\n",
       "      <td>4</td>\n",
       "      <td>1</td>\n",
       "      <td>14485399999</td>\n",
       "      <td>32358693610</td>\n",
       "      <td>36147448992</td>\n",
       "      <td>31416340209</td>\n",
       "      <td>60171349231</td>\n",
       "      <td>1</td>\n",
       "      <td>0</td>\n",
       "      <td>10</td>\n",
       "      <td>10</td>\n",
       "      <td>37</td>\n",
       "    </tr>\n",
       "    <tr>\n",
       "      <td>299996</td>\n",
       "      <td>0</td>\n",
       "      <td>1</td>\n",
       "      <td>1</td>\n",
       "      <td>4</td>\n",
       "      <td>4</td>\n",
       "      <td>5</td>\n",
       "      <td>2</td>\n",
       "      <td>19108194839</td>\n",
       "      <td>15995582576</td>\n",
       "      <td>52686091432</td>\n",
       "      <td>15432745588</td>\n",
       "      <td>34612711880</td>\n",
       "      <td>0</td>\n",
       "      <td>0</td>\n",
       "      <td>7</td>\n",
       "      <td>22</td>\n",
       "      <td>420</td>\n",
       "    </tr>\n",
       "    <tr>\n",
       "      <td>299997</td>\n",
       "      <td>0</td>\n",
       "      <td>1</td>\n",
       "      <td>0</td>\n",
       "      <td>3</td>\n",
       "      <td>0</td>\n",
       "      <td>5</td>\n",
       "      <td>1</td>\n",
       "      <td>3739857818</td>\n",
       "      <td>25843487966</td>\n",
       "      <td>50089431811</td>\n",
       "      <td>25090355027</td>\n",
       "      <td>13234913627</td>\n",
       "      <td>0</td>\n",
       "      <td>4</td>\n",
       "      <td>14</td>\n",
       "      <td>0</td>\n",
       "      <td>283</td>\n",
       "    </tr>\n",
       "    <tr>\n",
       "      <td>299998</td>\n",
       "      <td>0</td>\n",
       "      <td>1</td>\n",
       "      <td>1</td>\n",
       "      <td>2</td>\n",
       "      <td>0</td>\n",
       "      <td>2</td>\n",
       "      <td>2</td>\n",
       "      <td>60487676017</td>\n",
       "      <td>976479</td>\n",
       "      <td>53869865492</td>\n",
       "      <td>8457865166</td>\n",
       "      <td>45915969835</td>\n",
       "      <td>3</td>\n",
       "      <td>4</td>\n",
       "      <td>7</td>\n",
       "      <td>22</td>\n",
       "      <td>235</td>\n",
       "    </tr>\n",
       "    <tr>\n",
       "      <td>299999</td>\n",
       "      <td>0</td>\n",
       "      <td>1</td>\n",
       "      <td>0</td>\n",
       "      <td>4</td>\n",
       "      <td>2</td>\n",
       "      <td>5</td>\n",
       "      <td>0</td>\n",
       "      <td>17560040363</td>\n",
       "      <td>37878180217</td>\n",
       "      <td>51661175616</td>\n",
       "      <td>51872263135</td>\n",
       "      <td>46467590981</td>\n",
       "      <td>1</td>\n",
       "      <td>0</td>\n",
       "      <td>8</td>\n",
       "      <td>17</td>\n",
       "      <td>231</td>\n",
       "    </tr>\n",
       "  </tbody>\n",
       "</table>\n",
       "<p>300000 rows × 17 columns</p>\n",
       "</div>"
      ],
      "text/plain": [
       "        bin_3  bin_4  nom_0  nom_1  nom_2  nom_3  nom_4        nom_5  \\\n",
       "0           1      1      1      5      5      3      0  21727636431   \n",
       "1           1      1      1      4      3      5      2  48239551952   \n",
       "2           0      1      0      4      4      5      3  13526359269   \n",
       "3           0      1      2      4      5      0      1  64728884626   \n",
       "4           0      0      2      4      4      0      1  24443727061   \n",
       "...       ...    ...    ...    ...    ...    ...    ...          ...   \n",
       "299995      1      0      2      4      5      4      1  14485399999   \n",
       "299996      0      1      1      4      4      5      2  19108194839   \n",
       "299997      0      1      0      3      0      5      1   3739857818   \n",
       "299998      0      1      1      2      0      2      2  60487676017   \n",
       "299999      0      1      0      4      2      5      0  17560040363   \n",
       "\n",
       "              nom_6        nom_7        nom_8        nom_9  ord_1  ord_2  \\\n",
       "0       15772387348  28175946729  52488569003  12696894801      4      1   \n",
       "1       67590492097  15952860690  20628767313  66635263009      4      3   \n",
       "2        2452503736  44731659559  59756902020  46816824784      2      5   \n",
       "3       21700990058  63461013227  20097444713  35015036273      4      4   \n",
       "4        8557928957   1306182334  54563352949  47618683559      4      0   \n",
       "...             ...          ...          ...          ...    ...    ...   \n",
       "299995  32358693610  36147448992  31416340209  60171349231      1      0   \n",
       "299996  15995582576  52686091432  15432745588  34612711880      0      0   \n",
       "299997  25843487966  50089431811  25090355027  13234913627      0      4   \n",
       "299998       976479  53869865492   8457865166  45915969835      3      4   \n",
       "299999  37878180217  51661175616  51872263135  46467590981      1      0   \n",
       "\n",
       "        ord_3  ord_4  ord_5  \n",
       "0           7      3    117  \n",
       "1           0      0     41  \n",
       "2           7     17    352  \n",
       "3           8      3    148  \n",
       "4           0     17    201  \n",
       "...       ...    ...    ...  \n",
       "299995     10     10     37  \n",
       "299996      7     22    420  \n",
       "299997     14      0    283  \n",
       "299998      7     22    235  \n",
       "299999      8     17    231  \n",
       "\n",
       "[300000 rows x 17 columns]"
      ]
     },
     "execution_count": 34,
     "metadata": {},
     "output_type": "execute_result"
    }
   ],
   "source": [
    "df2"
   ]
  },
  {
   "cell_type": "code",
   "execution_count": 35,
   "metadata": {},
   "outputs": [],
   "source": [
    "#df2_ = pd.get_dummies(df2)"
   ]
  },
  {
   "cell_type": "code",
   "execution_count": 36,
   "metadata": {},
   "outputs": [
    {
     "data": {
      "text/plain": [
       "(300000, 17)"
      ]
     },
     "execution_count": 36,
     "metadata": {},
     "output_type": "execute_result"
    }
   ],
   "source": [
    "df2.shape"
   ]
  },
  {
   "cell_type": "code",
   "execution_count": 37,
   "metadata": {},
   "outputs": [],
   "source": [
    "df = pd.concat([df1, df2], axis=1)"
   ]
  },
  {
   "cell_type": "code",
   "execution_count": 38,
   "metadata": {},
   "outputs": [],
   "source": [
    "del [df2, df1]"
   ]
  },
  {
   "cell_type": "code",
   "execution_count": 39,
   "metadata": {},
   "outputs": [
    {
     "data": {
      "text/plain": [
       "(300000, 24)"
      ]
     },
     "execution_count": 39,
     "metadata": {},
     "output_type": "execute_result"
    }
   ],
   "source": [
    "df.shape"
   ]
  },
  {
   "cell_type": "code",
   "execution_count": 40,
   "metadata": {},
   "outputs": [
    {
     "data": {
      "image/png": "[encoded data removed]",
      "text/plain": [
       "<Figure size 432x288 with 1 Axes>"
      ]
     },
     "metadata": {
      "needs_background": "light"
     },
     "output_type": "display_data"
    }
   ],
   "source": [
    "df[\"target\"].plot.hist();"
   ]
  },
  {
   "cell_type": "code",
   "execution_count": 41,
   "metadata": {},
   "outputs": [
    {
     "data": {
      "text/html": [
       "<div>\n",
       "<style scoped>\n",
       "    .dataframe tbody tr th:only-of-type {\n",
       "        vertical-align: middle;\n",
       "    }\n",
       "\n",
       "    .dataframe tbody tr th {\n",
       "        vertical-align: top;\n",
       "    }\n",
       "\n",
       "    .dataframe thead th {\n",
       "        text-align: right;\n",
       "    }\n",
       "</style>\n",
       "<table border=\"1\" class=\"dataframe\">\n",
       "  <thead>\n",
       "    <tr style=\"text-align: right;\">\n",
       "      <th></th>\n",
       "      <th>nom_0</th>\n",
       "      <th>nom_1</th>\n",
       "      <th>nom_2</th>\n",
       "      <th>nom_3</th>\n",
       "      <th>nom_4</th>\n",
       "      <th>nom_5</th>\n",
       "      <th>nom_6</th>\n",
       "      <th>nom_7</th>\n",
       "      <th>nom_8</th>\n",
       "      <th>nom_9</th>\n",
       "    </tr>\n",
       "  </thead>\n",
       "  <tbody>\n",
       "    <tr>\n",
       "      <td>nom_0</td>\n",
       "      <td>1.000000</td>\n",
       "      <td>0.000584</td>\n",
       "      <td>0.002540</td>\n",
       "      <td>-0.001180</td>\n",
       "      <td>0.001874</td>\n",
       "      <td>0.001297</td>\n",
       "      <td>-0.000510</td>\n",
       "      <td>-0.003090</td>\n",
       "      <td>-0.001191</td>\n",
       "      <td>-0.000655</td>\n",
       "    </tr>\n",
       "    <tr>\n",
       "      <td>nom_1</td>\n",
       "      <td>0.000584</td>\n",
       "      <td>1.000000</td>\n",
       "      <td>0.001541</td>\n",
       "      <td>-0.000990</td>\n",
       "      <td>0.003171</td>\n",
       "      <td>0.000861</td>\n",
       "      <td>0.001020</td>\n",
       "      <td>0.000966</td>\n",
       "      <td>-0.000589</td>\n",
       "      <td>0.002718</td>\n",
       "    </tr>\n",
       "    <tr>\n",
       "      <td>nom_2</td>\n",
       "      <td>0.002540</td>\n",
       "      <td>0.001541</td>\n",
       "      <td>1.000000</td>\n",
       "      <td>-0.002646</td>\n",
       "      <td>-0.001828</td>\n",
       "      <td>-0.000456</td>\n",
       "      <td>0.001933</td>\n",
       "      <td>-0.002129</td>\n",
       "      <td>-0.002076</td>\n",
       "      <td>0.005596</td>\n",
       "    </tr>\n",
       "    <tr>\n",
       "      <td>nom_3</td>\n",
       "      <td>-0.001180</td>\n",
       "      <td>-0.000990</td>\n",
       "      <td>-0.002646</td>\n",
       "      <td>1.000000</td>\n",
       "      <td>-0.001529</td>\n",
       "      <td>-0.001079</td>\n",
       "      <td>-0.000772</td>\n",
       "      <td>0.000210</td>\n",
       "      <td>0.002945</td>\n",
       "      <td>0.004464</td>\n",
       "    </tr>\n",
       "    <tr>\n",
       "      <td>nom_4</td>\n",
       "      <td>0.001874</td>\n",
       "      <td>0.003171</td>\n",
       "      <td>-0.001828</td>\n",
       "      <td>-0.001529</td>\n",
       "      <td>1.000000</td>\n",
       "      <td>0.000737</td>\n",
       "      <td>0.002503</td>\n",
       "      <td>0.003589</td>\n",
       "      <td>0.001570</td>\n",
       "      <td>-0.001985</td>\n",
       "    </tr>\n",
       "    <tr>\n",
       "      <td>nom_5</td>\n",
       "      <td>0.001297</td>\n",
       "      <td>0.000861</td>\n",
       "      <td>-0.000456</td>\n",
       "      <td>-0.001079</td>\n",
       "      <td>0.000737</td>\n",
       "      <td>1.000000</td>\n",
       "      <td>0.001116</td>\n",
       "      <td>0.002611</td>\n",
       "      <td>-0.001691</td>\n",
       "      <td>-0.001141</td>\n",
       "    </tr>\n",
       "    <tr>\n",
       "      <td>nom_6</td>\n",
       "      <td>-0.000510</td>\n",
       "      <td>0.001020</td>\n",
       "      <td>0.001933</td>\n",
       "      <td>-0.000772</td>\n",
       "      <td>0.002503</td>\n",
       "      <td>0.001116</td>\n",
       "      <td>1.000000</td>\n",
       "      <td>-0.000597</td>\n",
       "      <td>-0.000699</td>\n",
       "      <td>-0.004329</td>\n",
       "    </tr>\n",
       "    <tr>\n",
       "      <td>nom_7</td>\n",
       "      <td>-0.003090</td>\n",
       "      <td>0.000966</td>\n",
       "      <td>-0.002129</td>\n",
       "      <td>0.000210</td>\n",
       "      <td>0.003589</td>\n",
       "      <td>0.002611</td>\n",
       "      <td>-0.000597</td>\n",
       "      <td>1.000000</td>\n",
       "      <td>-0.000572</td>\n",
       "      <td>-0.000198</td>\n",
       "    </tr>\n",
       "    <tr>\n",
       "      <td>nom_8</td>\n",
       "      <td>-0.001191</td>\n",
       "      <td>-0.000589</td>\n",
       "      <td>-0.002076</td>\n",
       "      <td>0.002945</td>\n",
       "      <td>0.001570</td>\n",
       "      <td>-0.001691</td>\n",
       "      <td>-0.000699</td>\n",
       "      <td>-0.000572</td>\n",
       "      <td>1.000000</td>\n",
       "      <td>-0.000882</td>\n",
       "    </tr>\n",
       "    <tr>\n",
       "      <td>nom_9</td>\n",
       "      <td>-0.000655</td>\n",
       "      <td>0.002718</td>\n",
       "      <td>0.005596</td>\n",
       "      <td>0.004464</td>\n",
       "      <td>-0.001985</td>\n",
       "      <td>-0.001141</td>\n",
       "      <td>-0.004329</td>\n",
       "      <td>-0.000198</td>\n",
       "      <td>-0.000882</td>\n",
       "      <td>1.000000</td>\n",
       "    </tr>\n",
       "  </tbody>\n",
       "</table>\n",
       "</div>"
      ],
      "text/plain": [
       "          nom_0     nom_1     nom_2     nom_3     nom_4     nom_5     nom_6  \\\n",
       "nom_0  1.000000  0.000584  0.002540 -0.001180  0.001874  0.001297 -0.000510   \n",
       "nom_1  0.000584  1.000000  0.001541 -0.000990  0.003171  0.000861  0.001020   \n",
       "nom_2  0.002540  0.001541  1.000000 -0.002646 -0.001828 -0.000456  0.001933   \n",
       "nom_3 -0.001180 -0.000990 -0.002646  1.000000 -0.001529 -0.001079 -0.000772   \n",
       "nom_4  0.001874  0.003171 -0.001828 -0.001529  1.000000  0.000737  0.002503   \n",
       "nom_5  0.001297  0.000861 -0.000456 -0.001079  0.000737  1.000000  0.001116   \n",
       "nom_6 -0.000510  0.001020  0.001933 -0.000772  0.002503  0.001116  1.000000   \n",
       "nom_7 -0.003090  0.000966 -0.002129  0.000210  0.003589  0.002611 -0.000597   \n",
       "nom_8 -0.001191 -0.000589 -0.002076  0.002945  0.001570 -0.001691 -0.000699   \n",
       "nom_9 -0.000655  0.002718  0.005596  0.004464 -0.001985 -0.001141 -0.004329   \n",
       "\n",
       "          nom_7     nom_8     nom_9  \n",
       "nom_0 -0.003090 -0.001191 -0.000655  \n",
       "nom_1  0.000966 -0.000589  0.002718  \n",
       "nom_2 -0.002129 -0.002076  0.005596  \n",
       "nom_3  0.000210  0.002945  0.004464  \n",
       "nom_4  0.003589  0.001570 -0.001985  \n",
       "nom_5  0.002611 -0.001691 -0.001141  \n",
       "nom_6 -0.000597 -0.000699 -0.004329  \n",
       "nom_7  1.000000 -0.000572 -0.000198  \n",
       "nom_8 -0.000572  1.000000 -0.000882  \n",
       "nom_9 -0.000198 -0.000882  1.000000  "
      ]
     },
     "execution_count": 41,
     "metadata": {},
     "output_type": "execute_result"
    }
   ],
   "source": [
    "df[df.columns[df.columns.str.contains(\"nom_\")]].corr()"
   ]
  },
  {
   "cell_type": "code",
   "execution_count": 42,
   "metadata": {},
   "outputs": [
    {
     "data": {
      "image/png": "[encoded data removed]",
      "text/plain": [
       "<Figure size 288x288 with 1 Axes>"
      ]
     },
     "metadata": {
      "needs_background": "light"
     },
     "output_type": "display_data"
    }
   ],
   "source": [
    "plt.matshow(df[df.columns[df.columns.str.contains(\"nom_\")]].corr())\n",
    "plt.show()"
   ]
  },
  {
   "cell_type": "code",
   "execution_count": null,
   "metadata": {},
   "outputs": [],
   "source": []
  },
  {
   "cell_type": "code",
   "execution_count": null,
   "metadata": {},
   "outputs": [],
   "source": []
  },
  {
   "cell_type": "code",
   "execution_count": null,
   "metadata": {},
   "outputs": [],
   "source": []
  },
  {
   "cell_type": "code",
   "execution_count": null,
   "metadata": {},
   "outputs": [],
   "source": []
  },
  {
   "cell_type": "code",
   "execution_count": null,
   "metadata": {},
   "outputs": [],
   "source": []
  },
  {
   "cell_type": "code",
   "execution_count": 43,
   "metadata": {},
   "outputs": [],
   "source": [
    "y = df[\"target\"].values"
   ]
  },
  {
   "cell_type": "code",
   "execution_count": null,
   "metadata": {},
   "outputs": [],
   "source": []
  },
  {
   "cell_type": "code",
   "execution_count": 44,
   "metadata": {},
   "outputs": [],
   "source": [
    "df.drop([\"target\"], axis=1, inplace=True)"
   ]
  },
  {
   "cell_type": "code",
   "execution_count": 45,
   "metadata": {},
   "outputs": [],
   "source": [
    "X = df.values"
   ]
  },
  {
   "cell_type": "code",
   "execution_count": 46,
   "metadata": {},
   "outputs": [],
   "source": [
    "del df"
   ]
  },
  {
   "cell_type": "code",
   "execution_count": 47,
   "metadata": {},
   "outputs": [
    {
     "name": "stdout",
     "output_type": "stream",
     "text": [
      "(300000, 23) (300000,)\n"
     ]
    }
   ],
   "source": [
    "print(X.shape, y.shape)"
   ]
  },
  {
   "cell_type": "code",
   "execution_count": 48,
   "metadata": {},
   "outputs": [],
   "source": [
    "X_train, X_test, y_train, y_test = train_test_split(X, y, test_size=0.33, random_state=42)"
   ]
  },
  {
   "cell_type": "code",
   "execution_count": 49,
   "metadata": {},
   "outputs": [],
   "source": [
    "#clf = load('clf.joblib') "
   ]
  },
  {
   "cell_type": "code",
   "execution_count": 50,
   "metadata": {},
   "outputs": [],
   "source": [
    "#clf = GradientBoostingClassifier(n_estimators=1000, learning_rate=0.1, \n",
    "#                                 max_depth=7, random_state=0).fit(X_train, y_train)\n",
    "#clf.score(X_test, y_test)"
   ]
  },
  {
   "cell_type": "code",
   "execution_count": 51,
   "metadata": {},
   "outputs": [],
   "source": [
    "#clf = GradientBoostingClassifier(n_estimators=1200, learning_rate=0.01, \n",
    "#                                 max_depth=15, random_state=0).fit(X_train, y_train)\n",
    "#clf.score(X_test, y_test)"
   ]
  },
  {
   "cell_type": "code",
   "execution_count": 52,
   "metadata": {},
   "outputs": [
    {
     "data": {
      "text/plain": [
       "0.7442626262626263"
      ]
     },
     "execution_count": 52,
     "metadata": {},
     "output_type": "execute_result"
    }
   ],
   "source": [
    "clf = GradientBoostingClassifier(n_estimators=1000, learning_rate=0.1, \n",
    "                                 max_depth=7, random_state=0)\n",
    "clf.fit(X_train, y_train)\n",
    "clf.score(X_test, y_test)"
   ]
  },
  {
   "cell_type": "code",
   "execution_count": 55,
   "metadata": {},
   "outputs": [
    {
     "data": {
      "text/plain": [
       "GradientBoostingClassifier(criterion='friedman_mse', init=None,\n",
       "                           learning_rate=0.1, loss='deviance', max_depth=7,\n",
       "                           max_features=None, max_leaf_nodes=None,\n",
       "                           min_impurity_decrease=0.0, min_impurity_split=None,\n",
       "                           min_samples_leaf=1, min_samples_split=2,\n",
       "                           min_weight_fraction_leaf=0.0, n_estimators=1000,\n",
       "                           n_iter_no_change=None, presort='auto',\n",
       "                           random_state=0, subsample=1.0, tol=0.0001,\n",
       "                           validation_fraction=0.1, verbose=0,\n",
       "                           warm_start=False)"
      ]
     },
     "execution_count": 55,
     "metadata": {},
     "output_type": "execute_result"
    }
   ],
   "source": [
    "clf.fit(X, y)"
   ]
  },
  {
   "cell_type": "code",
   "execution_count": 56,
   "metadata": {},
   "outputs": [
    {
     "data": {
      "text/plain": [
       "['clf.joblib']"
      ]
     },
     "execution_count": 56,
     "metadata": {},
     "output_type": "execute_result"
    }
   ],
   "source": [
    "dump(clf, 'clf.joblib') "
   ]
  },
  {
   "cell_type": "code",
   "execution_count": 54,
   "metadata": {},
   "outputs": [],
   "source": [
    "# test\n",
    "#df = pd.read_csv(\"test.csv\")\n",
    "#df[\"target\"] = clf.predict()\n",
    "#sub = df[[\"id\", \"target\"]]\n",
    "#sub.to_csv(\"submission.csv\", index=False)"
   ]
  }
 ],
 "metadata": {
  "kernelspec": {
   "display_name": "Python 3",
   "language": "python",
   "name": "python3"
  },
  "language_info": {
   "codemirror_mode": {
    "name": "ipython",
    "version": 3
   },
   "file_extension": ".py",
   "mimetype": "text/x-python",
   "name": "python",
   "nbconvert_exporter": "python",
   "pygments_lexer": "ipython3",
   "version": "3.7.4"
  }
 },
 "nbformat": 4,
 "nbformat_minor": 4
}
